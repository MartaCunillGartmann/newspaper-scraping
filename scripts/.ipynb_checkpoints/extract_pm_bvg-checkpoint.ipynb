{
 "cells": [
  {
   "cell_type": "code",
   "execution_count": 1,
   "id": "a53eb1d9-30fd-4eb1-aae0-ea7d871293c6",
   "metadata": {},
   "outputs": [],
   "source": [
    "# Import benötigte Pakete\n",
    "import requests\n",
    "from bs4 import BeautifulSoup\n",
    "import os"
   ]
  },
  {
   "cell_type": "code",
   "execution_count": 2,
   "id": "45b9af47-54b2-4e55-b3c5-72a7416835dd",
   "metadata": {},
   "outputs": [],
   "source": [
    "# Speicherpfad für die BVG-Pressemitteilungen\n",
    "PM_PATH = os.path.join(\"input\", \"raw\", \"bvg_pm\")  \n",
    "os.makedirs(PM_PATH, exist_ok=True)"
   ]
  },
  {
   "cell_type": "code",
   "execution_count": 3,
   "id": "d05c034e-406a-4a24-b640-c2f521037094",
   "metadata": {},
   "outputs": [
    {
     "name": "stdout",
     "output_type": "stream",
     "text": [
      "/de/unternehmen/medienportal/pressemitteilungen#main\n",
      "/de\n",
      "/de\n",
      "/de/verbindungen\n",
      "/de/abos-und-tickets\n",
      "/de/service-und-kontakt\n",
      "/de/bvg-konto\n",
      "/de/unternehmen/medienportal\n",
      "/de\n",
      "/de/unternehmen\n"
     ]
    }
   ],
   "source": [
    "# BVG-Pressemitteilungen-Webseite laden & inspiziere die Links\n",
    "url = \"https://www.bvg.de/de/unternehmen/medienportal/pressemitteilungen\"\n",
    "response = requests.get(url)\n",
    "soup = BeautifulSoup(response.text, \"html.parser\")\n",
    "\n",
    "# Alle Links auf der Seite anzeigen\n",
    "links = soup.find_all(\"a\")\n",
    "\n",
    "# Vorschau auf die ersten 10\n",
    "for link in links[:10]:\n",
    "    print(link.get(\"href\"))"
   ]
  },
  {
   "cell_type": "code",
   "execution_count": 4,
   "id": "2e3b4af3-e048-4f53-8a8e-8d54caf2d9cd",
   "metadata": {},
   "outputs": [],
   "source": [
    "import undetected_chromedriver as uc\n",
    "from selenium.webdriver.common.by import By\n",
    "import time\n"
   ]
  },
  {
   "cell_type": "code",
   "execution_count": 5,
   "id": "d2a0e770-4003-4746-bc71-b1b9015e2fe8",
   "metadata": {},
   "outputs": [
    {
     "name": "stdout",
     "output_type": "stream",
     "text": [
      "Seitenüberschrift: Pressemitteilungen\n"
     ]
    }
   ],
   "source": [
    "# Starte Chrome\n",
    "driver = uc.Chrome()\n",
    "\n",
    "# Seite öffnen\n",
    "driver.get(\"https://www.bvg.de/de/unternehmen/medienportal/pressemitteilungen\")\n",
    "time.sleep(5)\n",
    "\n",
    "# Beispiel: Überschrift extrahieren\n",
    "headline = driver.find_element(By.TAG_NAME, \"h1\").text\n",
    "print(\"Seitenüberschrift:\", headline)\n",
    "\n",
    "driver.quit()"
   ]
  },
  {
   "cell_type": "code",
   "execution_count": 6,
   "id": "27653fda-683b-462b-8b64-44d7399e8d60",
   "metadata": {},
   "outputs": [
    {
     "name": "stdout",
     "output_type": "stream",
     "text": [
      "Fehler beim Link-Sammeln: HTTPConnectionPool(host='localhost', port=52715): Max retries exceeded with url: /session/629a178cdf7cf444e6f4b6de5d483c22/elements (Caused by NewConnectionError('<urllib3.connection.HTTPConnection object at 0x000002337DD92490>: Failed to establish a new connection: [WinError 10061] Es konnte keine Verbindung hergestellt werden, da der Zielcomputer die Verbindung verweigerte'))\n"
     ]
    }
   ],
   "source": [
    "# Alle Links sammeln, die auf Pressemitteilungen verweisen\n",
    "try:\n",
    "    links = driver.find_elements(By.CSS_SELECTOR, \"a[href^='/de/unternehmen/medienportal/pressemitteilungen/']\")\n",
    "    print(\"Gefundene Links:\", len(links))\n",
    "    for link in links[:5]:  # nur die ersten 5 anzeigen\n",
    "        print(link.get_attribute(\"href\"))\n",
    "except Exception as e:\n",
    "    print(\"Fehler beim Link-Sammeln:\", e)\n",
    "\n",
    "# Browser sauber beenden\n",
    "driver.quit()"
   ]
  },
  {
   "cell_type": "code",
   "execution_count": null,
   "id": "223e1b17-dfe0-431d-bf6a-77ceec1c3286",
   "metadata": {},
   "outputs": [],
   "source": []
  }
 ],
 "metadata": {
  "kernelspec": {
   "display_name": "Python 3 (ipykernel)",
   "language": "python",
   "name": "python3"
  },
  "language_info": {
   "codemirror_mode": {
    "name": "ipython",
    "version": 3
   },
   "file_extension": ".py",
   "mimetype": "text/x-python",
   "name": "python",
   "nbconvert_exporter": "python",
   "pygments_lexer": "ipython3",
   "version": "3.11.0"
  }
 },
 "nbformat": 4,
 "nbformat_minor": 5
}

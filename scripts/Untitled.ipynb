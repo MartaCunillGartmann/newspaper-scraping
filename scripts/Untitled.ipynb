{
 "cells": [
  {
   "cell_type": "code",
   "execution_count": 1,
   "id": "b97e4e93-63a0-45a9-81b6-8f2fae10f193",
   "metadata": {},
   "outputs": [],
   "source": [
    "import os\n",
    "from datetime import datetime\n",
    "import pandas as pd\n",
    "import requests"
   ]
  },
  {
   "cell_type": "markdown",
   "id": "063c8da8-53cf-4824-b7f4-95912962e6ff",
   "metadata": {},
   "source": [
    "Part 1: Manually scraping sz.de"
   ]
  },
  {
   "cell_type": "code",
   "execution_count": 2,
   "id": "d29b8204-60d0-4600-b911-cd777e6470e1",
   "metadata": {},
   "outputs": [],
   "source": [
    "url = \"http://sz.de\""
   ]
  },
  {
   "cell_type": "code",
   "execution_count": 5,
   "id": "561b01d4-7487-4e60-bf84-26c009ae6354",
   "metadata": {},
   "outputs": [],
   "source": [
    "response = requests.get(url, allow_redirects=True)"
   ]
  },
  {
   "cell_type": "code",
   "execution_count": 6,
   "id": "9828d89d-bf88-45a7-b369-e28e5265cab2",
   "metadata": {},
   "outputs": [
    {
     "data": {
      "text/plain": [
       "200"
      ]
     },
     "execution_count": 6,
     "metadata": {},
     "output_type": "execute_result"
    }
   ],
   "source": [
    "response.status_code"
   ]
  },
  {
   "cell_type": "code",
   "execution_count": 7,
   "id": "f2a3b8a3-654a-4956-a41a-13c5a9b6a6a0",
   "metadata": {},
   "outputs": [
    {
     "name": "stdout",
     "output_type": "stream",
     "text": [
      "<!DOCTYPE html><html lang=\"de\"><head><script type=\"text/javascript\">window.dataLayer = [{\"page.publisher\":\"sz\",\"page.platform_type\":\"standard\",\"page.brand_product\":\"sz_de\",\"page.object_id\":\"8\",\"page.docType\":\"homepage\",\"page.tech\":\"homie\",\"tech.robots_status\":\"true\",\"ads.adtag\":\"true\"}]</script><meta data-meta-viewport=\"true\" name=\"viewport\" content=\"width=device-width, initial-scale=1\"/>\n",
      "  <!--\n",
      "        ____               _      __           ___      __       __         _        __             __________   __\n",
      "       / __ )___ _      __(_)____/ /_     ____/ (_)____/ /_     / /_  ___  (_)  ____/ /__  _____   / ___/__  /  / /\n",
      "      / __  / _ \\ | /| / / / ___/ __ \\   / __  / / ___/ __ \\   / __ \\ [...]\n"
     ]
    }
   ],
   "source": [
    "print(response.text[0:700], \"[...]\")"
   ]
  },
  {
   "cell_type": "code",
   "execution_count": 8,
   "id": "d259b960-0e70-41a3-b2a1-d9333ee4b8b8",
   "metadata": {},
   "outputs": [
    {
     "data": {
      "text/plain": [
       "'utf-8'"
      ]
     },
     "execution_count": 8,
     "metadata": {},
     "output_type": "execute_result"
    }
   ],
   "source": [
    "response.encoding"
   ]
  },
  {
   "cell_type": "code",
   "execution_count": null,
   "id": "8ee2dfd3-3887-414e-8405-6690004cf98e",
   "metadata": {},
   "outputs": [],
   "source": []
  }
 ],
 "metadata": {
  "kernelspec": {
   "display_name": "Python 3 (ipykernel)",
   "language": "python",
   "name": "python3"
  },
  "language_info": {
   "codemirror_mode": {
    "name": "ipython",
    "version": 3
   },
   "file_extension": ".py",
   "mimetype": "text/x-python",
   "name": "python",
   "nbconvert_exporter": "python",
   "pygments_lexer": "ipython3",
   "version": "3.12.1"
  }
 },
 "nbformat": 4,
 "nbformat_minor": 5
}

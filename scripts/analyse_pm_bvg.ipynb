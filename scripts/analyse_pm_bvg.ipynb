{
 "cells": [
  {
   "cell_type": "code",
   "execution_count": 1,
   "id": "ea761aba-231b-453f-89c1-2c6336e53780",
   "metadata": {},
   "outputs": [
    {
     "name": "stdout",
     "output_type": "stream",
     "text": [
      "C:\\Users\\Marta\\AppData\\Local\\Programs\\Python\\Python312\\python.exe\n"
     ]
    }
   ],
   "source": [
    "import sys\n",
    "print(sys.executable)"
   ]
  },
  {
   "cell_type": "code",
   "execution_count": 2,
   "id": "b2046015-29c2-4548-b734-1ad1aaada2ea",
   "metadata": {},
   "outputs": [],
   "source": [
    "import fitz"
   ]
  },
  {
   "cell_type": "code",
   "execution_count": 3,
   "id": "d490f932-1aa1-4de5-a543-703eea485ea9",
   "metadata": {},
   "outputs": [
    {
     "name": "stdout",
     "output_type": "stream",
     "text": [
      "Existiert die Datei? True\n"
     ]
    }
   ],
   "source": [
    "import os\n",
    "\n",
    "filepath = \"../input/raw/bvg-pm/20230728_PM_Vielfalt_auf_ganzer_Linie.pdf\"\n",
    "print(\"Existiert die Datei?\", os.path.exists(filepath))"
   ]
  },
  {
   "cell_type": "code",
   "execution_count": 4,
   "id": "db7aa018-a575-46e1-ae75-6a8b7410d1b4",
   "metadata": {},
   "outputs": [],
   "source": [
    "# Pfad zu deiner PDF-Datei (z. B. im Ordner \"input/presse\")\n",
    "file_path = \"../input/raw/bvg-pm/20230728_PM_Vielfalt_auf_ganzer_Linie.pdf\""
   ]
  },
  {
   "cell_type": "code",
   "execution_count": 10,
   "id": "7ff3da64-984b-473c-aabf-fc1a30d5aa42",
   "metadata": {},
   "outputs": [],
   "source": [
    "# PDF öffnen\n",
    "doc = fitz.open(file_path)"
   ]
  },
  {
   "cell_type": "code",
   "execution_count": 11,
   "id": "9138b8b0-43be-4f26-bc38-2fd2d7b02c54",
   "metadata": {},
   "outputs": [],
   "source": [
    "pdf_text = \"\"\n",
    "for page in doc:\n",
    "    pdf_text += page.get_text()"
   ]
  },
  {
   "cell_type": "code",
   "execution_count": 12,
   "id": "0872ce4c-f10e-4bdf-89e8-0da1e13a146f",
   "metadata": {},
   "outputs": [
    {
     "name": "stdout",
     "output_type": "stream",
     "text": [
      " \n",
      " \n",
      " \n",
      " \n",
      "Pressemitteilung \n",
      " \n",
      " \n",
      " \n",
      "Berliner \n",
      "Verkehrsbetriebe (BVG) \n",
      "Anstalt des \n",
      "öffentlichen Rechts \n",
      "Holzmarktstraße 15–17 \n",
      "10179 Berlin \n",
      "Tel. +49 30 256-0 \n",
      "www.BVG.de \n",
      " \n",
      "Pressekontakt \n",
      "BVG-Pressestelle \n",
      "Tel. +49 30 256-27901 \n",
      "www.bvg.de/presse \n",
      "pressestelle@bvg.de \n",
      " \n",
      "Pressesprecher \n",
      "Stefan Volovinis \n",
      "Jannes Schwentu \n",
      "Markus Falkner \n",
      " \n",
      "Leitung Unternehmens-\n",
      "kommunikation \n",
      "Maja Weihgold \n",
      " \n",
      " \n",
      "Seite 1 von 2 \n",
      "Berlin, 28. Juli 2023 \n",
      " \n",
      "Vielfalt auf ganzer Linie \n",
      " \n",
      "Berlin wird noch vielfältiger – um zunächst fast 100 Meter. Der U-Bahnzug mit \n",
      "der Fahrzeugnummer 5009 wurde jetzt in der Werkstatt mit dem neuen Sitz-\n",
      "muster der BVG ausgestattet. Das „Muster der Vielfalt“ feiert damit seine Pre-\n",
      "miere im Untergrund. \n",
      " \n",
      "Rund 24 Stunden Arbeit stecken in der optischen Veränderung. 168 feste und \n",
      "32 Klappsitze wurden neu bezogen. Arbeit, die nicht zusätzlich angefallen ist, \n",
      "sondern ohnehin anstand. Denn – wie bereits angekündigt – soll der für die \n",
      "BVG entwickelte Sitzbezug immer dann neu in älteren Fahrzeugen aufgezo-\n",
      "gen werden, wenn Sitze oder Bezüge planmäßig oder nach Schäden ge-\n",
      "tauscht werden. Das spart Geld und sorgt dafür, dass durch den Musterwech-\n",
      "sel kein Fahrzeug länger als nötig in der Werkstatt stehen muss. \n",
      " \n",
      " \n",
      "Premiere: Der erste U-Bahnzug mit dem Sitzmuster der Vielfalt. Foto: BVG, Mulinarius \n",
      " \n",
      "„Bis alle Züge im neuen Muster unterwegs sind“, werden deshalb noch einige \n",
      "Jahre vergehen“, sagt U-Bahnchefin Nicole Grummini. „Umso mehr freuen wir \n",
      "uns, dass es nun auch bei der U-Bahn losgeht und wir heute den ersten Zug \n",
      "mit neuem Sitzdesign auf die Reise schicken können.“ \n",
      " \n",
      " \n",
      " \n",
      " \n",
      "Pressemitteilung \n",
      " \n",
      " \n",
      " \n",
      "Seite 2 von 2 \n",
      "Zug 5009, eines der durchgängigen Fahrzeuge der Baureihe H, ist nach dem \n",
      "Umbau der Sitze jetzt wieder im Linieneinsatz. Wer mitfahren möchte, hat am \n",
      "Nachmittag die größte Chance voraussichtlich zunächst auf der Linie U7. \n",
      " \n",
      "Das „Muster der Vielfalt“ wurde vor rund einem Jahr erstmals vorgestellt. Zu-\n",
      "erst war es im Bus unterwegs, inzwischen auch bei der Straßenbahn und nun \n",
      "– ganz neu – bei der U-Bahn. Das Design zeigt insgesamt 80 unterschiedliche \n",
      "Silhouetten, die all die verschiedenen Berliner*innen repräsentieren. Ob der \n",
      "Vater mit seinem Kind, das homosexuelle Paar, Rollstuhlfahrer*innen, die \n",
      "Frau, die Yoga macht, oder Rentner*innen mit ihrem Hund, sie alle fügen sich \n",
      "zusammen zu einem Muster, das so ist wie die BVG und Berlin – bunt, vielfäl-\n",
      "tig und unverwechselbar.  \n",
      " \n",
      "\n"
     ]
    }
   ],
   "source": [
    "# Ausgabe des vollständigen Textes\n",
    "print(pdf_text)"
   ]
  },
  {
   "cell_type": "code",
   "execution_count": 13,
   "id": "68e40253-2d83-4406-a8bf-b5cbae370b70",
   "metadata": {},
   "outputs": [],
   "source": [
    "def extract_pressetext(text):\n",
    "    lines = text.splitlines()\n",
    "    lines = [line.strip() for line in lines if line.strip()]  # leere Zeilen entfernen\n",
    "\n",
    "    # 1. Finde Datum (z. B. „Berlin, 28. Juli 2023“)\n",
    "    date_line = next((line for line in lines if \"Berlin,\" in line), None)\n",
    "\n",
    "    # 2. Finde den Titel (erste Zeile nach dem Datum, die kein Datum mehr ist)\n",
    "    date_index = lines.index(date_line) if date_line else 0\n",
    "    title = lines[date_index + 1] if date_index + 1 < len(lines) else \"\"\n",
    "\n",
    "    # 3. Textkörper: Alles ab 2 Zeilen nach Datum, bis etwas wie „Kontakt“ oder „Pressesprecher“ auftaucht\n",
    "    text_lines = lines[date_index + 2:]\n",
    "    cutoff_keywords = [\"Pressekontakt\", \"Pressesprecher\", \"Seite\", \"Kontakt\", \"Leitung\", \"Foto:\"]\n",
    "    clean_text = []\n",
    "    for line in text_lines:\n",
    "        if any(keyword.lower() in line.lower() for keyword in cutoff_keywords):\n",
    "            break\n",
    "        clean_text.append(line)\n",
    "\n",
    "    full_text = \" \".join(clean_text)\n",
    "\n",
    "    return {\n",
    "        \"date\": date_line,\n",
    "        \"title\": title,\n",
    "        \"text\": full_text\n",
    "    }"
   ]
  },
  {
   "cell_type": "code",
   "execution_count": 14,
   "id": "b1e744bb-9e60-49c4-94a7-946f7f2cce83",
   "metadata": {},
   "outputs": [],
   "source": [
    "# Aufbereiten\n",
    "result = extract_pressetext(pdf_text)"
   ]
  },
  {
   "cell_type": "code",
   "execution_count": 15,
   "id": "2a39756d-3b56-45ec-a6c5-635a87693a10",
   "metadata": {},
   "outputs": [
    {
     "name": "stdout",
     "output_type": "stream",
     "text": [
      "Datum: Berlin, 28. Juli 2023\n",
      "Titel: Vielfalt auf ganzer Linie\n",
      "Text: Berlin wird noch vielfältiger – um zunächst fast 100 Meter. Der U-Bahnzug mit der Fahrzeugnummer 5009 wurde jetzt in der Werkstatt mit dem neuen Sitz- muster der BVG ausgestattet. Das „Muster der Vielfalt“ feiert damit seine Pre- miere im Untergrund. Rund 24 Stunden Arbeit stecken in der optischen Veränderung. 168 feste und 32 Klappsitze wurden neu bezogen. Arbeit, die nicht zusätzlich angefallen ist, sondern ohnehin anstand. Denn – wie bereits angekündigt – soll der für die BVG entwickelte Sitz ...\n"
     ]
    }
   ],
   "source": [
    "# Ausgabe\n",
    "print(\"Datum:\", result[\"date\"])\n",
    "print(\"Titel:\", result[\"title\"])\n",
    "print(\"Text:\", result[\"text\"][:500], \"...\")  # Text gekürzt anzeigen"
   ]
  },
  {
   "cell_type": "code",
   "execution_count": null,
   "id": "a4423387-7b20-4e27-af9a-83b3e886a6c0",
   "metadata": {},
   "outputs": [],
   "source": []
  }
 ],
 "metadata": {
  "kernelspec": {
   "display_name": "Python 3 (ipykernel)",
   "language": "python",
   "name": "python3"
  },
  "language_info": {
   "codemirror_mode": {
    "name": "ipython",
    "version": 3
   },
   "file_extension": ".py",
   "mimetype": "text/x-python",
   "name": "python",
   "nbconvert_exporter": "python",
   "pygments_lexer": "ipython3",
   "version": "3.12.1"
  }
 },
 "nbformat": 4,
 "nbformat_minor": 5
}

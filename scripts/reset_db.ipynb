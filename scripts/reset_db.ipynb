{
 "cells": [
  {
   "cell_type": "code",
   "execution_count": null,
   "id": "a49a1af9",
   "metadata": {},
   "outputs": [],
   "source": [
    "# reset_db.ipynb\n",
    "import sqlite3\n",
    "import os\n",
    "\n",
    "\n",
    "PROJECT_ROOT = os.getcwd()  \n",
    "\n",
    "SQL_PATH = os.path.join(PROJECT_ROOT, \"..\", \"output\", \"dwh.sqlite3\")\n",
    "\n",
    "conn = sqlite3.connect(SQL_PATH)\n",
    "cursor = conn.cursor()\n",
    "\n",
    "# Nur einmal ausführen!\n",
    "cursor.execute(\"DROP TABLE IF EXISTS media_wordcount;\")\n",
    "cursor.execute(\"DROP TABLE IF EXISTS pm_bvg_valid;\")\n",
    "\n",
    "conn.commit()\n",
    "conn.close()"
   ]
  },
  {
   "cell_type": "code",
   "execution_count": 2,
   "id": "42a20659",
   "metadata": {},
   "outputs": [
    {
     "name": "stdout",
     "output_type": "stream",
     "text": [
      "Datei erfolgreich gelöscht.\n"
     ]
    }
   ],
   "source": [
    "import os\n",
    "\n",
    "PROJECT_ROOT = os.getcwd()  \n",
    "FILE_TO_DELETE = os.path.join(PROJECT_ROOT, \"..\", \"output\", \"dwh_pm_bvg_clean.sqlite3\")\n",
    "\n",
    "if os.path.exists(FILE_TO_DELETE):\n",
    "    os.remove(FILE_TO_DELETE)\n",
    "    print(\"Datei erfolgreich gelöscht.\")\n",
    "else:\n",
    "    print(\"Datei nicht gefunden – nichts zu löschen.\")"
   ]
  }
 ],
 "metadata": {
  "kernelspec": {
   "display_name": "newspaper-scraping-08G4y0J9",
   "language": "python",
   "name": "python3"
  },
  "language_info": {
   "codemirror_mode": {
    "name": "ipython",
    "version": 3
   },
   "file_extension": ".py",
   "mimetype": "text/x-python",
   "name": "python",
   "nbconvert_exporter": "python",
   "pygments_lexer": "ipython3",
   "version": "3.11.0"
  }
 },
 "nbformat": 4,
 "nbformat_minor": 5
}

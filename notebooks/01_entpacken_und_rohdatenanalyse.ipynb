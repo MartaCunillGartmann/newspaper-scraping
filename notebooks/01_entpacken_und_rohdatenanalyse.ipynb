{
 "cells": [
  {
   "cell_type": "markdown",
   "id": "881a7762",
   "metadata": {},
   "source": [
    "### Entpacken und Analyse der Rohdaten\n",
    "\n",
    "Dieses Notebook dient der Vorbereitung und ersten Analyse der verfügbaren Rohdaten.  \n",
    "Ziel ist es, die gelieferten Datenarchive (ZIP/TAR) zu entpacken, die enthaltenen HTML- und CSV-Dateien im Data Lake abzulegen und die Datenqualität zu prüfen.\n",
    "\n",
    "Die Ergebnisse dieses Notebooks bilden die Grundlage für die spätere inhaltliche Verarbeitung in 02_verarbeitung_main.ipynb."
   ]
  },
  {
   "cell_type": "markdown",
   "id": "cae8bbfa",
   "metadata": {},
   "source": [
    "#### 1. Import benötigte Pakete"
   ]
  },
  {
   "cell_type": "code",
   "execution_count": 9,
   "id": "58e69e48",
   "metadata": {},
   "outputs": [],
   "source": [
    "# Standard\n",
    "import os # Dateipfaden\n",
    "import pandas as pd # Tabellenverarbeitung (DataFrames)\n",
    "from datetime import datetime # Datumsangaben\n",
    "\n",
    "# Datenprofiling\n",
    "from ydata_profiling import ProfileReport  \n",
    "\n",
    "# Dateiverwaltung & Entpacken\n",
    "from glob import glob # Mehrere Dateien suchen\n",
    "import tarfile # .tar.gz Dateien entpacken"
   ]
  },
  {
   "cell_type": "code",
   "execution_count": 10,
   "id": "b6e8830b",
   "metadata": {},
   "outputs": [],
   "source": [
    "# Pfade\n",
    "# Projektverzeichnis \n",
    "PROJECT_ROOT = r\"D:/DBU/ADSC11 ADS-01/Studienarbeit/newspaper-scraping\"\n",
    "\n",
    "# Input-Pfade\n",
    "INPUT_PATH = os.path.join(PROJECT_ROOT, \"input\", \"raw\") # Rohdaten\n",
    "DATA_LAKE_PATH = os.path.join(INPUT_PATH, \"data-lake\") # HTML- und CSV-Dateien\n",
    "ZIP_PATH = os.path.join(INPUT_PATH, \"downloaded_zips\") # ZIP-Dateien\n",
    "\n",
    "# Output-Pfad\n",
    "OUTPUT_PATH = os.path.join(PROJECT_ROOT, \"output\") "
   ]
  },
  {
   "cell_type": "markdown",
   "id": "6b881b08",
   "metadata": {},
   "source": [
    "#### 2. Archiv entpacken und Dateien speichern"
   ]
  },
  {
   "cell_type": "code",
   "execution_count": 11,
   "id": "cd79ef4d",
   "metadata": {},
   "outputs": [],
   "source": [
    "# Funktion: Mit tarfile Rohdaten (Format .tar.gz) einlesen, extrahieren & entpacken\n",
    "def extract_tar_file(ZIP_PATH, DATA_LAKE_PATH): \n",
    "    entpackt = 0 # zählen\n",
    "    with tarfile.open(ZIP_PATH, \"r:gz\") as tar:\n",
    "        for member in tar.getmembers():\n",
    "            \n",
    "            # HTML- und CSV-Dateien extrahieren\n",
    "            if member.name.endswith(\".html\") or member.name.endswith(\".csv\"):\n",
    "                target_path = os.path.join(DATA_LAKE_PATH, os.path.basename(member.name))\n",
    "                \n",
    "                # Entpacken in HTML-Datei\n",
    "                with open(target_path, \"wb\") as f:\n",
    "                    f.write(tar.extractfile(member).read())\n",
    "                entpackt += 1\n",
    "    return entpackt  "
   ]
  },
  {
   "cell_type": "code",
   "execution_count": 12,
   "id": "0e155397",
   "metadata": {},
   "outputs": [
    {
     "name": "stdout",
     "output_type": "stream",
     "text": [
      "\n",
      "85047 neue Dateien entpackt.\n"
     ]
    }
   ],
   "source": [
    "# Entpackung: Mit glob nach .tar.gz-Dateien im ZIP-Ordner suchen und extrahieren\n",
    "gesamt_entpackt = 0\n",
    "for zip_path in glob(os.path.join(ZIP_PATH, \"*.tar.gz\")):\n",
    "    gesamt_entpackt += extract_tar_file(zip_path, DATA_LAKE_PATH)\n",
    "\n",
    "# Ergebnis anzeigen\n",
    "print(f\"\\n{gesamt_entpackt} neue Dateien entpackt.\")"
   ]
  },
  {
   "cell_type": "code",
   "execution_count": 13,
   "id": "0812477d",
   "metadata": {},
   "outputs": [
    {
     "name": "stdout",
     "output_type": "stream",
     "text": [
      "Anzahl CSV-Dateien: 1490\n",
      "Anzahl HTML-Dateien: 83557\n"
     ]
    }
   ],
   "source": [
    "# Verfügbare HTML- und CSV-Dateien im DATA_LAKE_PATH zählen und zurückgeben\n",
    "html_files = glob(os.path.join(DATA_LAKE_PATH, \"*.html\"))\n",
    "csv_files = [f for f in glob(os.path.join(DATA_LAKE_PATH, \"*.csv\"))]\n",
    "\n",
    "print(\"Anzahl CSV-Dateien:\", len(csv_files))\n",
    "print(\"Anzahl HTML-Dateien:\", len(html_files))"
   ]
  },
  {
   "cell_type": "markdown",
   "id": "2e904e31",
   "metadata": {},
   "source": [
    "#### 3. Datenexploration"
   ]
  },
  {
   "cell_type": "markdown",
   "id": "e1f0b078",
   "metadata": {},
   "source": [
    "##### 3.1 CSV-Dateien (Metadaten)"
   ]
  },
  {
   "cell_type": "code",
   "execution_count": 14,
   "id": "76238ae9",
   "metadata": {},
   "outputs": [],
   "source": [
    "# CSV-Dateien mit glob finden\n",
    "csv_files = glob(os.path.join(DATA_LAKE_PATH, \"*.csv\"))\n",
    "\n",
    "# Einzelne CSV-Dateien laden und in Liste speichern\n",
    "dfs = []\n",
    "for f in csv_files:\n",
    "    try:\n",
    "        df = pd.read_csv(f)\n",
    "        # leeere Dateien überspringen\n",
    "        if not df.empty:\n",
    "            df[\"filename\"] = os.path.basename(f)\n",
    "            dfs.append(df)\n",
    "    except Exception as e:\n",
    "        print(f\"[Fehler] Datei konnte nicht gelesen werden: {f} ({e})\")\n",
    "\n",
    "# In DataFrame zusammenführen\n",
    "df_metadaten = pd.concat(dfs, ignore_index=True)"
   ]
  },
  {
   "cell_type": "code",
   "execution_count": 15,
   "id": "eb371296",
   "metadata": {},
   "outputs": [
    {
     "data": {
      "text/html": [
       "<div>\n",
       "<style scoped>\n",
       "    .dataframe tbody tr th:only-of-type {\n",
       "        vertical-align: middle;\n",
       "    }\n",
       "\n",
       "    .dataframe tbody tr th {\n",
       "        vertical-align: top;\n",
       "    }\n",
       "\n",
       "    .dataframe thead th {\n",
       "        text-align: right;\n",
       "    }\n",
       "</style>\n",
       "<table border=\"1\" class=\"dataframe\">\n",
       "  <thead>\n",
       "    <tr style=\"text-align: right;\">\n",
       "      <th></th>\n",
       "      <th>Unnamed: 0</th>\n",
       "      <th>name</th>\n",
       "      <th>date</th>\n",
       "      <th>file_name</th>\n",
       "      <th>status</th>\n",
       "      <th>original_url</th>\n",
       "      <th>final_url</th>\n",
       "      <th>encoding</th>\n",
       "      <th>filename</th>\n",
       "    </tr>\n",
       "  </thead>\n",
       "  <tbody>\n",
       "    <tr>\n",
       "      <th>0</th>\n",
       "      <td>0</td>\n",
       "      <td>sz</td>\n",
       "      <td>2021-04-01</td>\n",
       "      <td>data-lake/2021-04-01-sz.html</td>\n",
       "      <td>200</td>\n",
       "      <td>https://www.sueddeutsche.de/</td>\n",
       "      <td>https://www.sueddeutsche.de/</td>\n",
       "      <td>UTF-8</td>\n",
       "      <td>2021-04-01.csv</td>\n",
       "    </tr>\n",
       "    <tr>\n",
       "      <th>1</th>\n",
       "      <td>1</td>\n",
       "      <td>zeit</td>\n",
       "      <td>2021-04-01</td>\n",
       "      <td>data-lake/2021-04-01-zeit.html</td>\n",
       "      <td>200</td>\n",
       "      <td>https://www.zeit.de/</td>\n",
       "      <td>https://www.zeit.de/index</td>\n",
       "      <td>UTF-8</td>\n",
       "      <td>2021-04-01.csv</td>\n",
       "    </tr>\n",
       "    <tr>\n",
       "      <th>2</th>\n",
       "      <td>2</td>\n",
       "      <td>faz</td>\n",
       "      <td>2021-04-01</td>\n",
       "      <td>data-lake/2021-04-01-faz.html</td>\n",
       "      <td>200</td>\n",
       "      <td>https://www.faz.net/</td>\n",
       "      <td>https://www.faz.net/aktuell/</td>\n",
       "      <td>utf-8</td>\n",
       "      <td>2021-04-01.csv</td>\n",
       "    </tr>\n",
       "    <tr>\n",
       "      <th>3</th>\n",
       "      <td>3</td>\n",
       "      <td>heise</td>\n",
       "      <td>2021-04-01</td>\n",
       "      <td>data-lake/2021-04-01-heise.html</td>\n",
       "      <td>200</td>\n",
       "      <td>https://www.heise.de/</td>\n",
       "      <td>https://www.heise.de/</td>\n",
       "      <td>UTF-8</td>\n",
       "      <td>2021-04-01.csv</td>\n",
       "    </tr>\n",
       "    <tr>\n",
       "      <th>4</th>\n",
       "      <td>4</td>\n",
       "      <td>golem</td>\n",
       "      <td>2021-04-01</td>\n",
       "      <td>data-lake/2021-04-01-golem.html</td>\n",
       "      <td>200</td>\n",
       "      <td>https://www.golem.de/</td>\n",
       "      <td>https://www.golem.de/sonstiges/zustimmung/ausw...</td>\n",
       "      <td>ISO-8859-1</td>\n",
       "      <td>2021-04-01.csv</td>\n",
       "    </tr>\n",
       "  </tbody>\n",
       "</table>\n",
       "</div>"
      ],
      "text/plain": [
       "   Unnamed: 0   name        date                        file_name  status  \\\n",
       "0           0     sz  2021-04-01     data-lake/2021-04-01-sz.html     200   \n",
       "1           1   zeit  2021-04-01   data-lake/2021-04-01-zeit.html     200   \n",
       "2           2    faz  2021-04-01    data-lake/2021-04-01-faz.html     200   \n",
       "3           3  heise  2021-04-01  data-lake/2021-04-01-heise.html     200   \n",
       "4           4  golem  2021-04-01  data-lake/2021-04-01-golem.html     200   \n",
       "\n",
       "                   original_url  \\\n",
       "0  https://www.sueddeutsche.de/   \n",
       "1          https://www.zeit.de/   \n",
       "2          https://www.faz.net/   \n",
       "3         https://www.heise.de/   \n",
       "4         https://www.golem.de/   \n",
       "\n",
       "                                           final_url    encoding  \\\n",
       "0                       https://www.sueddeutsche.de/       UTF-8   \n",
       "1                          https://www.zeit.de/index       UTF-8   \n",
       "2                       https://www.faz.net/aktuell/       utf-8   \n",
       "3                              https://www.heise.de/       UTF-8   \n",
       "4  https://www.golem.de/sonstiges/zustimmung/ausw...  ISO-8859-1   \n",
       "\n",
       "         filename  \n",
       "0  2021-04-01.csv  \n",
       "1  2021-04-01.csv  \n",
       "2  2021-04-01.csv  \n",
       "3  2021-04-01.csv  \n",
       "4  2021-04-01.csv  "
      ]
     },
     "execution_count": 15,
     "metadata": {},
     "output_type": "execute_result"
    }
   ],
   "source": [
    "# Überblick df_metadaten\n",
    "df_metadaten.head()"
   ]
  },
  {
   "cell_type": "code",
   "execution_count": 16,
   "id": "63dd8872",
   "metadata": {},
   "outputs": [
    {
     "data": {
      "text/plain": [
       "(83938, 9)"
      ]
     },
     "execution_count": 16,
     "metadata": {},
     "output_type": "execute_result"
    }
   ],
   "source": [
    "# Anzahl Zeilen und Spalten\n",
    "df_metadaten.shape"
   ]
  },
  {
   "cell_type": "code",
   "execution_count": 17,
   "id": "b8b30e6a",
   "metadata": {},
   "outputs": [
    {
     "data": {
      "application/vnd.jupyter.widget-view+json": {
       "model_id": "dc650e8cd1f14379ac6a6ff4f1e27408",
       "version_major": 2,
       "version_minor": 0
      },
      "text/plain": [
       "Summarize dataset:   0%|          | 0/5 [00:00<?, ?it/s]"
      ]
     },
     "metadata": {},
     "output_type": "display_data"
    },
    {
     "name": "stderr",
     "output_type": "stream",
     "text": [
      "100%|██████████| 9/9 [00:03<00:00,  2.36it/s]\n"
     ]
    },
    {
     "data": {
      "application/vnd.jupyter.widget-view+json": {
       "model_id": "53e73a094142430ab4c98544aae94f79",
       "version_major": 2,
       "version_minor": 0
      },
      "text/plain": [
       "Generate report structure:   0%|          | 0/1 [00:00<?, ?it/s]"
      ]
     },
     "metadata": {},
     "output_type": "display_data"
    },
    {
     "data": {
      "application/vnd.jupyter.widget-view+json": {
       "model_id": "235d7b22db36434a9c1948a13fc416d9",
       "version_major": 2,
       "version_minor": 0
      },
      "text/plain": [
       "Render HTML:   0%|          | 0/1 [00:00<?, ?it/s]"
      ]
     },
     "metadata": {},
     "output_type": "display_data"
    },
    {
     "data": {
      "application/vnd.jupyter.widget-view+json": {
       "model_id": "22f2b8b2a2eb40478c3ac8fe9473d125",
       "version_major": 2,
       "version_minor": 0
      },
      "text/plain": [
       "Export report to file:   0%|          | 0/1 [00:00<?, ?it/s]"
      ]
     },
     "metadata": {},
     "output_type": "display_data"
    }
   ],
   "source": [
    "# Übersicht Daten\n",
    "# Data profiling \n",
    "profile = ProfileReport(df_metadaten)\n",
    "\n",
    "# ProfileReport als html\n",
    "profile.to_file(os.path.join(OUTPUT_PATH, \"rohdaten_profile_report.html\"))"
   ]
  },
  {
   "cell_type": "code",
   "execution_count": 18,
   "id": "c712a321",
   "metadata": {},
   "outputs": [
    {
     "name": "stdout",
     "output_type": "stream",
     "text": [
      "Zeitraum:\n",
      "Von: 2021-04-01\n",
      "Bis: 2025-04-30\n"
     ]
    }
   ],
   "source": [
    "# Zeitraum \n",
    "df_metadaten[\"date\"] = pd.to_datetime(df_metadaten[\"date\"])  \n",
    "\n",
    "print(\"Zeitraum:\")\n",
    "print(\"Von:\", df_metadaten[\"date\"].min().date())\n",
    "print(\"Bis:\", df_metadaten[\"date\"].max().date())"
   ]
  },
  {
   "cell_type": "code",
   "execution_count": 19,
   "id": "ef6c609f",
   "metadata": {},
   "outputs": [
    {
     "data": {
      "text/plain": [
       "array(['sz', 'zeit', 'faz', 'heise', 'golem', 'tagesspiegel', 'taz',\n",
       "       'abendblatt', 'berliner', 'welt', 'dfi', 'ecoute', 'medium',\n",
       "       'esslinger', 'kdnuggets', 'handelsblatt', 'ntv', 'danielmiessler',\n",
       "       'pioneer', 'suedwest', 't3n', 'economist ', 'srf', 'wef', 'kindly',\n",
       "       'stuttgarter', 'atlantic', 'netzpolitik', 'towardsds',\n",
       "       'uebermedien', 'vulture', 'boerse', 'buchreport', '54books', 'dlf',\n",
       "       'dw', 'spiegel', 'cnn', 'bbc', 'dhv', 'mm', 'stern', 'tagesschau',\n",
       "       'zvw', 'ieee', 'anwaltsverein', 'wiwo', 'dav', 'economist',\n",
       "       'dw-de', 'dw-en', 'zwanzig', 'blick', 'nzz', 'republik', 'ta',\n",
       "       'watson-ch', 'nau', 'standard', 'kronen', 'kurier', 'kleine',\n",
       "       'watson-de', 'vice-de'], dtype=object)"
      ]
     },
     "execution_count": 19,
     "metadata": {},
     "output_type": "execute_result"
    }
   ],
   "source": [
    "# Überblick Medienquelle\n",
    "df_metadaten[\"name\"].unique()"
   ]
  },
  {
   "cell_type": "code",
   "execution_count": 20,
   "id": "b7afa977",
   "metadata": {},
   "outputs": [
    {
     "name": "stdout",
     "output_type": "stream",
     "text": [
      "Anzahl Medienquellen: 64\n"
     ]
    }
   ],
   "source": [
    "# Anzahl Medienquelle\n",
    "print(\"Anzahl Medienquellen:\", df_metadaten[\"name\"].nunique())"
   ]
  },
  {
   "cell_type": "code",
   "execution_count": 21,
   "id": "24df0c01",
   "metadata": {},
   "outputs": [
    {
     "data": {
      "text/html": [
       "<div>\n",
       "<style scoped>\n",
       "    .dataframe tbody tr th:only-of-type {\n",
       "        vertical-align: middle;\n",
       "    }\n",
       "\n",
       "    .dataframe tbody tr th {\n",
       "        vertical-align: top;\n",
       "    }\n",
       "\n",
       "    .dataframe thead th {\n",
       "        text-align: right;\n",
       "    }\n",
       "</style>\n",
       "<table border=\"1\" class=\"dataframe\">\n",
       "  <thead>\n",
       "    <tr style=\"text-align: right;\">\n",
       "      <th></th>\n",
       "      <th>year</th>\n",
       "      <th>name</th>\n",
       "    </tr>\n",
       "  </thead>\n",
       "  <tbody>\n",
       "    <tr>\n",
       "      <th>0</th>\n",
       "      <td>2021</td>\n",
       "      <td>49</td>\n",
       "    </tr>\n",
       "    <tr>\n",
       "      <th>1</th>\n",
       "      <td>2022</td>\n",
       "      <td>63</td>\n",
       "    </tr>\n",
       "    <tr>\n",
       "      <th>2</th>\n",
       "      <td>2023</td>\n",
       "      <td>59</td>\n",
       "    </tr>\n",
       "    <tr>\n",
       "      <th>3</th>\n",
       "      <td>2024</td>\n",
       "      <td>59</td>\n",
       "    </tr>\n",
       "    <tr>\n",
       "      <th>4</th>\n",
       "      <td>2025</td>\n",
       "      <td>59</td>\n",
       "    </tr>\n",
       "  </tbody>\n",
       "</table>\n",
       "</div>"
      ],
      "text/plain": [
       "   year  name\n",
       "0  2021    49\n",
       "1  2022    63\n",
       "2  2023    59\n",
       "3  2024    59\n",
       "4  2025    59"
      ]
     },
     "execution_count": 21,
     "metadata": {},
     "output_type": "execute_result"
    }
   ],
   "source": [
    "# Anzahl Medienquelle nach Jahr\n",
    "# Jahr extrahieren\n",
    "df_metadaten[\"year\"] = df_metadaten[\"date\"].dt.year\n",
    "\n",
    "# Gruppieren nach nach Medium und Jahr\n",
    "df_medien_nach_jahr = df_metadaten.groupby(\"year\")[\"name\"].nunique().reset_index()\n",
    "df_medien_nach_jahr"
   ]
  },
  {
   "cell_type": "code",
   "execution_count": 22,
   "id": "1503b84c",
   "metadata": {},
   "outputs": [
    {
     "data": {
      "text/plain": [
       "name\n",
       "sz                1490\n",
       "zeit              1490\n",
       "faz               1490\n",
       "heise             1490\n",
       "tagesspiegel      1490\n",
       "                  ... \n",
       "dw                 769\n",
       "ecoute             385\n",
       "danielmiessler     385\n",
       "dfi                385\n",
       "economist          257\n",
       "Name: count, Length: 64, dtype: int64"
      ]
     },
     "execution_count": 22,
     "metadata": {},
     "output_type": "execute_result"
    }
   ],
   "source": [
    "# Anzahl Daten pro Medienquelle\n",
    "df_metadaten[\"name\"].value_counts()"
   ]
  },
  {
   "cell_type": "code",
   "execution_count": 23,
   "id": "cea178b6",
   "metadata": {},
   "outputs": [
    {
     "data": {
      "text/html": [
       "<div>\n",
       "<style scoped>\n",
       "    .dataframe tbody tr th:only-of-type {\n",
       "        vertical-align: middle;\n",
       "    }\n",
       "\n",
       "    .dataframe tbody tr th {\n",
       "        vertical-align: top;\n",
       "    }\n",
       "\n",
       "    .dataframe thead th {\n",
       "        text-align: right;\n",
       "    }\n",
       "</style>\n",
       "<table border=\"1\" class=\"dataframe\">\n",
       "  <thead>\n",
       "    <tr style=\"text-align: right;\">\n",
       "      <th></th>\n",
       "      <th>name</th>\n",
       "      <th>original_url</th>\n",
       "    </tr>\n",
       "  </thead>\n",
       "  <tbody>\n",
       "    <tr>\n",
       "      <th>0</th>\n",
       "      <td>sz</td>\n",
       "      <td>https://www.sueddeutsche.de/</td>\n",
       "    </tr>\n",
       "    <tr>\n",
       "      <th>1</th>\n",
       "      <td>zeit</td>\n",
       "      <td>https://www.zeit.de/</td>\n",
       "    </tr>\n",
       "    <tr>\n",
       "      <th>2</th>\n",
       "      <td>faz</td>\n",
       "      <td>https://www.faz.net/</td>\n",
       "    </tr>\n",
       "    <tr>\n",
       "      <th>3</th>\n",
       "      <td>heise</td>\n",
       "      <td>https://www.heise.de/</td>\n",
       "    </tr>\n",
       "    <tr>\n",
       "      <th>4</th>\n",
       "      <td>golem</td>\n",
       "      <td>https://www.golem.de/</td>\n",
       "    </tr>\n",
       "    <tr>\n",
       "      <th>...</th>\n",
       "      <td>...</td>\n",
       "      <td>...</td>\n",
       "    </tr>\n",
       "    <tr>\n",
       "      <th>18914</th>\n",
       "      <td>kronen</td>\n",
       "      <td>https://www.krone.at/</td>\n",
       "    </tr>\n",
       "    <tr>\n",
       "      <th>18915</th>\n",
       "      <td>kurier</td>\n",
       "      <td>https://kurier.at/</td>\n",
       "    </tr>\n",
       "    <tr>\n",
       "      <th>18916</th>\n",
       "      <td>kleine</td>\n",
       "      <td>https://www.kleinezeitung.at/</td>\n",
       "    </tr>\n",
       "    <tr>\n",
       "      <th>18917</th>\n",
       "      <td>watson-de</td>\n",
       "      <td>https://www.watson.de/</td>\n",
       "    </tr>\n",
       "    <tr>\n",
       "      <th>18918</th>\n",
       "      <td>vice-de</td>\n",
       "      <td>https://www.vice.com/de</td>\n",
       "    </tr>\n",
       "  </tbody>\n",
       "</table>\n",
       "<p>65 rows × 2 columns</p>\n",
       "</div>"
      ],
      "text/plain": [
       "            name                   original_url\n",
       "0             sz   https://www.sueddeutsche.de/\n",
       "1           zeit           https://www.zeit.de/\n",
       "2            faz           https://www.faz.net/\n",
       "3          heise          https://www.heise.de/\n",
       "4          golem          https://www.golem.de/\n",
       "...          ...                            ...\n",
       "18914     kronen          https://www.krone.at/\n",
       "18915     kurier             https://kurier.at/\n",
       "18916     kleine  https://www.kleinezeitung.at/\n",
       "18917  watson-de         https://www.watson.de/\n",
       "18918    vice-de        https://www.vice.com/de\n",
       "\n",
       "[65 rows x 2 columns]"
      ]
     },
     "execution_count": 23,
     "metadata": {},
     "output_type": "execute_result"
    }
   ],
   "source": [
    "# Übersicht Medienquellen und zugehörige URL\n",
    "df_medienliste = df_metadaten[[\"name\", \"original_url\"]].drop_duplicates()\n",
    "df_medienliste"
   ]
  },
  {
   "cell_type": "code",
   "execution_count": 24,
   "id": "d6a90879",
   "metadata": {},
   "outputs": [],
   "source": [
    "# Medienliste als CSV exportieren\n",
    "df_medienliste.to_csv(os.path.join(OUTPUT_PATH, \"medien_quellen_uebersicht.csv\"))"
   ]
  },
  {
   "cell_type": "code",
   "execution_count": 25,
   "id": "89fe9bde",
   "metadata": {},
   "outputs": [
    {
     "data": {
      "text/plain": [
       "Unnamed: 0      0\n",
       "name            0\n",
       "date            0\n",
       "file_name       0\n",
       "status          0\n",
       "original_url    0\n",
       "final_url       0\n",
       "encoding        2\n",
       "filename        0\n",
       "year            0\n",
       "dtype: int64"
      ]
     },
     "execution_count": 25,
     "metadata": {},
     "output_type": "execute_result"
    }
   ],
   "source": [
    "# Fehlende Werte \n",
    "df_metadaten.isna().sum()"
   ]
  },
  {
   "cell_type": "code",
   "execution_count": 26,
   "id": "60f747e6",
   "metadata": {},
   "outputs": [
    {
     "data": {
      "text/html": [
       "<div>\n",
       "<style scoped>\n",
       "    .dataframe tbody tr th:only-of-type {\n",
       "        vertical-align: middle;\n",
       "    }\n",
       "\n",
       "    .dataframe tbody tr th {\n",
       "        vertical-align: top;\n",
       "    }\n",
       "\n",
       "    .dataframe thead th {\n",
       "        text-align: right;\n",
       "    }\n",
       "</style>\n",
       "<table border=\"1\" class=\"dataframe\">\n",
       "  <thead>\n",
       "    <tr style=\"text-align: right;\">\n",
       "      <th></th>\n",
       "      <th>name</th>\n",
       "      <th>date</th>\n",
       "      <th>file_name</th>\n",
       "      <th>original_url</th>\n",
       "    </tr>\n",
       "  </thead>\n",
       "  <tbody>\n",
       "    <tr>\n",
       "      <th>3260</th>\n",
       "      <td>atlantic</td>\n",
       "      <td>2021-06-06</td>\n",
       "      <td>data-lake/2021-06-06-atlantic.html</td>\n",
       "      <td>https://www.theatlantic.com/</td>\n",
       "    </tr>\n",
       "    <tr>\n",
       "      <th>7763</th>\n",
       "      <td>wef</td>\n",
       "      <td>2021-09-06</td>\n",
       "      <td>data-lake/2021-09-06-wef.html</td>\n",
       "      <td>https://www.weforum.org/</td>\n",
       "    </tr>\n",
       "  </tbody>\n",
       "</table>\n",
       "</div>"
      ],
      "text/plain": [
       "          name       date                           file_name  \\\n",
       "3260  atlantic 2021-06-06  data-lake/2021-06-06-atlantic.html   \n",
       "7763       wef 2021-09-06       data-lake/2021-09-06-wef.html   \n",
       "\n",
       "                      original_url  \n",
       "3260  https://www.theatlantic.com/  \n",
       "7763      https://www.weforum.org/  "
      ]
     },
     "execution_count": 26,
     "metadata": {},
     "output_type": "execute_result"
    }
   ],
   "source": [
    "# Fehlende Werte beim Encoding \n",
    "df_metadaten[df_metadaten[\"encoding\"].isna()][[\"name\", \"date\", \"file_name\", \"original_url\"]]"
   ]
  },
  {
   "cell_type": "code",
   "execution_count": 27,
   "id": "a0da972e",
   "metadata": {},
   "outputs": [
    {
     "data": {
      "text/plain": [
       "np.int64(0)"
      ]
     },
     "execution_count": 27,
     "metadata": {},
     "output_type": "execute_result"
    }
   ],
   "source": [
    "# Duplikate\n",
    "df_metadaten.duplicated().sum()"
   ]
  },
  {
   "cell_type": "code",
   "execution_count": 28,
   "id": "093c403e",
   "metadata": {},
   "outputs": [
    {
     "data": {
      "text/plain": [
       "status\n",
       "200    82666\n",
       "403      953\n",
       "418      278\n",
       "404       20\n",
       "503       12\n",
       "502        3\n",
       "500        2\n",
       "522        2\n",
       "504        1\n",
       "406        1\n",
       "Name: count, dtype: int64"
      ]
     },
     "execution_count": 28,
     "metadata": {},
     "output_type": "execute_result"
    }
   ],
   "source": [
    "# HTTP-Status\n",
    "df_metadaten[\"status\"].value_counts()"
   ]
  },
  {
   "cell_type": "markdown",
   "id": "9540ac7d",
   "metadata": {},
   "source": [
    "##### 3.2 HTML-Dateien"
   ]
  },
  {
   "cell_type": "code",
   "execution_count": 29,
   "id": "33449eb9",
   "metadata": {},
   "outputs": [],
   "source": [
    "# HTML-Dateien mit glob finden\n",
    "html_files = glob(os.path.join(DATA_LAKE_PATH, \"*.html\"))\n",
    "\n",
    "# Dateinamen extrahieren und in Liste speichern\n",
    "html_data = [] \n",
    "for f in html_files:\n",
    "    name = os.path.basename(f)\n",
    "    html_data.append({\"filename\": name})\n",
    "\n",
    "# Als DataFrame speichern\n",
    "df_html = pd.DataFrame(html_data)"
   ]
  },
  {
   "cell_type": "code",
   "execution_count": 30,
   "id": "19d64db9",
   "metadata": {},
   "outputs": [
    {
     "data": {
      "text/html": [
       "<div>\n",
       "<style scoped>\n",
       "    .dataframe tbody tr th:only-of-type {\n",
       "        vertical-align: middle;\n",
       "    }\n",
       "\n",
       "    .dataframe tbody tr th {\n",
       "        vertical-align: top;\n",
       "    }\n",
       "\n",
       "    .dataframe thead th {\n",
       "        text-align: right;\n",
       "    }\n",
       "</style>\n",
       "<table border=\"1\" class=\"dataframe\">\n",
       "  <thead>\n",
       "    <tr style=\"text-align: right;\">\n",
       "      <th></th>\n",
       "      <th>filename</th>\n",
       "    </tr>\n",
       "  </thead>\n",
       "  <tbody>\n",
       "    <tr>\n",
       "      <th>0</th>\n",
       "      <td>2021-04-01-54books.html</td>\n",
       "    </tr>\n",
       "    <tr>\n",
       "      <th>1</th>\n",
       "      <td>2021-04-01-abendblatt.html</td>\n",
       "    </tr>\n",
       "    <tr>\n",
       "      <th>2</th>\n",
       "      <td>2021-04-01-anwaltsverein.html</td>\n",
       "    </tr>\n",
       "    <tr>\n",
       "      <th>3</th>\n",
       "      <td>2021-04-01-atlantic.html</td>\n",
       "    </tr>\n",
       "    <tr>\n",
       "      <th>4</th>\n",
       "      <td>2021-04-01-bbc.html</td>\n",
       "    </tr>\n",
       "  </tbody>\n",
       "</table>\n",
       "</div>"
      ],
      "text/plain": [
       "                        filename\n",
       "0        2021-04-01-54books.html\n",
       "1     2021-04-01-abendblatt.html\n",
       "2  2021-04-01-anwaltsverein.html\n",
       "3       2021-04-01-atlantic.html\n",
       "4            2021-04-01-bbc.html"
      ]
     },
     "execution_count": 30,
     "metadata": {},
     "output_type": "execute_result"
    }
   ],
   "source": [
    "# Überblick df_html\n",
    "df_html.head()"
   ]
  },
  {
   "cell_type": "code",
   "execution_count": 31,
   "id": "291ea1a8",
   "metadata": {},
   "outputs": [],
   "source": [
    "# HTML-Dateinamen extrahieren und Jahr ableiten\n",
    "html_data = []\n",
    "for f in html_files:\n",
    "    name = os.path.basename(f)\n",
    "    year = int(name[:4])  # Jahr direkt aus den ersten 4 Zeichen\n",
    "    html_data.append({\"filename\": name, \"year\": year})\n",
    "\n",
    "df_html = pd.DataFrame(html_data)"
   ]
  },
  {
   "cell_type": "code",
   "execution_count": 32,
   "id": "e32f8e9b",
   "metadata": {},
   "outputs": [
    {
     "data": {
      "text/html": [
       "<div>\n",
       "<style scoped>\n",
       "    .dataframe tbody tr th:only-of-type {\n",
       "        vertical-align: middle;\n",
       "    }\n",
       "\n",
       "    .dataframe tbody tr th {\n",
       "        vertical-align: top;\n",
       "    }\n",
       "\n",
       "    .dataframe thead th {\n",
       "        text-align: right;\n",
       "    }\n",
       "</style>\n",
       "<table border=\"1\" class=\"dataframe\">\n",
       "  <thead>\n",
       "    <tr style=\"text-align: right;\">\n",
       "      <th></th>\n",
       "      <th>year</th>\n",
       "      <th>count</th>\n",
       "    </tr>\n",
       "  </thead>\n",
       "  <tbody>\n",
       "    <tr>\n",
       "      <th>0</th>\n",
       "      <td>2021</td>\n",
       "      <td>13197</td>\n",
       "    </tr>\n",
       "    <tr>\n",
       "      <th>1</th>\n",
       "      <td>2022</td>\n",
       "      <td>20321</td>\n",
       "    </tr>\n",
       "    <tr>\n",
       "      <th>2</th>\n",
       "      <td>2023</td>\n",
       "      <td>21461</td>\n",
       "    </tr>\n",
       "    <tr>\n",
       "      <th>3</th>\n",
       "      <td>2024</td>\n",
       "      <td>21571</td>\n",
       "    </tr>\n",
       "    <tr>\n",
       "      <th>4</th>\n",
       "      <td>2025</td>\n",
       "      <td>7007</td>\n",
       "    </tr>\n",
       "  </tbody>\n",
       "</table>\n",
       "</div>"
      ],
      "text/plain": [
       "   year  count\n",
       "0  2021  13197\n",
       "1  2022  20321\n",
       "2  2023  21461\n",
       "3  2024  21571\n",
       "4  2025   7007"
      ]
     },
     "execution_count": 32,
     "metadata": {},
     "output_type": "execute_result"
    }
   ],
   "source": [
    "# HTML-Dateien pro Jahr zählen\n",
    "df_html_jahr = df_html[\"year\"].value_counts().sort_index().reset_index()\n",
    "df_html_jahr"
   ]
  },
  {
   "cell_type": "code",
   "execution_count": 33,
   "id": "52142041",
   "metadata": {},
   "outputs": [
    {
     "data": {
      "text/plain": [
       "medium\n",
       "faz           1491\n",
       "sz            1491\n",
       "zeit          1491\n",
       "abendblatt    1490\n",
       "buchreport    1490\n",
       "dav           1490\n",
       "berliner      1490\n",
       "atlantic      1490\n",
       "medium        1490\n",
       "mm            1490\n",
       "Name: count, dtype: int64"
      ]
     },
     "execution_count": 33,
     "metadata": {},
     "output_type": "execute_result"
    }
   ],
   "source": [
    "# HTML-Dateien nach Medium\n",
    "df_html[\"medium\"] = df_html[\"filename\"].str[11:-5]  # alles zwischen Datum und \".html\"\n",
    "df_html[\"medium\"].value_counts().head(10)"
   ]
  },
  {
   "cell_type": "code",
   "execution_count": 34,
   "id": "97e083ed",
   "metadata": {},
   "outputs": [],
   "source": [
    "# Ergebnis als CSV exportieren\n",
    "df_html_medium_counts = df_html[\"medium\"].value_counts().reset_index()\n",
    "df_html_medium_counts.columns = [\"medium\", \"anzahl_html_dateien\"]\n",
    "df_html_medium_counts.to_csv(os.path.join(OUTPUT_PATH, \"html_dateien_pro_medium.csv\"))"
   ]
  }
 ],
 "metadata": {
  "kernelspec": {
   "display_name": ".venv",
   "language": "python",
   "name": "python3"
  },
  "language_info": {
   "codemirror_mode": {
    "name": "ipython",
    "version": 3
   },
   "file_extension": ".py",
   "mimetype": "text/x-python",
   "name": "python",
   "nbconvert_exporter": "python",
   "pygments_lexer": "ipython3",
   "version": "3.11.0"
  }
 },
 "nbformat": 4,
 "nbformat_minor": 5
}

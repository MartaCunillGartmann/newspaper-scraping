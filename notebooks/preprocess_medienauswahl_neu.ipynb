{
 "cells": [
  {
   "cell_type": "markdown",
   "id": "881a7762",
   "metadata": {},
   "source": [
    "### Schlagwortanalyse.ipynb \n",
    "\n",
    "Dieses Notebook findet heraus, wie oft und wo das Wort BVG (in den CSV-Dateien \"bvg\") in den ausgewälten Medien von 2021–2025 vorkommt"
   ]
  },
  {
   "cell_type": "markdown",
   "id": "cae8bbfa",
   "metadata": {},
   "source": [
    "#### 1. Import benötigte Pakete"
   ]
  },
  {
   "cell_type": "code",
   "execution_count": 25,
   "id": "58e69e48",
   "metadata": {},
   "outputs": [],
   "source": [
    "# Standard\n",
    "import os\n",
    "import pandas as pd # Datenanalyse\n",
    "import sqlite3  # Speicherung in SQLite-Datenbanken\n",
    "\n",
    "# Bearbeiten von HTML-Dateien\n",
    "from bs4 import BeautifulSoup  # HTML auslesen und bereinigen\n",
    "from collections import Counter\n",
    "\n",
    "# Grafik\n",
    "import seaborn as sns\n",
    "import matplotlib.pyplot as plt"
   ]
  },
  {
   "cell_type": "code",
   "execution_count": 2,
   "id": "b6e8830b",
   "metadata": {},
   "outputs": [],
   "source": [
    "# ACHTUNG LOGIK PRÜFEN! Pfade\n",
    "INPUT_FOLDER = os.path.join(\"..\", \"input\", \"pm_bvg_raw\")\n",
    "OUTPUT_FOLDER = os.path.join(\"..\", \"output\")"
   ]
  },
  {
   "cell_type": "code",
   "execution_count": 3,
   "id": "e7cfc980",
   "metadata": {},
   "outputs": [],
   "source": [
    "# CSV-Dateien mit Cluster (ausgewählte Medien) einlesen\n",
    "df_or = pd.read_csv(\"output/cluster_oeffentlich.csv\")\n",
    "df_wm = pd.read_csv(\"output/cluster_wirtschaft.csv\")\n",
    "df_gm = pd.read_csv(\"output/cluster_grossemedien.csv\")\n",
    "df_rm = pd.read_csv(\"output/cluster_regiomedien.csv\")\n",
    "df_di = pd.read_csv(\"output/cluster_digital.csv\")\n",
    "df_tech = pd.read_csv(\"output/cluster_tech.csv\")"
   ]
  },
  {
   "cell_type": "code",
   "execution_count": 4,
   "id": "fc7e5f1a",
   "metadata": {},
   "outputs": [],
   "source": [
    "# Alle df in einem DataFrame vereinen\n",
    "df_medien = pd.concat([df_or, df_wm, df_gm, df_rm, df_di, df_tech], ignore_index=True)"
   ]
  },
  {
   "cell_type": "markdown",
   "id": "9838e4ad",
   "metadata": {},
   "source": [
    "#### 2. Data Understanding und Prüfung"
   ]
  },
  {
   "cell_type": "code",
   "execution_count": 5,
   "id": "e857b106",
   "metadata": {},
   "outputs": [
    {
     "data": {
      "text/plain": [
       "(46205219, 4)"
      ]
     },
     "execution_count": 5,
     "metadata": {},
     "output_type": "execute_result"
    }
   ],
   "source": [
    "# Anzahl der Zeilen und Spalten im Datensatz \n",
    "df_medien.shape"
   ]
  },
  {
   "cell_type": "code",
   "execution_count": 6,
   "id": "484fd2ab",
   "metadata": {},
   "outputs": [
    {
     "name": "stdout",
     "output_type": "stream",
     "text": [
      "<class 'pandas.core.frame.DataFrame'>\n",
      "RangeIndex: 46205219 entries, 0 to 46205218\n",
      "Data columns (total 4 columns):\n",
      " #   Column  Dtype \n",
      "---  ------  ----- \n",
      " 0   count   int64 \n",
      " 1   word    object\n",
      " 2   source  object\n",
      " 3   date    object\n",
      "dtypes: int64(1), object(3)\n",
      "memory usage: 1.4+ GB\n"
     ]
    }
   ],
   "source": [
    "# Überblick Datentypen\n",
    "df_medien.info()"
   ]
  },
  {
   "cell_type": "code",
   "execution_count": 7,
   "id": "a9eacf23",
   "metadata": {},
   "outputs": [
    {
     "data": {
      "text/plain": [
       "count        0\n",
       "word      1860\n",
       "source       0\n",
       "date         0\n",
       "dtype: int64"
      ]
     },
     "execution_count": 7,
     "metadata": {},
     "output_type": "execute_result"
    }
   ],
   "source": [
    "# Prüfung fehlende Werte\n",
    "df_medien.isnull().sum()"
   ]
  },
  {
   "cell_type": "code",
   "execution_count": 14,
   "id": "721d9d1d",
   "metadata": {},
   "outputs": [
    {
     "data": {
      "text/plain": [
       "source\n",
       "sz              273\n",
       "zeit            182\n",
       "ntv             175\n",
       "boerse          169\n",
       "heise           144\n",
       "welt            116\n",
       "stern           101\n",
       "tagesspiegel     91\n",
       "taz              83\n",
       "berliner         79\n",
       "faz              75\n",
       "spiegel          65\n",
       "wiwo             60\n",
       "dlf              51\n",
       "mm               51\n",
       "netzpolitik      44\n",
       "handelsblatt     41\n",
       "tagesschau       30\n",
       "abendblatt       18\n",
       "dw-de             8\n",
       "pioneer           4\n",
       "Name: count, dtype: int64"
      ]
     },
     "execution_count": 14,
     "metadata": {},
     "output_type": "execute_result"
    }
   ],
   "source": [
    "# Anzahl fehlende Werte nach Medium\n",
    "df_medien[df_medien[\"word\"].isnull()][\"source\"].value_counts()"
   ]
  },
  {
   "cell_type": "code",
   "execution_count": 16,
   "id": "d8b8b101",
   "metadata": {},
   "outputs": [
    {
     "data": {
      "text/html": [
       "<div>\n",
       "<style scoped>\n",
       "    .dataframe tbody tr th:only-of-type {\n",
       "        vertical-align: middle;\n",
       "    }\n",
       "\n",
       "    .dataframe tbody tr th {\n",
       "        vertical-align: top;\n",
       "    }\n",
       "\n",
       "    .dataframe thead th {\n",
       "        text-align: right;\n",
       "    }\n",
       "</style>\n",
       "<table border=\"1\" class=\"dataframe\">\n",
       "  <thead>\n",
       "    <tr style=\"text-align: right;\">\n",
       "      <th></th>\n",
       "      <th>count</th>\n",
       "      <th>word</th>\n",
       "      <th>source</th>\n",
       "      <th>date</th>\n",
       "    </tr>\n",
       "  </thead>\n",
       "  <tbody>\n",
       "    <tr>\n",
       "      <th>12379955</th>\n",
       "      <td>1</td>\n",
       "      <td>NaN</td>\n",
       "      <td>spiegel</td>\n",
       "      <td>2021-07-21</td>\n",
       "    </tr>\n",
       "    <tr>\n",
       "      <th>32411653</th>\n",
       "      <td>1</td>\n",
       "      <td>NaN</td>\n",
       "      <td>abendblatt</td>\n",
       "      <td>2022-12-09</td>\n",
       "    </tr>\n",
       "    <tr>\n",
       "      <th>22963461</th>\n",
       "      <td>2</td>\n",
       "      <td>NaN</td>\n",
       "      <td>faz</td>\n",
       "      <td>2023-08-30</td>\n",
       "    </tr>\n",
       "    <tr>\n",
       "      <th>29359077</th>\n",
       "      <td>7</td>\n",
       "      <td>NaN</td>\n",
       "      <td>zeit</td>\n",
       "      <td>2025-01-03</td>\n",
       "    </tr>\n",
       "    <tr>\n",
       "      <th>29283674</th>\n",
       "      <td>7</td>\n",
       "      <td>NaN</td>\n",
       "      <td>zeit</td>\n",
       "      <td>2024-12-28</td>\n",
       "    </tr>\n",
       "  </tbody>\n",
       "</table>\n",
       "</div>"
      ],
      "text/plain": [
       "          count word      source        date\n",
       "12379955      1  NaN     spiegel  2021-07-21\n",
       "32411653      1  NaN  abendblatt  2022-12-09\n",
       "22963461      2  NaN         faz  2023-08-30\n",
       "29359077      7  NaN        zeit  2025-01-03\n",
       "29283674      7  NaN        zeit  2024-12-28"
      ]
     },
     "execution_count": 16,
     "metadata": {},
     "output_type": "execute_result"
    }
   ],
   "source": [
    "# Beispiel für fehlende Word\n",
    "df_medien[df_medien[\"word\"].isnull()].sample(5)"
   ]
  },
  {
   "cell_type": "code",
   "execution_count": 17,
   "id": "ab8efa90",
   "metadata": {},
   "outputs": [
    {
     "ename": "KeyError",
     "evalue": "'filename'",
     "output_type": "error",
     "traceback": [
      "\u001b[31m---------------------------------------------------------------------------\u001b[39m",
      "\u001b[31mKeyError\u001b[39m                                  Traceback (most recent call last)",
      "\u001b[36mFile \u001b[39m\u001b[32md:\\DBU\\ADSC11 ADS-01\\Studienarbeit\\newspaper-scraping\\.venv\\Lib\\site-packages\\pandas\\core\\indexes\\base.py:3805\u001b[39m, in \u001b[36mIndex.get_loc\u001b[39m\u001b[34m(self, key)\u001b[39m\n\u001b[32m   3804\u001b[39m \u001b[38;5;28;01mtry\u001b[39;00m:\n\u001b[32m-> \u001b[39m\u001b[32m3805\u001b[39m     \u001b[38;5;28;01mreturn\u001b[39;00m \u001b[38;5;28;43mself\u001b[39;49m\u001b[43m.\u001b[49m\u001b[43m_engine\u001b[49m\u001b[43m.\u001b[49m\u001b[43mget_loc\u001b[49m\u001b[43m(\u001b[49m\u001b[43mcasted_key\u001b[49m\u001b[43m)\u001b[49m\n\u001b[32m   3806\u001b[39m \u001b[38;5;28;01mexcept\u001b[39;00m \u001b[38;5;167;01mKeyError\u001b[39;00m \u001b[38;5;28;01mas\u001b[39;00m err:\n",
      "\u001b[36mFile \u001b[39m\u001b[32mindex.pyx:167\u001b[39m, in \u001b[36mpandas._libs.index.IndexEngine.get_loc\u001b[39m\u001b[34m()\u001b[39m\n",
      "\u001b[36mFile \u001b[39m\u001b[32mindex.pyx:196\u001b[39m, in \u001b[36mpandas._libs.index.IndexEngine.get_loc\u001b[39m\u001b[34m()\u001b[39m\n",
      "\u001b[36mFile \u001b[39m\u001b[32mpandas\\\\_libs\\\\hashtable_class_helper.pxi:7081\u001b[39m, in \u001b[36mpandas._libs.hashtable.PyObjectHashTable.get_item\u001b[39m\u001b[34m()\u001b[39m\n",
      "\u001b[36mFile \u001b[39m\u001b[32mpandas\\\\_libs\\\\hashtable_class_helper.pxi:7089\u001b[39m, in \u001b[36mpandas._libs.hashtable.PyObjectHashTable.get_item\u001b[39m\u001b[34m()\u001b[39m\n",
      "\u001b[31mKeyError\u001b[39m: 'filename'",
      "\nThe above exception was the direct cause of the following exception:\n",
      "\u001b[31mKeyError\u001b[39m                                  Traceback (most recent call last)",
      "\u001b[36mCell\u001b[39m\u001b[36m \u001b[39m\u001b[32mIn[17]\u001b[39m\u001b[32m, line 2\u001b[39m\n\u001b[32m      1\u001b[39m \u001b[38;5;66;03m# Aus welcher Datei entstehen fehlende Wörter\u001b[39;00m\n\u001b[32m----> \u001b[39m\u001b[32m2\u001b[39m \u001b[43mdf_medien\u001b[49m\u001b[43m[\u001b[49m\u001b[43mdf_medien\u001b[49m\u001b[43m[\u001b[49m\u001b[33;43m\"\u001b[39;49m\u001b[33;43mword\u001b[39;49m\u001b[33;43m\"\u001b[39;49m\u001b[43m]\u001b[49m\u001b[43m.\u001b[49m\u001b[43misnull\u001b[49m\u001b[43m(\u001b[49m\u001b[43m)\u001b[49m\u001b[43m]\u001b[49m\u001b[43m[\u001b[49m\u001b[33;43m\"\u001b[39;49m\u001b[33;43mfilename\u001b[39;49m\u001b[33;43m\"\u001b[39;49m\u001b[43m]\u001b[49m.value_counts()\n",
      "\u001b[36mFile \u001b[39m\u001b[32md:\\DBU\\ADSC11 ADS-01\\Studienarbeit\\newspaper-scraping\\.venv\\Lib\\site-packages\\pandas\\core\\frame.py:4102\u001b[39m, in \u001b[36mDataFrame.__getitem__\u001b[39m\u001b[34m(self, key)\u001b[39m\n\u001b[32m   4100\u001b[39m \u001b[38;5;28;01mif\u001b[39;00m \u001b[38;5;28mself\u001b[39m.columns.nlevels > \u001b[32m1\u001b[39m:\n\u001b[32m   4101\u001b[39m     \u001b[38;5;28;01mreturn\u001b[39;00m \u001b[38;5;28mself\u001b[39m._getitem_multilevel(key)\n\u001b[32m-> \u001b[39m\u001b[32m4102\u001b[39m indexer = \u001b[38;5;28;43mself\u001b[39;49m\u001b[43m.\u001b[49m\u001b[43mcolumns\u001b[49m\u001b[43m.\u001b[49m\u001b[43mget_loc\u001b[49m\u001b[43m(\u001b[49m\u001b[43mkey\u001b[49m\u001b[43m)\u001b[49m\n\u001b[32m   4103\u001b[39m \u001b[38;5;28;01mif\u001b[39;00m is_integer(indexer):\n\u001b[32m   4104\u001b[39m     indexer = [indexer]\n",
      "\u001b[36mFile \u001b[39m\u001b[32md:\\DBU\\ADSC11 ADS-01\\Studienarbeit\\newspaper-scraping\\.venv\\Lib\\site-packages\\pandas\\core\\indexes\\base.py:3812\u001b[39m, in \u001b[36mIndex.get_loc\u001b[39m\u001b[34m(self, key)\u001b[39m\n\u001b[32m   3807\u001b[39m     \u001b[38;5;28;01mif\u001b[39;00m \u001b[38;5;28misinstance\u001b[39m(casted_key, \u001b[38;5;28mslice\u001b[39m) \u001b[38;5;129;01mor\u001b[39;00m (\n\u001b[32m   3808\u001b[39m         \u001b[38;5;28misinstance\u001b[39m(casted_key, abc.Iterable)\n\u001b[32m   3809\u001b[39m         \u001b[38;5;129;01mand\u001b[39;00m \u001b[38;5;28many\u001b[39m(\u001b[38;5;28misinstance\u001b[39m(x, \u001b[38;5;28mslice\u001b[39m) \u001b[38;5;28;01mfor\u001b[39;00m x \u001b[38;5;129;01min\u001b[39;00m casted_key)\n\u001b[32m   3810\u001b[39m     ):\n\u001b[32m   3811\u001b[39m         \u001b[38;5;28;01mraise\u001b[39;00m InvalidIndexError(key)\n\u001b[32m-> \u001b[39m\u001b[32m3812\u001b[39m     \u001b[38;5;28;01mraise\u001b[39;00m \u001b[38;5;167;01mKeyError\u001b[39;00m(key) \u001b[38;5;28;01mfrom\u001b[39;00m\u001b[38;5;250m \u001b[39m\u001b[34;01merr\u001b[39;00m\n\u001b[32m   3813\u001b[39m \u001b[38;5;28;01mexcept\u001b[39;00m \u001b[38;5;167;01mTypeError\u001b[39;00m:\n\u001b[32m   3814\u001b[39m     \u001b[38;5;66;03m# If we have a listlike key, _check_indexing_error will raise\u001b[39;00m\n\u001b[32m   3815\u001b[39m     \u001b[38;5;66;03m#  InvalidIndexError. Otherwise we fall through and re-raise\u001b[39;00m\n\u001b[32m   3816\u001b[39m     \u001b[38;5;66;03m#  the TypeError.\u001b[39;00m\n\u001b[32m   3817\u001b[39m     \u001b[38;5;28mself\u001b[39m._check_indexing_error(key)\n",
      "\u001b[31mKeyError\u001b[39m: 'filename'"
     ]
    }
   ],
   "source": [
    "# Aus welcher Datei entstehen fehlende Wörter\n",
    "df_medien[df_medien[\"word\"].isnull()][\"filename\"].value_counts()"
   ]
  },
  {
   "cell_type": "code",
   "execution_count": null,
   "id": "99b43fe1",
   "metadata": {},
   "outputs": [],
   "source": [
    "# ENTSCHEIDEN; WAS WIR MIT DEN FEHLENDEN WERTEN MACHEN\n",
    "#die Logs auswerten (*_log.csv, *_failures.csv)\n",
    "\n",
    "#gezielt NaN-Wörter untersuchen\n",
    "\n",
    "#ggf. Medien, Dateien oder Zeiträume identifizieren, die besonders viele Lücken haben\n",
    "\n",
    "#Entscheidungen treffen, z. B.:\n",
    "\n",
    "#Ausschließen einzelner Dateien\n",
    "\n",
    "#Erneut extrahieren/parsen\n",
    "\n",
    "#Oder bewusst drinlassen und kennzeichnen"
   ]
  },
  {
   "cell_type": "markdown",
   "id": "eb9624dd",
   "metadata": {},
   "source": [
    "#### 3. Schlagwortanalyse"
   ]
  },
  {
   "cell_type": "code",
   "execution_count": 18,
   "id": "f935bce3",
   "metadata": {},
   "outputs": [
    {
     "name": "stdout",
     "output_type": "stream",
     "text": [
      "(2422, 4)\n"
     ]
    }
   ],
   "source": [
    "# Neuer DataFrame für Filter: Wie oft kommt BVG in der Webseiten vor\n",
    "df_bvg = df_medien.loc[df_medien[\"word\"].str.contains(\"bvg\", na=False)]\n",
    "print(df_bvg.shape)"
   ]
  },
  {
   "cell_type": "code",
   "execution_count": 19,
   "id": "34eccd2f",
   "metadata": {},
   "outputs": [
    {
     "data": {
      "text/plain": [
       "word\n",
       "bvg                 1291\n",
       "bvg:                 195\n",
       "bvg-bussen            76\n",
       "bvg-bus               76\n",
       "bvg.                  65\n",
       "bvg-app               43\n",
       "bvg-chefin            35\n",
       "bvg-streik            35\n",
       "bvg,                  33\n",
       "bvg-fahrinfo-app      26\n",
       "Name: count, dtype: int64"
      ]
     },
     "execution_count": 19,
     "metadata": {},
     "output_type": "execute_result"
    }
   ],
   "source": [
    "df_bvg[\"word\"].value_counts().head(10)"
   ]
  },
  {
   "cell_type": "code",
   "execution_count": null,
   "id": "e4248115",
   "metadata": {},
   "outputs": [
    {
     "name": "stdout",
     "output_type": "stream",
     "text": [
      "year\n",
      "2021     646\n",
      "2022     701\n",
      "2023     609\n",
      "2024    1056\n",
      "2025     357\n",
      "Name: count, dtype: int64\n"
     ]
    },
    {
     "name": "stderr",
     "output_type": "stream",
     "text": [
      "C:\\Users\\Marta\\AppData\\Local\\Temp\\ipykernel_12048\\3224021851.py:1: SettingWithCopyWarning: \n",
      "A value is trying to be set on a copy of a slice from a DataFrame.\n",
      "Try using .loc[row_indexer,col_indexer] = value instead\n",
      "\n",
      "See the caveats in the documentation: https://pandas.pydata.org/pandas-docs/stable/user_guide/indexing.html#returning-a-view-versus-a-copy\n",
      "  df_bvg[\"date\"] = pd.to_datetime(df_bvg[\"date\"], errors=\"coerce\")\n",
      "C:\\Users\\Marta\\AppData\\Local\\Temp\\ipykernel_12048\\3224021851.py:2: SettingWithCopyWarning: \n",
      "A value is trying to be set on a copy of a slice from a DataFrame.\n",
      "Try using .loc[row_indexer,col_indexer] = value instead\n",
      "\n",
      "See the caveats in the documentation: https://pandas.pydata.org/pandas-docs/stable/user_guide/indexing.html#returning-a-view-versus-a-copy\n",
      "  df_bvg[\"year\"] = df_bvg[\"date\"].dt.year\n"
     ]
    }
   ],
   "source": [
    "# Wortanzahl über alle Jahre \n",
    "df_bvg[\"date\"] = pd.to_datetime(df_bvg[\"date\"], errors=\"coerce\")\n",
    "df_bvg[\"year\"] = df_bvg[\"date\"].dt.year\n",
    "bvg_zeit = df_bvg.groupby(\"year\")[\"count\"].sum()\n",
    "print(bvg_zeit)"
   ]
  },
  {
   "cell_type": "code",
   "execution_count": 22,
   "id": "932b3ad2",
   "metadata": {},
   "outputs": [
    {
     "data": {
      "text/plain": [
       "source\n",
       "berliner        1127\n",
       "tagesspiegel    1011\n",
       "taz               92\n",
       "netzpolitik       71\n",
       "ntv               17\n",
       "zeit              14\n",
       "heise             13\n",
       "welt              12\n",
       "wiwo              11\n",
       "mm                10\n",
       "stern             10\n",
       "spiegel            8\n",
       "sz                 6\n",
       "dlf                6\n",
       "t3n                5\n",
       "faz                4\n",
       "handelsblatt       2\n",
       "abendblatt         2\n",
       "tagesschau         1\n",
       "Name: count, dtype: int64"
      ]
     },
     "execution_count": 22,
     "metadata": {},
     "output_type": "execute_result"
    }
   ],
   "source": [
    "# Häufigkeit nach Quellen\n",
    "df_bvg[\"source\"].value_counts()"
   ]
  },
  {
   "cell_type": "code",
   "execution_count": null,
   "id": "14d52f13",
   "metadata": {},
   "outputs": [
    {
     "data": {
      "text/plain": [
       "word\n",
       "bvg                        2005\n",
       "bvg:                        226\n",
       "bvg-bus                      98\n",
       "bvg-bussen                   82\n",
       "bvg-app                      72\n",
       "bvg.                         69\n",
       "bvg-streik                   62\n",
       "bvg-chefin                   42\n",
       "bvg-account                  36\n",
       "bvg,                         34\n",
       "bvg-streik:                  32\n",
       "bvg-fahrinfo-app             26\n",
       "bvg-busse                    21\n",
       "bvg?                         20\n",
       "bvg-warnstreik               19\n",
       "bvg-fahrgäste                18\n",
       "bvg-krise                    17\n",
       "bvg“                         15\n",
       "bvg-chef                     14\n",
       "bvg-fahrer                   13\n",
       "bvg-mitarbeiter              13\n",
       "bvg-personal                 12\n",
       "bvg-kantine                  11\n",
       "bvg-tramfahrer               11\n",
       "bvg-alltag                   10\n",
       "bvg-hotline                   9\n",
       "(bvg)                         9\n",
       "bvg-chef:                     9\n",
       "bvg-projekt                   9\n",
       "bvg-fahrgäste:                9\n",
       "bvg-streit:                   8\n",
       "bvg-app:                      8\n",
       "bvg-bus:                      8\n",
       "bvg-tram                      8\n",
       "bvg-ticket                    7\n",
       "bvg-streik.                   7\n",
       "bvg-busfahrer                 6\n",
       "bvg-sitzmuster                6\n",
       "bvg-ticketkontrolle           6\n",
       "bvg-betriebsvorstand          6\n",
       "bvg-doppeldecker              6\n",
       "bvg-linien                    6\n",
       "bvg-fundbüro                  6\n",
       "bvg-hit                       5\n",
       "bvg-kontrolle                 5\n",
       "bvg-personalratschefin:       5\n",
       "„bvg-mitarbeiter              5\n",
       "bvg-urteil                    5\n",
       "bvg-infrastrukturchefin       4\n",
       "bvg-beschäftigten             4\n",
       "Name: count, dtype: int64"
      ]
     },
     "execution_count": 20,
     "metadata": {},
     "output_type": "execute_result"
    }
   ],
   "source": [
    "# Top-Wörter im Zusammenhang mit BVG\n",
    "df_bvg.groupby(\"word\")[\"count\"].sum().sort_values(ascending=False).head(50)"
   ]
  },
  {
   "cell_type": "code",
   "execution_count": 23,
   "id": "efc0e0b0",
   "metadata": {},
   "outputs": [
    {
     "data": {
      "text/html": [
       "<div>\n",
       "<style scoped>\n",
       "    .dataframe tbody tr th:only-of-type {\n",
       "        vertical-align: middle;\n",
       "    }\n",
       "\n",
       "    .dataframe tbody tr th {\n",
       "        vertical-align: top;\n",
       "    }\n",
       "\n",
       "    .dataframe thead th {\n",
       "        text-align: right;\n",
       "    }\n",
       "</style>\n",
       "<table border=\"1\" class=\"dataframe\">\n",
       "  <thead>\n",
       "    <tr style=\"text-align: right;\">\n",
       "      <th>source</th>\n",
       "      <th>abendblatt</th>\n",
       "      <th>berliner</th>\n",
       "      <th>dlf</th>\n",
       "      <th>faz</th>\n",
       "      <th>handelsblatt</th>\n",
       "      <th>heise</th>\n",
       "      <th>mm</th>\n",
       "      <th>netzpolitik</th>\n",
       "      <th>ntv</th>\n",
       "      <th>spiegel</th>\n",
       "      <th>stern</th>\n",
       "      <th>sz</th>\n",
       "      <th>t3n</th>\n",
       "      <th>tagesschau</th>\n",
       "      <th>tagesspiegel</th>\n",
       "      <th>taz</th>\n",
       "      <th>welt</th>\n",
       "      <th>wiwo</th>\n",
       "      <th>zeit</th>\n",
       "    </tr>\n",
       "    <tr>\n",
       "      <th>year</th>\n",
       "      <th></th>\n",
       "      <th></th>\n",
       "      <th></th>\n",
       "      <th></th>\n",
       "      <th></th>\n",
       "      <th></th>\n",
       "      <th></th>\n",
       "      <th></th>\n",
       "      <th></th>\n",
       "      <th></th>\n",
       "      <th></th>\n",
       "      <th></th>\n",
       "      <th></th>\n",
       "      <th></th>\n",
       "      <th></th>\n",
       "      <th></th>\n",
       "      <th></th>\n",
       "      <th></th>\n",
       "      <th></th>\n",
       "    </tr>\n",
       "  </thead>\n",
       "  <tbody>\n",
       "    <tr>\n",
       "      <th>2021</th>\n",
       "      <td>0</td>\n",
       "      <td>115</td>\n",
       "      <td>5</td>\n",
       "      <td>1</td>\n",
       "      <td>2</td>\n",
       "      <td>2</td>\n",
       "      <td>0</td>\n",
       "      <td>0</td>\n",
       "      <td>0</td>\n",
       "      <td>0</td>\n",
       "      <td>3</td>\n",
       "      <td>0</td>\n",
       "      <td>0</td>\n",
       "      <td>0</td>\n",
       "      <td>497</td>\n",
       "      <td>7</td>\n",
       "      <td>0</td>\n",
       "      <td>13</td>\n",
       "      <td>1</td>\n",
       "    </tr>\n",
       "    <tr>\n",
       "      <th>2022</th>\n",
       "      <td>0</td>\n",
       "      <td>181</td>\n",
       "      <td>0</td>\n",
       "      <td>3</td>\n",
       "      <td>0</td>\n",
       "      <td>0</td>\n",
       "      <td>0</td>\n",
       "      <td>0</td>\n",
       "      <td>2</td>\n",
       "      <td>5</td>\n",
       "      <td>1</td>\n",
       "      <td>0</td>\n",
       "      <td>0</td>\n",
       "      <td>0</td>\n",
       "      <td>493</td>\n",
       "      <td>14</td>\n",
       "      <td>1</td>\n",
       "      <td>0</td>\n",
       "      <td>1</td>\n",
       "    </tr>\n",
       "    <tr>\n",
       "      <th>2023</th>\n",
       "      <td>2</td>\n",
       "      <td>359</td>\n",
       "      <td>0</td>\n",
       "      <td>0</td>\n",
       "      <td>0</td>\n",
       "      <td>3</td>\n",
       "      <td>9</td>\n",
       "      <td>0</td>\n",
       "      <td>2</td>\n",
       "      <td>0</td>\n",
       "      <td>2</td>\n",
       "      <td>2</td>\n",
       "      <td>6</td>\n",
       "      <td>0</td>\n",
       "      <td>187</td>\n",
       "      <td>31</td>\n",
       "      <td>1</td>\n",
       "      <td>0</td>\n",
       "      <td>5</td>\n",
       "    </tr>\n",
       "    <tr>\n",
       "      <th>2024</th>\n",
       "      <td>0</td>\n",
       "      <td>580</td>\n",
       "      <td>1</td>\n",
       "      <td>1</td>\n",
       "      <td>0</td>\n",
       "      <td>6</td>\n",
       "      <td>1</td>\n",
       "      <td>115</td>\n",
       "      <td>5</td>\n",
       "      <td>2</td>\n",
       "      <td>2</td>\n",
       "      <td>2</td>\n",
       "      <td>0</td>\n",
       "      <td>0</td>\n",
       "      <td>289</td>\n",
       "      <td>43</td>\n",
       "      <td>5</td>\n",
       "      <td>0</td>\n",
       "      <td>4</td>\n",
       "    </tr>\n",
       "    <tr>\n",
       "      <th>2025</th>\n",
       "      <td>0</td>\n",
       "      <td>210</td>\n",
       "      <td>0</td>\n",
       "      <td>0</td>\n",
       "      <td>0</td>\n",
       "      <td>2</td>\n",
       "      <td>0</td>\n",
       "      <td>0</td>\n",
       "      <td>9</td>\n",
       "      <td>1</td>\n",
       "      <td>2</td>\n",
       "      <td>2</td>\n",
       "      <td>0</td>\n",
       "      <td>1</td>\n",
       "      <td>105</td>\n",
       "      <td>16</td>\n",
       "      <td>6</td>\n",
       "      <td>0</td>\n",
       "      <td>3</td>\n",
       "    </tr>\n",
       "  </tbody>\n",
       "</table>\n",
       "</div>"
      ],
      "text/plain": [
       "source  abendblatt  berliner  dlf  faz  handelsblatt  heise  mm  netzpolitik  \\\n",
       "year                                                                           \n",
       "2021             0       115    5    1             2      2   0            0   \n",
       "2022             0       181    0    3             0      0   0            0   \n",
       "2023             2       359    0    0             0      3   9            0   \n",
       "2024             0       580    1    1             0      6   1          115   \n",
       "2025             0       210    0    0             0      2   0            0   \n",
       "\n",
       "source  ntv  spiegel  stern  sz  t3n  tagesschau  tagesspiegel  taz  welt  \\\n",
       "year                                                                        \n",
       "2021      0        0      3   0    0           0           497    7     0   \n",
       "2022      2        5      1   0    0           0           493   14     1   \n",
       "2023      2        0      2   2    6           0           187   31     1   \n",
       "2024      5        2      2   2    0           0           289   43     5   \n",
       "2025      9        1      2   2    0           1           105   16     6   \n",
       "\n",
       "source  wiwo  zeit  \n",
       "year                \n",
       "2021      13     1  \n",
       "2022       0     1  \n",
       "2023       0     5  \n",
       "2024       0     4  \n",
       "2025       0     3  "
      ]
     },
     "execution_count": 23,
     "metadata": {},
     "output_type": "execute_result"
    }
   ],
   "source": [
    "pivot = df_bvg.pivot_table(index=\"year\", columns=\"source\", values=\"count\", aggfunc=\"sum\", fill_value=0)\n",
    "pivot.head()"
   ]
  },
  {
   "cell_type": "code",
   "execution_count": 29,
   "id": "1cbb2204",
   "metadata": {},
   "outputs": [
    {
     "data": {
      "image/png": "[encoded data removed]",
      "text/plain": [
       "<Figure size 1200x600 with 2 Axes>"
      ]
     },
     "metadata": {},
     "output_type": "display_data"
    }
   ],
   "source": [
    "plt.figure(figsize=(12, 6))\n",
    "sns.heatmap(pivot, cmap=\"YlGnBu\", annot=True, fmt=\"d\")\n",
    "plt.title(\"Häufigkeit Wort 'BVG' nach Jahr und Medium\")\n",
    "plt.xlabel(\"Medium\")\n",
    "plt.ylabel(\"Jahr\")\n",
    "plt.tight_layout()\n",
    "plt.show()"
   ]
  }
 ],
 "metadata": {
  "kernelspec": {
   "display_name": ".venv",
   "language": "python",
   "name": "python3"
  },
  "language_info": {
   "codemirror_mode": {
    "name": "ipython",
    "version": 3
   },
   "file_extension": ".py",
   "mimetype": "text/x-python",
   "name": "python",
   "nbconvert_exporter": "python",
   "pygments_lexer": "ipython3",
   "version": "3.11.0"
  }
 },
 "nbformat": 4,
 "nbformat_minor": 5
}

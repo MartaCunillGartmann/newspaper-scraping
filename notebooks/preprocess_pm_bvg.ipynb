{
 "cells": [
  {
   "cell_type": "markdown",
   "id": "593d0181",
   "metadata": {},
   "source": [
    "### preprocess_pm.ipynb – Datenaufbereitung für die Frequenzanalyse\n",
    "\n",
    "Dieses Notebook bereitet die Inhalte der BVG-Pressemitteilungen strukturiert auf.  \n",
    "Der Fokus liegt auf der Extraktion des eigentlichen Pressetexts und der anschließenden Bereinigung.  \n",
    "Die Ergebnisse (Wortfrequenzen) dienen als Grundlage für nachgelagerte Analysen."
   ]
  },
  {
   "cell_type": "markdown",
   "id": "960493ff",
   "metadata": {},
   "source": [
    "#### 1. Import benötigte Pakete"
   ]
  },
  {
   "cell_type": "code",
   "execution_count": 26,
   "id": "a97dba1f",
   "metadata": {},
   "outputs": [],
   "source": [
    "# Standard\n",
    "import os\n",
    "import pandas as pd # Datenanalyse\n",
    "import sqlite3  # Speicherung in SQLite-Datenbanken\n",
    "import sys  # Systemfunktionen \n",
    "\n",
    "# Bearbeiten von HTML-Dateien\n",
    "from bs4 import BeautifulSoup  # HTML auslesen und bereinigen\n",
    "\n",
    "# Eigene Funktionen (ausgelagert)\n",
    "sys.path.append(\"../scripts\") # Pfad zu den Funktionen\n",
    "# Funktionen aus datenaufbereitung.py importieren\n",
    "from datenaufbereitung import (\n",
    "    load_stopwords,\n",
    "    read_html_file,\n",
    "    extract_date_from_html,\n",
    ")\n",
    "stopwords_list = load_stopwords()"
   ]
  },
  {
   "cell_type": "code",
   "execution_count": 27,
   "id": "5d9aceb1",
   "metadata": {},
   "outputs": [],
   "source": [
    "# Pfade\n",
    "INPUT_FOLDER = os.path.join(\"..\", \"input\", \"pm_bvg_raw\")\n",
    "OUTPUT_FOLDER = os.path.join(\"..\", \"output\")"
   ]
  },
  {
   "cell_type": "code",
   "execution_count": 28,
   "id": "fe18cc66",
   "metadata": {},
   "outputs": [],
   "source": [
    "# CSV Datei Wortzählung einlesen\n",
    "df = pd.read_csv(\"output/pm_bvg_wordcount.csv\")"
   ]
  },
  {
   "cell_type": "code",
   "execution_count": 29,
   "id": "4d6f6683",
   "metadata": {},
   "outputs": [
    {
     "name": "stdout",
     "output_type": "stream",
     "text": [
      "word\n",
      "bvg                     6693\n",
      "berliner                1497\n",
      "service                 1424\n",
      "startseite              1397\n",
      "pressemitteilungen      1395\n",
      "cookie-einstellungen    1395\n",
      "werden.                 1191\n",
      "informationen           1020\n",
      "2025                     992\n",
      "tickets                  946\n",
      "Name: count, dtype: int64\n"
     ]
    }
   ],
   "source": [
    "# Top 10 Wörter BVG-Webseite\n",
    "top10 = df.groupby(\"word\")[\"count\"].sum().sort_values(ascending=False).head(10)\n",
    "print(top10)"
   ]
  },
  {
   "cell_type": "markdown",
   "id": "a1dc9599",
   "metadata": {},
   "source": [
    "#### 2. Definition der Verarbeitungsfunktionen (Extraktion & Bereinigung)  "
   ]
  },
  {
   "cell_type": "code",
   "execution_count": 30,
   "id": "2f97c3cc",
   "metadata": {},
   "outputs": [],
   "source": [
    "# Eigentlicher Pressetext in Wörter umwandeln, Stoppwörter entfernen\n",
    "def clean_and_split_text(text, stopwords_list):\n",
    "    # Kleinbuchstaben, Zeilenumbrüche raus, in Wörter aufteilen\n",
    "    text = text.lower().replace(\"\\n\", \" \")\n",
    "    tokens = text.split(\" \")\n",
    "    # Stoppwörter und kurze Wörter (<=1 Zeichen) entfernen\n",
    "    return [w for w in tokens if len(w) > 1 and w not in stopwords_list]"
   ]
  },
  {
   "cell_type": "code",
   "execution_count": 31,
   "id": "dd61639f",
   "metadata": {},
   "outputs": [],
   "source": [
    "def extract_press_text(html):\n",
    "    soup = BeautifulSoup(html, \"html.parser\")\n",
    "\n",
    "    # Aktuelle Pressemitteilungen (mit <p>-Tags)\n",
    "    paragraphs = soup.find_all(\"p\")\n",
    "    if paragraphs:\n",
    "        return \" \".join(p.get_text() for p in paragraphs)\n",
    "\n",
    "    # Ältere Pressemitteilungen (RichText-Klasse)\n",
    "    richtext_divs = soup.find_all(\"div\", class_=\"RichText_RichText__F_qRr\")\n",
    "    if richtext_divs:\n",
    "        return \" \".join(div.get_text() for div in richtext_divs)\n",
    "\n",
    "    # 3. Fallback\n",
    "    return soup.get_text(separator=\" \")"
   ]
  },
  {
   "cell_type": "markdown",
   "id": "c286ea60",
   "metadata": {},
   "source": [
    "#### 3. Anwendung der Verarbeitungsfunktionen auf die Pressemitteilungen  "
   ]
  },
  {
   "cell_type": "code",
   "execution_count": 32,
   "id": "b983c3f7",
   "metadata": {},
   "outputs": [],
   "source": [
    "# Ergebnisse sammeln\n",
    "collection = []\n",
    "\n",
    "# Pressemitteilungen (HTML-Dateien) zur Verarbeitung laden\n",
    "files = [f for f in os.listdir(INPUT_FOLDER) if f.endswith(\".html\")]\n",
    "\n",
    "for file in files:\n",
    "    file_path = os.path.join(INPUT_FOLDER, file)\n",
    "    try:\n",
    "        # HTML laden mit ausgelagerter Funktion\n",
    "        html = read_html_file(file_path)\n",
    "\n",
    "        # Datum extrahieren mit ausgelagerter Funktion\n",
    "        date_str, year = extract_date_from_html(html)\n",
    "\n",
    "        # Nur Pressetext extrahieren\n",
    "        text = extract_press_text(html)\n",
    "\n",
    "        # Text bereinigen und in Wörter umwandeln\n",
    "        words = clean_and_split_text(text, stopwords_list)\n",
    "\n",
    "        # Häufigkeit jedes Wortes zählen\n",
    "        count = pd.Series(words).value_counts()\n",
    "\n",
    "        # Als DataFrame formatieren mit Spalten Wort, Medium, Datum\n",
    "        count_df = count.to_frame()\n",
    "        count_df.columns = [\"count\"]\n",
    "        count_df[\"word\"] = count_df.index\n",
    "        count_df[\"source\"] = \"bvg_pm\"\n",
    "        count_df[\"date\"] = date_str\n",
    "     \n",
    "      \n",
    "        # Ergebnis speichern\n",
    "        collection.append(count_df)\n",
    "\n",
    "    except Exception as e:\n",
    "        print(f\"Fehler bei Datei {file}: {e}\")"
   ]
  },
  {
   "cell_type": "code",
   "execution_count": 33,
   "id": "d415f84e",
   "metadata": {},
   "outputs": [
    {
     "name": "stdout",
     "output_type": "stream",
     "text": [
      "(143198, 4)\n",
      "Verarbeitet: 910 Dateien\n",
      "Gesamtzahl Wörter: 143198\n"
     ]
    }
   ],
   "source": [
    "# Prüfung\n",
    "print(df.shape)\n",
    "print(f\"Verarbeitet: {len(files)} Dateien\")\n",
    "print(f\"Gesamtzahl Wörter: {len(df)}\")"
   ]
  },
  {
   "cell_type": "markdown",
   "id": "09e3501c",
   "metadata": {},
   "source": [
    "#### 5. Speicherung der Ergebnisse (Wortfrequenzen)"
   ]
  },
  {
   "cell_type": "code",
   "execution_count": 34,
   "id": "2f1b1ac6",
   "metadata": {},
   "outputs": [
    {
     "name": "stdout",
     "output_type": "stream",
     "text": [
      "Bereinigte Wortzählung als CSV gespeichert unter: ..\\output\\wordcount_pm_clean.csv\n"
     ]
    }
   ],
   "source": [
    "# Als csv speichern\n",
    "CSV_CLEAN_PATH = os.path.join(OUTPUT_FOLDER, \"wordcount_pm_clean.csv\")\n",
    "df.to_csv(CSV_CLEAN_PATH, index=False)\n",
    "\n",
    "print(f\"Bereinigte Wortzählung als CSV gespeichert unter: {CSV_CLEAN_PATH}\")"
   ]
  },
  {
   "cell_type": "code",
   "execution_count": 35,
   "id": "3907fe5a",
   "metadata": {},
   "outputs": [
    {
     "name": "stdout",
     "output_type": "stream",
     "text": [
      "Bereinigte Wortzählung gespeichert unter: ..\\output\\dwh_pm_bvg.sqlite3\n"
     ]
    }
   ],
   "source": [
    "# Als SQLite-Datenbank speichern\n",
    "SQL_CLEAN_PATH = os.path.join(OUTPUT_FOLDER, \"dwh_pm_bvg.sqlite3\")\n",
    "conn = sqlite3.connect(SQL_CLEAN_PATH)\n",
    "df.to_sql(\"wordcount_pm_clean\", conn, if_exists=\"replace\", index=False)\n",
    "conn.close()\n",
    "\n",
    "print(f\"Bereinigte Wortzählung gespeichert unter: {SQL_CLEAN_PATH}\")"
   ]
  },
  {
   "cell_type": "code",
   "execution_count": 36,
   "id": "727e59fe",
   "metadata": {},
   "outputs": [
    {
     "name": "stdout",
     "output_type": "stream",
     "text": [
      "Tabellen in der Datenbank:\n",
      "pm_bvg_valid\n",
      "wordcount_pm\n",
      "wordcount_pm_clean\n"
     ]
    }
   ],
   "source": [
    "# Prüfung Tabellen in Datenbank\n",
    "# Verbindung zur Datenbank aufbauen\n",
    "conn = sqlite3.connect(os.path.join(OUTPUT_FOLDER, \"dwh_pm_bvg.sqlite3\"))\n",
    "\n",
    "# Cursor-Objekt erstellen\n",
    "cursor = conn.cursor()\n",
    "\n",
    "# Abfrage: Alle Tabellennamen aus der Datenbank holen\n",
    "cursor.execute(\"SELECT name FROM sqlite_master WHERE type='table';\")\n",
    "\n",
    "# Ergebnis holen\n",
    "tables = cursor.fetchall()\n",
    "\n",
    "# Tabellen ausgeben\n",
    "print(\"Tabellen in der Datenbank:\")\n",
    "for table in tables:\n",
    "    print(table[0])\n",
    "\n",
    "# Verbindung schließen\n",
    "conn.close()"
   ]
  }
 ],
 "metadata": {
  "kernelspec": {
   "display_name": "newspaper-scraping-08G4y0J9",
   "language": "python",
   "name": "python3"
  },
  "language_info": {
   "codemirror_mode": {
    "name": "ipython",
    "version": 3
   },
   "file_extension": ".py",
   "mimetype": "text/x-python",
   "name": "python",
   "nbconvert_exporter": "python",
   "pygments_lexer": "ipython3",
   "version": "3.11.0"
  }
 },
 "nbformat": 4,
 "nbformat_minor": 5
}

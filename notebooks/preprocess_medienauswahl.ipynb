{
 "cells": [
  {
   "cell_type": "code",
   "execution_count": 16,
   "id": "fa80dbce",
   "metadata": {},
   "outputs": [],
   "source": [
    "import os\n",
    "import sqlite3\n",
    "import pandas as pd"
   ]
  },
  {
   "cell_type": "code",
   "execution_count": 17,
   "id": "1bdef891",
   "metadata": {},
   "outputs": [],
   "source": [
    "# Pfade\n",
    "INPUT_FOLDER = os.path.join(\"..\", \"input\", \"pm_bvg_raw\")\n",
    "OUTPUT_FOLDER = os.path.join(\"..\", \"output\")\n",
    "SQL_PATH = os.path.join(OUTPUT_FOLDER, \"dwh.sqlite3\")"
   ]
  },
  {
   "cell_type": "code",
   "execution_count": 18,
   "id": "3624a8ac",
   "metadata": {},
   "outputs": [],
   "source": [
    "# csv-Datei einlesen\n",
    "df = pd.read_csv(\"../output/wordcount_news.csv\")"
   ]
  },
  {
   "cell_type": "code",
   "execution_count": 19,
   "id": "24a6affa",
   "metadata": {},
   "outputs": [
    {
     "data": {
      "text/html": [
       "<div>\n",
       "<style scoped>\n",
       "    .dataframe tbody tr th:only-of-type {\n",
       "        vertical-align: middle;\n",
       "    }\n",
       "\n",
       "    .dataframe tbody tr th {\n",
       "        vertical-align: top;\n",
       "    }\n",
       "\n",
       "    .dataframe thead th {\n",
       "        text-align: right;\n",
       "    }\n",
       "</style>\n",
       "<table border=\"1\" class=\"dataframe\">\n",
       "  <thead>\n",
       "    <tr style=\"text-align: right;\">\n",
       "      <th></th>\n",
       "      <th>count</th>\n",
       "      <th>word</th>\n",
       "      <th>source</th>\n",
       "      <th>date</th>\n",
       "    </tr>\n",
       "  </thead>\n",
       "  <tbody>\n",
       "    <tr>\n",
       "      <th>0</th>\n",
       "      <td>142</td>\n",
       "      <td>sz</td>\n",
       "      <td>sz</td>\n",
       "      <td>2025-02-08</td>\n",
       "    </tr>\n",
       "    <tr>\n",
       "      <th>1</th>\n",
       "      <td>121</td>\n",
       "      <td>plus</td>\n",
       "      <td>sz</td>\n",
       "      <td>2025-02-08</td>\n",
       "    </tr>\n",
       "    <tr>\n",
       "      <th>2</th>\n",
       "      <td>26</td>\n",
       "      <td>anzeigen</td>\n",
       "      <td>sz</td>\n",
       "      <td>2025-02-08</td>\n",
       "    </tr>\n",
       "    <tr>\n",
       "      <th>3</th>\n",
       "      <td>10</td>\n",
       "      <td>magazin</td>\n",
       "      <td>sz</td>\n",
       "      <td>2025-02-08</td>\n",
       "    </tr>\n",
       "    <tr>\n",
       "      <th>4</th>\n",
       "      <td>9</td>\n",
       "      <td>artikel</td>\n",
       "      <td>sz</td>\n",
       "      <td>2025-02-08</td>\n",
       "    </tr>\n",
       "  </tbody>\n",
       "</table>\n",
       "</div>"
      ],
      "text/plain": [
       "   count      word source        date\n",
       "0    142        sz     sz  2025-02-08\n",
       "1    121      plus     sz  2025-02-08\n",
       "2     26  anzeigen     sz  2025-02-08\n",
       "3     10   magazin     sz  2025-02-08\n",
       "4      9   artikel     sz  2025-02-08"
      ]
     },
     "execution_count": 19,
     "metadata": {},
     "output_type": "execute_result"
    }
   ],
   "source": [
    "df.head()"
   ]
  },
  {
   "cell_type": "code",
   "execution_count": 20,
   "id": "d2a660b2",
   "metadata": {},
   "outputs": [
    {
     "name": "stdout",
     "output_type": "stream",
     "text": [
      "['sz' 'zeit' 'faz' 'heise' 'golem' 'tagesspiegel' 'taz' 'abendblatt'\n",
      " 'berliner' 'welt' 'medium' 'esslinger' 'kdnuggets' 'handelsblatt' 'ntv'\n",
      " 'pioneer' 'suedwest' 't3n' 'economist' 'srf' 'wef' 'stuttgarter'\n",
      " 'atlantic' 'netzpolitik' 'towardsds' 'uebermedien' 'vulture' 'boerse'\n",
      " 'buchreport' '54books' 'dlf' 'dw-de' 'spiegel' 'cnn' 'bbc' 'dhv' 'mm'\n",
      " 'stern' 'tagesschau' 'zvw' 'ieee' 'anwaltsverein' 'wiwo' 'dw-en' 'dav'\n",
      " 'zwanzig' 'blick' 'nzz' 'republik' 'ta' 'watson-ch' 'nau' 'standard'\n",
      " 'kronen' 'kurier' 'kleine' 'watson-de' 'vice-de']\n"
     ]
    }
   ],
   "source": [
    "print(df[\"source\"].unique())         "
   ]
  },
  {
   "cell_type": "code",
   "execution_count": 21,
   "id": "3af48f49",
   "metadata": {},
   "outputs": [],
   "source": [
    "# Ausgewählte Medien\n",
    "SELECTED_MEDIA = [\n",
    "    # Große Medien\n",
    "    \"sz\", \"zeit\", \"faz\", \"tagesspiegel\", \"taz\", \"berliner\", \"welt\", \"spiegel\", \"stern\",\n",
    "    # Regionale Medien\n",
    "    \"abendblatt\", \"esslinger\", \"suedwest\", \"stuttgarter\", \"zvw\",\n",
    "    # Öffentlich-rechtliche\n",
    "    \"dlf\", \"dw-de\", \"tagesschau\",\n",
    "    # Wirtschaft\n",
    "    \"handelsblatt\", \"wiwo\", \"mm\", \"pioneer\", \"boerse\"\n",
    "]"
   ]
  },
  {
   "cell_type": "code",
   "execution_count": 22,
   "id": "b21c3fe5",
   "metadata": {},
   "outputs": [],
   "source": [
    "# Df filtern\n",
    "df_selected = df[df[\"source\"].isin(SELECTED_MEDIA)].copy()"
   ]
  },
  {
   "cell_type": "code",
   "execution_count": 23,
   "id": "049af398",
   "metadata": {},
   "outputs": [
    {
     "name": "stdout",
     "output_type": "stream",
     "text": [
      "['sz' 'zeit' 'faz' 'tagesspiegel' 'taz' 'abendblatt' 'berliner' 'welt'\n",
      " 'esslinger' 'handelsblatt' 'pioneer' 'suedwest' 'stuttgarter' 'boerse'\n",
      " 'dlf' 'dw-de' 'spiegel' 'mm' 'stern' 'tagesschau' 'zvw' 'wiwo']\n"
     ]
    }
   ],
   "source": [
    "# Check \n",
    "print(df_selected[\"source\"].unique())           "
   ]
  },
  {
   "cell_type": "code",
   "execution_count": 24,
   "id": "f1a81954",
   "metadata": {},
   "outputs": [],
   "source": [
    "# als CSV speichern\n",
    "df_selected.to_csv(\"../output/wordcount_news_selected.csv\", index=False)"
   ]
  },
  {
   "cell_type": "code",
   "execution_count": 25,
   "id": "3388eba7",
   "metadata": {},
   "outputs": [],
   "source": [
    "# als SQL speichern\n",
    "conn = sqlite3.connect(SQL_PATH)\n",
    "df_selected.to_sql(\"wordcount_news_selected\", conn, index=False, if_exists=\"replace\")\n",
    "conn.close()"
   ]
  },
  {
   "cell_type": "code",
   "execution_count": 26,
   "id": "472d5e60",
   "metadata": {},
   "outputs": [],
   "source": [
    "#### Ab hier Analyse aber als Versuch\n",
    "# csv-Datei einlesen\n",
    "df = pd.read_csv(\"../output/wordcount_news_selected.csv\")"
   ]
  },
  {
   "cell_type": "code",
   "execution_count": null,
   "id": "c4f1454c",
   "metadata": {},
   "outputs": [],
   "source": [
    "# Filter mentions bvg\n",
    "df_bvg = df_selected[df_selected[\"word\"].str.lower() == \"bvg\"]"
   ]
  },
  {
   "cell_type": "code",
   "execution_count": 40,
   "id": "7e3a4464",
   "metadata": {},
   "outputs": [
    {
     "data": {
      "text/plain": [
       "source\n",
       "berliner    4\n",
       "taz         4\n",
       "Name: count, dtype: int64"
      ]
     },
     "execution_count": 40,
     "metadata": {},
     "output_type": "execute_result"
    }
   ],
   "source": [
    "# Mentions BVG pro Source\n",
    "df_bvg.groupby(\"source\")[\"count\"].sum().sort_values(ascending=False)"
   ]
  },
  {
   "cell_type": "code",
   "execution_count": 45,
   "id": "6da23291",
   "metadata": {},
   "outputs": [],
   "source": [
    "# Filter mentions BVG\n",
    "df_bvg = df_selected[df_selected[\"word\"].str.upper() == \"BVG\"]"
   ]
  },
  {
   "cell_type": "code",
   "execution_count": 46,
   "id": "6e9feb0a",
   "metadata": {},
   "outputs": [
    {
     "data": {
      "text/plain": [
       "source\n",
       "berliner    4\n",
       "taz         4\n",
       "Name: count, dtype: int64"
      ]
     },
     "execution_count": 46,
     "metadata": {},
     "output_type": "execute_result"
    }
   ],
   "source": [
    "# Mentions BVG pro Source\n",
    "df_bvg.groupby(\"source\")[\"count\"].sum().sort_values(ascending=False)"
   ]
  },
  {
   "cell_type": "code",
   "execution_count": 32,
   "id": "8277e0e2",
   "metadata": {},
   "outputs": [
    {
     "data": {
      "text/plain": [
       "<Axes: title={'center': 'BVG-Erwähnungen pro Tag'}, xlabel='date'>"
      ]
     },
     "execution_count": 32,
     "metadata": {},
     "output_type": "execute_result"
    },
    {
     "data": {
      "image/png": "[encoded data removed]",
      "text/plain": [
       "<Figure size 1000x400 with 1 Axes>"
      ]
     },
     "metadata": {},
     "output_type": "display_data"
    }
   ],
   "source": [
    "# Mentions BVG pro Tag\n",
    "df_bvg.groupby(\"date\")[\"count\"].sum().plot(kind=\"bar\", figsize=(10,4), title=\"BVG-Erwähnungen pro Tag\")"
   ]
  },
  {
   "cell_type": "code",
   "execution_count": 49,
   "id": "e3846a68",
   "metadata": {},
   "outputs": [],
   "source": [
    "df_bvg = df_selected[df_selected[\"word\"].str.lower().str.contains(\"bvg\", na=False)]"
   ]
  },
  {
   "cell_type": "code",
   "execution_count": 50,
   "id": "2b9025fc",
   "metadata": {},
   "outputs": [
    {
     "data": {
      "text/plain": [
       "source\n",
       "berliner        12\n",
       "taz              8\n",
       "tagesspiegel     4\n",
       "Name: count, dtype: int64"
      ]
     },
     "execution_count": 50,
     "metadata": {},
     "output_type": "execute_result"
    }
   ],
   "source": [
    "df_bvg.groupby(\"source\")[\"count\"].sum().sort_values(ascending=False)"
   ]
  },
  {
   "cell_type": "code",
   "execution_count": 51,
   "id": "6dc296c4",
   "metadata": {},
   "outputs": [
    {
     "data": {
      "text/plain": [
       "word\n",
       "bvg            8\n",
       "bvg-takte      4\n",
       "bvg-angebot    4\n",
       "bvg-streik     4\n",
       "bvg:           4\n",
       "Name: count, dtype: int64"
      ]
     },
     "execution_count": 51,
     "metadata": {},
     "output_type": "execute_result"
    }
   ],
   "source": [
    "df_bvg[\"word\"].value_counts().head(10)"
   ]
  },
  {
   "cell_type": "code",
   "execution_count": 52,
   "id": "c550071e",
   "metadata": {},
   "outputs": [
    {
     "data": {
      "text/plain": [
       "array(['bvg-takte', 'bvg-angebot', 'bvg', 'bvg-streik', 'bvg:'],\n",
       "      dtype=object)"
      ]
     },
     "execution_count": 52,
     "metadata": {},
     "output_type": "execute_result"
    }
   ],
   "source": [
    "df_selected[df_selected[\"word\"].str.lower().str.contains(\"bvg\", na=False)][\"word\"].unique()"
   ]
  },
  {
   "cell_type": "code",
   "execution_count": 53,
   "id": "02aad5ea",
   "metadata": {},
   "outputs": [
    {
     "data": {
      "text/plain": [
       "source\n",
       "boerse          10092\n",
       "welt             8600\n",
       "faz              8260\n",
       "zeit             8128\n",
       "stuttgarter      8088\n",
       "spiegel          8008\n",
       "tagesspiegel     7032\n",
       "stern            6952\n",
       "sz               6676\n",
       "dlf              6460\n",
       "esslinger        5816\n",
       "berliner         5548\n",
       "abendblatt       5204\n",
       "mm               5188\n",
       "taz              4832\n",
       "suedwest         4156\n",
       "tagesschau       3032\n",
       "zvw              2140\n",
       "dw-de            2024\n",
       "pioneer           612\n",
       "handelsblatt       36\n",
       "wiwo               36\n",
       "Name: count, dtype: int64"
      ]
     },
     "execution_count": 53,
     "metadata": {},
     "output_type": "execute_result"
    }
   ],
   "source": [
    "df_selected[\"source\"].value_counts()"
   ]
  },
  {
   "cell_type": "code",
   "execution_count": 54,
   "id": "90fc077b",
   "metadata": {},
   "outputs": [
    {
     "data": {
      "text/plain": [
       "('2025-02-08', '2025-02-08')"
      ]
     },
     "execution_count": 54,
     "metadata": {},
     "output_type": "execute_result"
    }
   ],
   "source": [
    "df_selected[\"date\"].min(), df_selected[\"date\"].max()"
   ]
  }
 ],
 "metadata": {
  "kernelspec": {
   "display_name": "newspaper-scraping-08G4y0J9",
   "language": "python",
   "name": "python3"
  },
  "language_info": {
   "codemirror_mode": {
    "name": "ipython",
    "version": 3
   },
   "file_extension": ".py",
   "mimetype": "text/x-python",
   "name": "python",
   "nbconvert_exporter": "python",
   "pygments_lexer": "ipython3",
   "version": "3.11.0"
  }
 },
 "nbformat": 4,
 "nbformat_minor": 5
}

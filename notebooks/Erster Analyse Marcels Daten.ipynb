{
 "cells": [
  {
   "cell_type": "code",
   "execution_count": 3,
   "id": "0f324858",
   "metadata": {},
   "outputs": [],
   "source": [
    "# Standard\n",
    "import os\n",
    "import pandas as pd # Datenanalyse\n",
    "from datetime import datetime # Datumsangaben\n"
   ]
  },
  {
   "cell_type": "code",
   "execution_count": 7,
   "id": "474086f9",
   "metadata": {},
   "outputs": [],
   "source": [
    "# ERste Analyse mit Daten von Marcel\n",
    "# CSV Datei  einlesen\n",
    "df_or = pd.read_csv(\"output/cluster_oeffentlich.csv\")\n",
    "df_wm = pd.read_csv(\"output/cluster_wirtschaft.csv\")\n",
    "df_gm = pd.read_csv(\"output/cluster_grossemedien.csv\")\n",
    "df_rm = pd.read_csv(\"output/cluster_regiomedien.csv\")\n",
    "df_di = pd.read_csv(\"output/cluster_digital.csv\")\n",
    "df_tech = pd.read_csv(\"output/cluster_tech.csv\")\n"
   ]
  },
  {
   "cell_type": "code",
   "execution_count": 3,
   "id": "fa648beb",
   "metadata": {},
   "outputs": [
    {
     "name": "stdout",
     "output_type": "stream",
     "text": [
      "\n",
      "[Öffentlich] Columns: ['count', 'word', 'source', 'date']\n",
      "\n",
      "[Wirtschaft] Columns: ['count', 'word', 'source', 'date']\n",
      "\n",
      "[Groß] Columns: ['count', 'word', 'source', 'date']\n",
      "\n",
      "[Regio] Columns: ['count', 'word', 'source', 'date']\n",
      "\n",
      "[Divers] Columns: ['count', 'word', 'source', 'date']\n",
      "\n",
      "[Tech] Columns: ['count', 'word', 'source', 'date']\n"
     ]
    }
   ],
   "source": [
    "# Spalten\n",
    "for name, df in zip(\n",
    "    [\"Öffentlich\", \"Wirtschaft\", \"Groß\", \"Regio\", \"Divers\", \"Tech\"],\n",
    "    [df_or, df_wm, df_gm, df_rm, df_di, df_tech]\n",
    "):\n",
    "    print(f\"\\n[{name}] Columns:\", df.columns.tolist())"
   ]
  },
  {
   "cell_type": "code",
   "execution_count": 4,
   "id": "a6ea0808",
   "metadata": {},
   "outputs": [
    {
     "name": "stdout",
     "output_type": "stream",
     "text": [
      "Öffentlich: (2783770, 4)\n",
      "Wirtschaft: (8107394, 4)\n",
      "Groß: (19194483, 4)\n",
      "Regio: (5742758, 4)\n",
      "Divers: (5144626, 4)\n",
      "Tech: (5232188, 4)\n"
     ]
    }
   ],
   "source": [
    "for name, df in zip(\n",
    "    [\"Öffentlich\", \"Wirtschaft\", \"Groß\", \"Regio\", \"Divers\", \"Tech\"],\n",
    "    [df_or, df_wm, df_gm, df_rm, df_di, df_tech]\n",
    "):\n",
    "    print(f\"{name}: {df.shape}\")"
   ]
  },
  {
   "cell_type": "code",
   "execution_count": 5,
   "id": "b100efe3",
   "metadata": {},
   "outputs": [
    {
     "data": {
      "text/plain": [
       "count      0\n",
       "word      81\n",
       "source     0\n",
       "date       0\n",
       "dtype: int64"
      ]
     },
     "execution_count": 5,
     "metadata": {},
     "output_type": "execute_result"
    }
   ],
   "source": [
    "df_or.isnull().sum()"
   ]
  },
  {
   "cell_type": "code",
   "execution_count": 7,
   "id": "15a75d8d",
   "metadata": {},
   "outputs": [
    {
     "data": {
      "text/html": [
       "<div>\n",
       "<style scoped>\n",
       "    .dataframe tbody tr th:only-of-type {\n",
       "        vertical-align: middle;\n",
       "    }\n",
       "\n",
       "    .dataframe tbody tr th {\n",
       "        vertical-align: top;\n",
       "    }\n",
       "\n",
       "    .dataframe thead th {\n",
       "        text-align: right;\n",
       "    }\n",
       "</style>\n",
       "<table border=\"1\" class=\"dataframe\">\n",
       "  <thead>\n",
       "    <tr style=\"text-align: right;\">\n",
       "      <th></th>\n",
       "      <th>count</th>\n",
       "      <th>word</th>\n",
       "      <th>source</th>\n",
       "      <th>date</th>\n",
       "    </tr>\n",
       "  </thead>\n",
       "  <tbody>\n",
       "    <tr>\n",
       "      <th>1752451</th>\n",
       "      <td>1</td>\n",
       "      <td>NaN</td>\n",
       "      <td>dlf</td>\n",
       "      <td>2023-11-29</td>\n",
       "    </tr>\n",
       "    <tr>\n",
       "      <th>773554</th>\n",
       "      <td>1</td>\n",
       "      <td>NaN</td>\n",
       "      <td>dlf</td>\n",
       "      <td>2022-07-26</td>\n",
       "    </tr>\n",
       "    <tr>\n",
       "      <th>781226</th>\n",
       "      <td>1</td>\n",
       "      <td>NaN</td>\n",
       "      <td>dlf</td>\n",
       "      <td>2022-07-30</td>\n",
       "    </tr>\n",
       "    <tr>\n",
       "      <th>2180510</th>\n",
       "      <td>1</td>\n",
       "      <td>NaN</td>\n",
       "      <td>tagesschau</td>\n",
       "      <td>2024-06-23</td>\n",
       "    </tr>\n",
       "    <tr>\n",
       "      <th>810992</th>\n",
       "      <td>1</td>\n",
       "      <td>NaN</td>\n",
       "      <td>dlf</td>\n",
       "      <td>2022-08-14</td>\n",
       "    </tr>\n",
       "  </tbody>\n",
       "</table>\n",
       "</div>"
      ],
      "text/plain": [
       "         count word      source        date\n",
       "1752451      1  NaN         dlf  2023-11-29\n",
       "773554       1  NaN         dlf  2022-07-26\n",
       "781226       1  NaN         dlf  2022-07-30\n",
       "2180510      1  NaN  tagesschau  2024-06-23\n",
       "810992       1  NaN         dlf  2022-08-14"
      ]
     },
     "execution_count": 7,
     "metadata": {},
     "output_type": "execute_result"
    }
   ],
   "source": [
    "df_or[df_or[\"word\"].isnull()].sample(5, random_state=1)"
   ]
  },
  {
   "cell_type": "code",
   "execution_count": 14,
   "id": "2a5e7c4b",
   "metadata": {},
   "outputs": [
    {
     "data": {
      "text/html": [
       "<div>\n",
       "<style scoped>\n",
       "    .dataframe tbody tr th:only-of-type {\n",
       "        vertical-align: middle;\n",
       "    }\n",
       "\n",
       "    .dataframe tbody tr th {\n",
       "        vertical-align: top;\n",
       "    }\n",
       "\n",
       "    .dataframe thead th {\n",
       "        text-align: right;\n",
       "    }\n",
       "</style>\n",
       "<table border=\"1\" class=\"dataframe\">\n",
       "  <thead>\n",
       "    <tr style=\"text-align: right;\">\n",
       "      <th></th>\n",
       "      <th>count</th>\n",
       "      <th>word</th>\n",
       "      <th>source</th>\n",
       "      <th>date</th>\n",
       "    </tr>\n",
       "  </thead>\n",
       "  <tbody>\n",
       "    <tr>\n",
       "      <th>2201196</th>\n",
       "      <td>1</td>\n",
       "      <td>frühere</td>\n",
       "      <td>dlf</td>\n",
       "      <td>2024-07-02</td>\n",
       "    </tr>\n",
       "    <tr>\n",
       "      <th>2074551</th>\n",
       "      <td>1</td>\n",
       "      <td>verstärkung.</td>\n",
       "      <td>dlf</td>\n",
       "      <td>2024-05-05</td>\n",
       "    </tr>\n",
       "    <tr>\n",
       "      <th>1393432</th>\n",
       "      <td>1</td>\n",
       "      <td>krywyj</td>\n",
       "      <td>tagesschau</td>\n",
       "      <td>2023-06-13</td>\n",
       "    </tr>\n",
       "    <tr>\n",
       "      <th>1945289</th>\n",
       "      <td>4</td>\n",
       "      <td>russische</td>\n",
       "      <td>dlf</td>\n",
       "      <td>2024-03-02</td>\n",
       "    </tr>\n",
       "    <tr>\n",
       "      <th>2034636</th>\n",
       "      <td>1</td>\n",
       "      <td>pädagogen</td>\n",
       "      <td>dlf</td>\n",
       "      <td>2024-04-15</td>\n",
       "    </tr>\n",
       "  </tbody>\n",
       "</table>\n",
       "</div>"
      ],
      "text/plain": [
       "         count          word      source        date\n",
       "2201196      1       frühere         dlf  2024-07-02\n",
       "2074551      1  verstärkung.         dlf  2024-05-05\n",
       "1393432      1        krywyj  tagesschau  2023-06-13\n",
       "1945289      4     russische         dlf  2024-03-02\n",
       "2034636      1     pädagogen         dlf  2024-04-15"
      ]
     },
     "execution_count": 14,
     "metadata": {},
     "output_type": "execute_result"
    }
   ],
   "source": [
    "df_or.sample(5, random_state=1)"
   ]
  },
  {
   "cell_type": "code",
   "execution_count": 8,
   "id": "1ee26cc0",
   "metadata": {},
   "outputs": [
    {
     "name": "stdout",
     "output_type": "stream",
     "text": [
      "[INFO] Anzahl leerer Zeilen: 81\n"
     ]
    }
   ],
   "source": [
    "# Prüfung NaN\n",
    "df_null = df_or[df_or[\"word\"].isnull()]\n",
    "print(f\"[INFO] Anzahl leerer Zeilen: {len(df_null)}\")"
   ]
  },
  {
   "cell_type": "code",
   "execution_count": 9,
   "id": "5574f6cb",
   "metadata": {},
   "outputs": [
    {
     "data": {
      "text/plain": [
       "source\n",
       "dlf           51\n",
       "tagesschau    30\n",
       "Name: count, dtype: int64"
      ]
     },
     "execution_count": 9,
     "metadata": {},
     "output_type": "execute_result"
    }
   ],
   "source": [
    "df_null[\"source\"].value_counts()"
   ]
  },
  {
   "cell_type": "code",
   "execution_count": 10,
   "id": "d06434c3",
   "metadata": {},
   "outputs": [
    {
     "data": {
      "text/plain": [
       "date\n",
       "2021-04-28    1\n",
       "2021-05-13    1\n",
       "2021-06-06    1\n",
       "2021-06-07    1\n",
       "2021-06-08    1\n",
       "             ..\n",
       "2024-12-05    1\n",
       "2025-01-11    1\n",
       "2025-01-12    1\n",
       "2025-02-16    1\n",
       "2025-02-17    1\n",
       "Name: count, Length: 78, dtype: int64"
      ]
     },
     "execution_count": 10,
     "metadata": {},
     "output_type": "execute_result"
    }
   ],
   "source": [
    "df_null[\"date\"].value_counts().sort_index()"
   ]
  },
  {
   "cell_type": "code",
   "execution_count": 11,
   "id": "999385ec",
   "metadata": {},
   "outputs": [],
   "source": [
    "# Fehlende Werte speichern - falls für spätere Analyse wichtig sind\n",
    "df_null.to_csv(\"output/leere_zeilen_dlf_tagesschau.csv\", index=False)\n"
   ]
  },
  {
   "cell_type": "code",
   "execution_count": 12,
   "id": "b27dbccf",
   "metadata": {},
   "outputs": [],
   "source": [
    "# Fehlende Werte löschen\n",
    "df_or = df_or[df_or[\"word\"].notnull()]"
   ]
  },
  {
   "cell_type": "code",
   "execution_count": 13,
   "id": "c8fe1c99",
   "metadata": {},
   "outputs": [
    {
     "name": "stdout",
     "output_type": "stream",
     "text": [
      "[INFO] Anzahl leerer Zeilen: 0\n"
     ]
    }
   ],
   "source": [
    "# Prüfung NaN\n",
    "df_null = df_or[df_or[\"word\"].isnull()]\n",
    "print(f\"[INFO] Anzahl leerer Zeilen: {len(df_null)}\")"
   ]
  },
  {
   "cell_type": "code",
   "execution_count": 8,
   "id": "e80b73fd",
   "metadata": {},
   "outputs": [],
   "source": [
    "# Alles in einem DataFrame vereinen\n",
    "df_medien = pd.concat([df_or, df_wm, df_gm, df_rm, df_di, df_tech], ignore_index=True)"
   ]
  },
  {
   "cell_type": "code",
   "execution_count": 8,
   "id": "659afe06",
   "metadata": {},
   "outputs": [
    {
     "ename": "MemoryError",
     "evalue": "Unable to allocate 353. MiB for an array with shape (46205219,) and data type float64",
     "output_type": "error",
     "traceback": [
      "\u001b[31m---------------------------------------------------------------------------\u001b[39m",
      "\u001b[31mMemoryError\u001b[39m                               Traceback (most recent call last)",
      "\u001b[36mCell\u001b[39m\u001b[36m \u001b[39m\u001b[32mIn[8]\u001b[39m\u001b[32m, line 2\u001b[39m\n\u001b[32m      1\u001b[39m \u001b[38;5;66;03m# Alles kleinschreiben zur Sicherheit\u001b[39;00m\n\u001b[32m----> \u001b[39m\u001b[32m2\u001b[39m df_medien[\u001b[33m\"\u001b[39m\u001b[33mword\u001b[39m\u001b[33m\"\u001b[39m] = \u001b[43mdf_medien\u001b[49m\u001b[43m[\u001b[49m\u001b[33;43m\"\u001b[39;49m\u001b[33;43mword\u001b[39;49m\u001b[33;43m\"\u001b[39;49m\u001b[43m]\u001b[49m\u001b[43m.\u001b[49m\u001b[43mstr\u001b[49m\u001b[43m.\u001b[49m\u001b[43mlower\u001b[49m\u001b[43m(\u001b[49m\u001b[43m)\u001b[49m\n\u001b[32m      4\u001b[39m \u001b[38;5;66;03m# Nur Wörter, die \"bvg\" enthalten\u001b[39;00m\n\u001b[32m      5\u001b[39m df_bvg = df_medien[df_medien[\u001b[33m\"\u001b[39m\u001b[33mword\u001b[39m\u001b[33m\"\u001b[39m].str.contains(\u001b[33m\"\u001b[39m\u001b[33mbvg\u001b[39m\u001b[33m\"\u001b[39m, na=\u001b[38;5;28;01mFalse\u001b[39;00m)]\n",
      "\u001b[36mFile \u001b[39m\u001b[32md:\\DBU\\ADSC11 ADS-01\\Studienarbeit\\newspaper-scraping\\.venv\\Lib\\site-packages\\pandas\\core\\strings\\accessor.py:137\u001b[39m, in \u001b[36mforbid_nonstring_types.<locals>._forbid_nonstring_types.<locals>.wrapper\u001b[39m\u001b[34m(self, *args, **kwargs)\u001b[39m\n\u001b[32m    132\u001b[39m     msg = (\n\u001b[32m    133\u001b[39m         \u001b[33mf\u001b[39m\u001b[33m\"\u001b[39m\u001b[33mCannot use .str.\u001b[39m\u001b[38;5;132;01m{\u001b[39;00mfunc_name\u001b[38;5;132;01m}\u001b[39;00m\u001b[33m with values of \u001b[39m\u001b[33m\"\u001b[39m\n\u001b[32m    134\u001b[39m         \u001b[33mf\u001b[39m\u001b[33m\"\u001b[39m\u001b[33minferred dtype \u001b[39m\u001b[33m'\u001b[39m\u001b[38;5;132;01m{\u001b[39;00m\u001b[38;5;28mself\u001b[39m._inferred_dtype\u001b[38;5;132;01m}\u001b[39;00m\u001b[33m'\u001b[39m\u001b[33m.\u001b[39m\u001b[33m\"\u001b[39m\n\u001b[32m    135\u001b[39m     )\n\u001b[32m    136\u001b[39m     \u001b[38;5;28;01mraise\u001b[39;00m \u001b[38;5;167;01mTypeError\u001b[39;00m(msg)\n\u001b[32m--> \u001b[39m\u001b[32m137\u001b[39m \u001b[38;5;28;01mreturn\u001b[39;00m \u001b[43mfunc\u001b[49m\u001b[43m(\u001b[49m\u001b[38;5;28;43mself\u001b[39;49m\u001b[43m,\u001b[49m\u001b[43m \u001b[49m\u001b[43m*\u001b[49m\u001b[43margs\u001b[49m\u001b[43m,\u001b[49m\u001b[43m \u001b[49m\u001b[43m*\u001b[49m\u001b[43m*\u001b[49m\u001b[43mkwargs\u001b[49m\u001b[43m)\u001b[49m\n",
      "\u001b[36mFile \u001b[39m\u001b[32md:\\DBU\\ADSC11 ADS-01\\Studienarbeit\\newspaper-scraping\\.venv\\Lib\\site-packages\\pandas\\core\\strings\\accessor.py:3194\u001b[39m, in \u001b[36mStringMethods.lower\u001b[39m\u001b[34m(self)\u001b[39m\n\u001b[32m   3191\u001b[39m \u001b[38;5;129m@Appender\u001b[39m(_shared_docs[\u001b[33m\"\u001b[39m\u001b[33mcasemethods\u001b[39m\u001b[33m\"\u001b[39m] % _doc_args[\u001b[33m\"\u001b[39m\u001b[33mlower\u001b[39m\u001b[33m\"\u001b[39m])\n\u001b[32m   3192\u001b[39m \u001b[38;5;129m@forbid_nonstring_types\u001b[39m([\u001b[33m\"\u001b[39m\u001b[33mbytes\u001b[39m\u001b[33m\"\u001b[39m])\n\u001b[32m   3193\u001b[39m \u001b[38;5;28;01mdef\u001b[39;00m\u001b[38;5;250m \u001b[39m\u001b[34mlower\u001b[39m(\u001b[38;5;28mself\u001b[39m):\n\u001b[32m-> \u001b[39m\u001b[32m3194\u001b[39m     result = \u001b[38;5;28;43mself\u001b[39;49m\u001b[43m.\u001b[49m\u001b[43m_data\u001b[49m\u001b[43m.\u001b[49m\u001b[43marray\u001b[49m\u001b[43m.\u001b[49m\u001b[43m_str_lower\u001b[49m\u001b[43m(\u001b[49m\u001b[43m)\u001b[49m\n\u001b[32m   3195\u001b[39m     \u001b[38;5;28;01mreturn\u001b[39;00m \u001b[38;5;28mself\u001b[39m._wrap_result(result)\n",
      "\u001b[36mFile \u001b[39m\u001b[32md:\\DBU\\ADSC11 ADS-01\\Studienarbeit\\newspaper-scraping\\.venv\\Lib\\site-packages\\pandas\\core\\strings\\object_array.py:444\u001b[39m, in \u001b[36mObjectStringArrayMixin._str_lower\u001b[39m\u001b[34m(self)\u001b[39m\n\u001b[32m    443\u001b[39m \u001b[38;5;28;01mdef\u001b[39;00m\u001b[38;5;250m \u001b[39m\u001b[34m_str_lower\u001b[39m(\u001b[38;5;28mself\u001b[39m):\n\u001b[32m--> \u001b[39m\u001b[32m444\u001b[39m     \u001b[38;5;28;01mreturn\u001b[39;00m \u001b[38;5;28;43mself\u001b[39;49m\u001b[43m.\u001b[49m\u001b[43m_str_map\u001b[49m\u001b[43m(\u001b[49m\u001b[38;5;28;43mstr\u001b[39;49m\u001b[43m.\u001b[49m\u001b[43mlower\u001b[49m\u001b[43m)\u001b[49m\n",
      "\u001b[36mFile \u001b[39m\u001b[32md:\\DBU\\ADSC11 ADS-01\\Studienarbeit\\newspaper-scraping\\.venv\\Lib\\site-packages\\pandas\\core\\strings\\object_array.py:78\u001b[39m, in \u001b[36mObjectStringArrayMixin._str_map\u001b[39m\u001b[34m(self, f, na_value, dtype, convert)\u001b[39m\n\u001b[32m     76\u001b[39m map_convert = convert \u001b[38;5;129;01mand\u001b[39;00m \u001b[38;5;129;01mnot\u001b[39;00m np.all(mask)\n\u001b[32m     77\u001b[39m \u001b[38;5;28;01mtry\u001b[39;00m:\n\u001b[32m---> \u001b[39m\u001b[32m78\u001b[39m     result = \u001b[43mlib\u001b[49m\u001b[43m.\u001b[49m\u001b[43mmap_infer_mask\u001b[49m\u001b[43m(\u001b[49m\u001b[43marr\u001b[49m\u001b[43m,\u001b[49m\u001b[43m \u001b[49m\u001b[43mf\u001b[49m\u001b[43m,\u001b[49m\u001b[43m \u001b[49m\u001b[43mmask\u001b[49m\u001b[43m.\u001b[49m\u001b[43mview\u001b[49m\u001b[43m(\u001b[49m\u001b[43mnp\u001b[49m\u001b[43m.\u001b[49m\u001b[43muint8\u001b[49m\u001b[43m)\u001b[49m\u001b[43m,\u001b[49m\u001b[43m \u001b[49m\u001b[43mmap_convert\u001b[49m\u001b[43m)\u001b[49m\n\u001b[32m     79\u001b[39m \u001b[38;5;28;01mexcept\u001b[39;00m (\u001b[38;5;167;01mTypeError\u001b[39;00m, \u001b[38;5;167;01mAttributeError\u001b[39;00m) \u001b[38;5;28;01mas\u001b[39;00m err:\n\u001b[32m     80\u001b[39m     \u001b[38;5;66;03m# Reraise the exception if callable `f` got wrong number of args.\u001b[39;00m\n\u001b[32m     81\u001b[39m     \u001b[38;5;66;03m# The user may want to be warned by this, instead of getting NaN\u001b[39;00m\n\u001b[32m     82\u001b[39m     p_err = (\n\u001b[32m     83\u001b[39m         \u001b[33mr\u001b[39m\u001b[33m\"\u001b[39m\u001b[33m((takes)|(missing)) (?(2)from \u001b[39m\u001b[33m\\\u001b[39m\u001b[33md+ to )?\u001b[39m\u001b[33m\\\u001b[39m\u001b[33md+ \u001b[39m\u001b[33m\"\u001b[39m\n\u001b[32m     84\u001b[39m         \u001b[33mr\u001b[39m\u001b[33m\"\u001b[39m\u001b[33m(?(3)required )positional arguments?\u001b[39m\u001b[33m\"\u001b[39m\n\u001b[32m     85\u001b[39m     )\n",
      "\u001b[36mFile \u001b[39m\u001b[32mlib.pyx:2903\u001b[39m, in \u001b[36mpandas._libs.lib.map_infer_mask\u001b[39m\u001b[34m()\u001b[39m\n",
      "\u001b[36mFile \u001b[39m\u001b[32mlib.pyx:2538\u001b[39m, in \u001b[36mpandas._libs.lib.maybe_convert_objects\u001b[39m\u001b[34m()\u001b[39m\n",
      "\u001b[31mMemoryError\u001b[39m: Unable to allocate 353. MiB for an array with shape (46205219,) and data type float64"
     ]
    }
   ],
   "source": [
    "# Alles kleinschreiben zur Sicherheit\n",
    "df_medien[\"word\"] = df_medien[\"word\"].str.lower()\n",
    "\n",
    "# Nur Wörter, die \"bvg\" enthalten\n",
    "df_bvg = df_medien[df_medien[\"word\"].str.contains(\"bvg\", na=False)]\n",
    "print(\"[INFO] Anzahl Zeilen mit 'bvg' im Wort:\", len(df_bvg))"
   ]
  },
  {
   "cell_type": "code",
   "execution_count": 9,
   "id": "408f2cde",
   "metadata": {},
   "outputs": [
    {
     "ename": "MemoryError",
     "evalue": "Unable to allocate 353. MiB for an array with shape (46205219,) and data type float64",
     "output_type": "error",
     "traceback": [
      "\u001b[31m---------------------------------------------------------------------------\u001b[39m",
      "\u001b[31mMemoryError\u001b[39m                               Traceback (most recent call last)",
      "\u001b[36mCell\u001b[39m\u001b[36m \u001b[39m\u001b[32mIn[9]\u001b[39m\u001b[32m, line 2\u001b[39m\n\u001b[32m      1\u001b[39m \u001b[38;5;66;03m# Alle Wörter vorher kleinschreiben\u001b[39;00m\n\u001b[32m----> \u001b[39m\u001b[32m2\u001b[39m df_medien[\u001b[33m\"\u001b[39m\u001b[33mword\u001b[39m\u001b[33m\"\u001b[39m] = \u001b[43mdf_medien\u001b[49m\u001b[43m[\u001b[49m\u001b[33;43m\"\u001b[39;49m\u001b[33;43mword\u001b[39;49m\u001b[33;43m\"\u001b[39;49m\u001b[43m]\u001b[49m\u001b[43m.\u001b[49m\u001b[43mastype\u001b[49m\u001b[43m(\u001b[49m\u001b[38;5;28;43mstr\u001b[39;49m\u001b[43m)\u001b[49m\u001b[43m.\u001b[49m\u001b[43mstr\u001b[49m\u001b[43m.\u001b[49m\u001b[43mlower\u001b[49m\u001b[43m(\u001b[49m\u001b[43m)\u001b[49m\n\u001b[32m      4\u001b[39m \u001b[38;5;66;03m# RAM-schonender: einfache Filterfunktion\u001b[39;00m\n\u001b[32m      5\u001b[39m mask = df_medien[\u001b[33m\"\u001b[39m\u001b[33mword\u001b[39m\u001b[33m\"\u001b[39m].apply(\u001b[38;5;28;01mlambda\u001b[39;00m w: \u001b[33m\"\u001b[39m\u001b[33mbvg\u001b[39m\u001b[33m\"\u001b[39m \u001b[38;5;129;01min\u001b[39;00m w \u001b[38;5;28;01mif\u001b[39;00m \u001b[38;5;28misinstance\u001b[39m(w, \u001b[38;5;28mstr\u001b[39m) \u001b[38;5;28;01melse\u001b[39;00m \u001b[38;5;28;01mFalse\u001b[39;00m)\n",
      "\u001b[36mFile \u001b[39m\u001b[32md:\\DBU\\ADSC11 ADS-01\\Studienarbeit\\newspaper-scraping\\.venv\\Lib\\site-packages\\pandas\\core\\strings\\accessor.py:137\u001b[39m, in \u001b[36mforbid_nonstring_types.<locals>._forbid_nonstring_types.<locals>.wrapper\u001b[39m\u001b[34m(self, *args, **kwargs)\u001b[39m\n\u001b[32m    132\u001b[39m     msg = (\n\u001b[32m    133\u001b[39m         \u001b[33mf\u001b[39m\u001b[33m\"\u001b[39m\u001b[33mCannot use .str.\u001b[39m\u001b[38;5;132;01m{\u001b[39;00mfunc_name\u001b[38;5;132;01m}\u001b[39;00m\u001b[33m with values of \u001b[39m\u001b[33m\"\u001b[39m\n\u001b[32m    134\u001b[39m         \u001b[33mf\u001b[39m\u001b[33m\"\u001b[39m\u001b[33minferred dtype \u001b[39m\u001b[33m'\u001b[39m\u001b[38;5;132;01m{\u001b[39;00m\u001b[38;5;28mself\u001b[39m._inferred_dtype\u001b[38;5;132;01m}\u001b[39;00m\u001b[33m'\u001b[39m\u001b[33m.\u001b[39m\u001b[33m\"\u001b[39m\n\u001b[32m    135\u001b[39m     )\n\u001b[32m    136\u001b[39m     \u001b[38;5;28;01mraise\u001b[39;00m \u001b[38;5;167;01mTypeError\u001b[39;00m(msg)\n\u001b[32m--> \u001b[39m\u001b[32m137\u001b[39m \u001b[38;5;28;01mreturn\u001b[39;00m \u001b[43mfunc\u001b[49m\u001b[43m(\u001b[49m\u001b[38;5;28;43mself\u001b[39;49m\u001b[43m,\u001b[49m\u001b[43m \u001b[49m\u001b[43m*\u001b[49m\u001b[43margs\u001b[49m\u001b[43m,\u001b[49m\u001b[43m \u001b[49m\u001b[43m*\u001b[49m\u001b[43m*\u001b[49m\u001b[43mkwargs\u001b[49m\u001b[43m)\u001b[49m\n",
      "\u001b[36mFile \u001b[39m\u001b[32md:\\DBU\\ADSC11 ADS-01\\Studienarbeit\\newspaper-scraping\\.venv\\Lib\\site-packages\\pandas\\core\\strings\\accessor.py:3194\u001b[39m, in \u001b[36mStringMethods.lower\u001b[39m\u001b[34m(self)\u001b[39m\n\u001b[32m   3191\u001b[39m \u001b[38;5;129m@Appender\u001b[39m(_shared_docs[\u001b[33m\"\u001b[39m\u001b[33mcasemethods\u001b[39m\u001b[33m\"\u001b[39m] % _doc_args[\u001b[33m\"\u001b[39m\u001b[33mlower\u001b[39m\u001b[33m\"\u001b[39m])\n\u001b[32m   3192\u001b[39m \u001b[38;5;129m@forbid_nonstring_types\u001b[39m([\u001b[33m\"\u001b[39m\u001b[33mbytes\u001b[39m\u001b[33m\"\u001b[39m])\n\u001b[32m   3193\u001b[39m \u001b[38;5;28;01mdef\u001b[39;00m\u001b[38;5;250m \u001b[39m\u001b[34mlower\u001b[39m(\u001b[38;5;28mself\u001b[39m):\n\u001b[32m-> \u001b[39m\u001b[32m3194\u001b[39m     result = \u001b[38;5;28;43mself\u001b[39;49m\u001b[43m.\u001b[49m\u001b[43m_data\u001b[49m\u001b[43m.\u001b[49m\u001b[43marray\u001b[49m\u001b[43m.\u001b[49m\u001b[43m_str_lower\u001b[49m\u001b[43m(\u001b[49m\u001b[43m)\u001b[49m\n\u001b[32m   3195\u001b[39m     \u001b[38;5;28;01mreturn\u001b[39;00m \u001b[38;5;28mself\u001b[39m._wrap_result(result)\n",
      "\u001b[36mFile \u001b[39m\u001b[32md:\\DBU\\ADSC11 ADS-01\\Studienarbeit\\newspaper-scraping\\.venv\\Lib\\site-packages\\pandas\\core\\strings\\object_array.py:444\u001b[39m, in \u001b[36mObjectStringArrayMixin._str_lower\u001b[39m\u001b[34m(self)\u001b[39m\n\u001b[32m    443\u001b[39m \u001b[38;5;28;01mdef\u001b[39;00m\u001b[38;5;250m \u001b[39m\u001b[34m_str_lower\u001b[39m(\u001b[38;5;28mself\u001b[39m):\n\u001b[32m--> \u001b[39m\u001b[32m444\u001b[39m     \u001b[38;5;28;01mreturn\u001b[39;00m \u001b[38;5;28;43mself\u001b[39;49m\u001b[43m.\u001b[49m\u001b[43m_str_map\u001b[49m\u001b[43m(\u001b[49m\u001b[38;5;28;43mstr\u001b[39;49m\u001b[43m.\u001b[49m\u001b[43mlower\u001b[49m\u001b[43m)\u001b[49m\n",
      "\u001b[36mFile \u001b[39m\u001b[32md:\\DBU\\ADSC11 ADS-01\\Studienarbeit\\newspaper-scraping\\.venv\\Lib\\site-packages\\pandas\\core\\strings\\object_array.py:78\u001b[39m, in \u001b[36mObjectStringArrayMixin._str_map\u001b[39m\u001b[34m(self, f, na_value, dtype, convert)\u001b[39m\n\u001b[32m     76\u001b[39m map_convert = convert \u001b[38;5;129;01mand\u001b[39;00m \u001b[38;5;129;01mnot\u001b[39;00m np.all(mask)\n\u001b[32m     77\u001b[39m \u001b[38;5;28;01mtry\u001b[39;00m:\n\u001b[32m---> \u001b[39m\u001b[32m78\u001b[39m     result = \u001b[43mlib\u001b[49m\u001b[43m.\u001b[49m\u001b[43mmap_infer_mask\u001b[49m\u001b[43m(\u001b[49m\u001b[43marr\u001b[49m\u001b[43m,\u001b[49m\u001b[43m \u001b[49m\u001b[43mf\u001b[49m\u001b[43m,\u001b[49m\u001b[43m \u001b[49m\u001b[43mmask\u001b[49m\u001b[43m.\u001b[49m\u001b[43mview\u001b[49m\u001b[43m(\u001b[49m\u001b[43mnp\u001b[49m\u001b[43m.\u001b[49m\u001b[43muint8\u001b[49m\u001b[43m)\u001b[49m\u001b[43m,\u001b[49m\u001b[43m \u001b[49m\u001b[43mmap_convert\u001b[49m\u001b[43m)\u001b[49m\n\u001b[32m     79\u001b[39m \u001b[38;5;28;01mexcept\u001b[39;00m (\u001b[38;5;167;01mTypeError\u001b[39;00m, \u001b[38;5;167;01mAttributeError\u001b[39;00m) \u001b[38;5;28;01mas\u001b[39;00m err:\n\u001b[32m     80\u001b[39m     \u001b[38;5;66;03m# Reraise the exception if callable `f` got wrong number of args.\u001b[39;00m\n\u001b[32m     81\u001b[39m     \u001b[38;5;66;03m# The user may want to be warned by this, instead of getting NaN\u001b[39;00m\n\u001b[32m     82\u001b[39m     p_err = (\n\u001b[32m     83\u001b[39m         \u001b[33mr\u001b[39m\u001b[33m\"\u001b[39m\u001b[33m((takes)|(missing)) (?(2)from \u001b[39m\u001b[33m\\\u001b[39m\u001b[33md+ to )?\u001b[39m\u001b[33m\\\u001b[39m\u001b[33md+ \u001b[39m\u001b[33m\"\u001b[39m\n\u001b[32m     84\u001b[39m         \u001b[33mr\u001b[39m\u001b[33m\"\u001b[39m\u001b[33m(?(3)required )positional arguments?\u001b[39m\u001b[33m\"\u001b[39m\n\u001b[32m     85\u001b[39m     )\n",
      "\u001b[36mFile \u001b[39m\u001b[32mlib.pyx:2903\u001b[39m, in \u001b[36mpandas._libs.lib.map_infer_mask\u001b[39m\u001b[34m()\u001b[39m\n",
      "\u001b[36mFile \u001b[39m\u001b[32mlib.pyx:2538\u001b[39m, in \u001b[36mpandas._libs.lib.maybe_convert_objects\u001b[39m\u001b[34m()\u001b[39m\n",
      "\u001b[31mMemoryError\u001b[39m: Unable to allocate 353. MiB for an array with shape (46205219,) and data type float64"
     ]
    }
   ],
   "source": [
    "# Alle Wörter vorher kleinschreiben\n",
    "df_medien[\"word\"] = df_medien[\"word\"].astype(str).str.lower()\n",
    "\n",
    "# RAM-schonender: einfache Filterfunktion\n",
    "mask = df_medien[\"word\"].apply(lambda w: \"bvg\" in w if isinstance(w, str) else False)\n",
    "df_bvg = df_medien.loc[mask]"
   ]
  },
  {
   "cell_type": "code",
   "execution_count": 12,
   "id": "dd978fad",
   "metadata": {},
   "outputs": [
    {
     "data": {
      "text/plain": [
       "(2140, 4)"
      ]
     },
     "execution_count": 12,
     "metadata": {},
     "output_type": "execute_result"
    }
   ],
   "source": [
    "df_rm = pd.read_csv(\"output/cluster_regiomedien.csv\")\n",
    "df_rm[\"word\"] = df_rm[\"word\"].astype(str).str.lower()\n",
    "df_rm[df_rm[\"word\"].str.contains(\"bvg\", na=False)].shape"
   ]
  },
  {
   "cell_type": "code",
   "execution_count": 13,
   "id": "68ca3f6a",
   "metadata": {},
   "outputs": [],
   "source": [
    "def bvg_haeufigkeit_pro_cluster(csv_path, cluster_name):\n",
    "    try:\n",
    "        df = pd.read_csv(csv_path, usecols=[\"word\", \"count\", \"date\", \"source\"])\n",
    "        df[\"word\"] = df[\"word\"].astype(str).str.lower()\n",
    "        df = df[df[\"word\"].str.contains(\"bvg\", na=False)]\n",
    "        df[\"date\"] = pd.to_datetime(df[\"date\"], errors=\"coerce\")\n",
    "        df[\"year\"] = df[\"date\"].dt.year\n",
    "        grouped = df.groupby(\"year\")[\"count\"].sum()\n",
    "        return cluster_name, grouped\n",
    "    except Exception as e:\n",
    "        print(f\"[ERROR] Fehler bei {cluster_name}: {e}\")\n",
    "        return cluster_name, None"
   ]
  },
  {
   "cell_type": "code",
   "execution_count": 14,
   "id": "5d8ad024",
   "metadata": {},
   "outputs": [
    {
     "name": "stdout",
     "output_type": "stream",
     "text": [
      "[ERROR] Fehler bei Große Medien: Unable to allocate 146. MiB for an array with shape (19194483,) and data type float64\n"
     ]
    }
   ],
   "source": [
    "cluster_files = {\n",
    "    \"Öffentlich-rechtlich\": \"output/cluster_oeffentlich.csv\",\n",
    "    \"Wirtschaft\": \"output/cluster_wirtschaft.csv\",\n",
    "    \"Große Medien\": \"output/cluster_grossemedien.csv\",\n",
    "    \"Regional\": \"output/cluster_regiomedien.csv\",\n",
    "    \"Digital\": \"output/cluster_digital.csv\",\n",
    "    \"Tech\": \"output/cluster_tech.csv\"\n",
    "}\n",
    "\n",
    "results = {}\n",
    "for name, path in cluster_files.items():\n",
    "    cluster_name, grouped = bvg_haeufigkeit_pro_cluster(path, name)\n",
    "    if grouped is not None:\n",
    "        results[cluster_name] = grouped"
   ]
  },
  {
   "cell_type": "code",
   "execution_count": 1,
   "id": "05d8f72d",
   "metadata": {},
   "outputs": [],
   "source": [
    "# Neuer Versuch\n",
    "def wortsuche_cluster(csv_path, suchwort=\"bvg\"):\n",
    "    df = pd.read_csv(csv_path, usecols=[\"word\", \"count\", \"date\", \"source\"])\n",
    "    df[\"word\"] = df[\"word\"].astype(str).str.lower()\n",
    "    df_treffer = df[df[\"word\"].str.contains(suchwort, na=False)]\n",
    "    return df_treffer"
   ]
  },
  {
   "cell_type": "code",
   "execution_count": 4,
   "id": "f53fcbed",
   "metadata": {},
   "outputs": [
    {
     "data": {
      "text/plain": [
       "year\n",
       "2021    447\n",
       "2022    495\n",
       "2023    412\n",
       "2024    580\n",
       "2025    206\n",
       "Name: count, dtype: int64"
      ]
     },
     "execution_count": 4,
     "metadata": {},
     "output_type": "execute_result"
    }
   ],
   "source": [
    "df_bvg_rm = wortsuche_cluster(\"output/cluster_regiomedien.csv\", \"bvg\")\n",
    "df_bvg_rm[\"date\"] = pd.to_datetime(df_bvg_rm[\"date\"], errors=\"coerce\")\n",
    "df_bvg_rm[\"year\"] = df_bvg_rm[\"date\"].dt.year\n",
    "\n",
    "# Überblick:\n",
    "df_bvg_rm[\"year\"].value_counts().sort_index()"
   ]
  },
  {
   "cell_type": "code",
   "execution_count": 9,
   "id": "f91d5df7",
   "metadata": {},
   "outputs": [
    {
     "name": "stdout",
     "output_type": "stream",
     "text": [
      "(2422, 4)\n"
     ]
    }
   ],
   "source": [
    "# Diese Zeilen liefern dir die \"bvg\"-Artikel\n",
    "df_bvg = df_medien.loc[df_medien[\"word\"].str.contains(\"bvg\", na=False)]\n",
    "print(df_bvg.shape)"
   ]
  },
  {
   "cell_type": "code",
   "execution_count": 10,
   "id": "3c86f98d",
   "metadata": {},
   "outputs": [
    {
     "data": {
      "text/plain": [
       "word\n",
       "bvg                 1291\n",
       "bvg:                 195\n",
       "bvg-bussen            76\n",
       "bvg-bus               76\n",
       "bvg.                  65\n",
       "bvg-app               43\n",
       "bvg-chefin            35\n",
       "bvg-streik            35\n",
       "bvg,                  33\n",
       "bvg-fahrinfo-app      26\n",
       "Name: count, dtype: int64"
      ]
     },
     "execution_count": 10,
     "metadata": {},
     "output_type": "execute_result"
    }
   ],
   "source": [
    "df_bvg[\"word\"].value_counts().head(10)"
   ]
  },
  {
   "cell_type": "code",
   "execution_count": 11,
   "id": "1f7286e8",
   "metadata": {},
   "outputs": [
    {
     "data": {
      "text/plain": [
       "np.int64(3369)"
      ]
     },
     "execution_count": 11,
     "metadata": {},
     "output_type": "execute_result"
    }
   ],
   "source": [
    "# Summe der Nennungen\n",
    "df_bvg[\"count\"].sum()"
   ]
  },
  {
   "cell_type": "code",
   "execution_count": 12,
   "id": "6bfc64a3",
   "metadata": {},
   "outputs": [
    {
     "data": {
      "text/plain": [
       "word\n",
       "bvg            2005\n",
       "bvg:            226\n",
       "bvg-bus          98\n",
       "bvg-bussen       82\n",
       "bvg-app          72\n",
       "bvg.             69\n",
       "bvg-streik       62\n",
       "bvg-chefin       42\n",
       "bvg-account      36\n",
       "bvg,             34\n",
       "Name: count, dtype: int64"
      ]
     },
     "execution_count": 12,
     "metadata": {},
     "output_type": "execute_result"
    }
   ],
   "source": [
    "# Top 10 Begriffe mit BVG\n",
    "df_bvg.groupby(\"word\")[\"count\"].sum().sort_values(ascending=False).head(10)"
   ]
  },
  {
   "cell_type": "code",
   "execution_count": 13,
   "id": "66ae348e",
   "metadata": {},
   "outputs": [
    {
     "name": "stdout",
     "output_type": "stream",
     "text": [
      "year\n",
      "2021     646\n",
      "2022     701\n",
      "2023     609\n",
      "2024    1056\n",
      "2025     357\n",
      "Name: count, dtype: int64\n"
     ]
    },
    {
     "name": "stderr",
     "output_type": "stream",
     "text": [
      "C:\\Users\\Marta\\AppData\\Local\\Temp\\ipykernel_26700\\3224021851.py:1: SettingWithCopyWarning: \n",
      "A value is trying to be set on a copy of a slice from a DataFrame.\n",
      "Try using .loc[row_indexer,col_indexer] = value instead\n",
      "\n",
      "See the caveats in the documentation: https://pandas.pydata.org/pandas-docs/stable/user_guide/indexing.html#returning-a-view-versus-a-copy\n",
      "  df_bvg[\"date\"] = pd.to_datetime(df_bvg[\"date\"], errors=\"coerce\")\n",
      "C:\\Users\\Marta\\AppData\\Local\\Temp\\ipykernel_26700\\3224021851.py:2: SettingWithCopyWarning: \n",
      "A value is trying to be set on a copy of a slice from a DataFrame.\n",
      "Try using .loc[row_indexer,col_indexer] = value instead\n",
      "\n",
      "See the caveats in the documentation: https://pandas.pydata.org/pandas-docs/stable/user_guide/indexing.html#returning-a-view-versus-a-copy\n",
      "  df_bvg[\"year\"] = df_bvg[\"date\"].dt.year\n"
     ]
    }
   ],
   "source": [
    "df_bvg[\"date\"] = pd.to_datetime(df_bvg[\"date\"], errors=\"coerce\")\n",
    "df_bvg[\"year\"] = df_bvg[\"date\"].dt.year\n",
    "bvg_zeit = df_bvg.groupby(\"year\")[\"count\"].sum()\n",
    "print(bvg_zeit)"
   ]
  },
  {
   "cell_type": "code",
   "execution_count": 14,
   "id": "8eb77244",
   "metadata": {},
   "outputs": [
    {
     "data": {
      "text/plain": [
       "source\n",
       "berliner        1127\n",
       "tagesspiegel    1011\n",
       "taz               92\n",
       "netzpolitik       71\n",
       "ntv               17\n",
       "zeit              14\n",
       "heise             13\n",
       "welt              12\n",
       "wiwo              11\n",
       "mm                10\n",
       "stern             10\n",
       "spiegel            8\n",
       "sz                 6\n",
       "dlf                6\n",
       "t3n                5\n",
       "faz                4\n",
       "handelsblatt       2\n",
       "abendblatt         2\n",
       "tagesschau         1\n",
       "Name: count, dtype: int64"
      ]
     },
     "execution_count": 14,
     "metadata": {},
     "output_type": "execute_result"
    }
   ],
   "source": [
    "# Häufigkeit nach Quellen\n",
    "df_bvg[\"source\"].value_counts()"
   ]
  },
  {
   "cell_type": "code",
   "execution_count": 15,
   "id": "dd197801",
   "metadata": {},
   "outputs": [
    {
     "data": {
      "text/plain": [
       "source\n",
       "tagesspiegel    1571\n",
       "berliner        1445\n",
       "netzpolitik      115\n",
       "taz              111\n",
       "ntv               18\n",
       "zeit              14\n",
       "welt              13\n",
       "heise             13\n",
       "wiwo              13\n",
       "mm                10\n",
       "stern             10\n",
       "spiegel            8\n",
       "dlf                6\n",
       "t3n                6\n",
       "sz                 6\n",
       "faz                5\n",
       "abendblatt         2\n",
       "handelsblatt       2\n",
       "tagesschau         1\n",
       "Name: count, dtype: int64"
      ]
     },
     "execution_count": 15,
     "metadata": {},
     "output_type": "execute_result"
    }
   ],
   "source": [
    "df_bvg.groupby(\"source\")[\"count\"].sum().sort_values(ascending=False)"
   ]
  },
  {
   "cell_type": "code",
   "execution_count": 16,
   "id": "9c4cebc0",
   "metadata": {},
   "outputs": [
    {
     "data": {
      "text/html": [
       "<div>\n",
       "<style scoped>\n",
       "    .dataframe tbody tr th:only-of-type {\n",
       "        vertical-align: middle;\n",
       "    }\n",
       "\n",
       "    .dataframe tbody tr th {\n",
       "        vertical-align: top;\n",
       "    }\n",
       "\n",
       "    .dataframe thead th {\n",
       "        text-align: right;\n",
       "    }\n",
       "</style>\n",
       "<table border=\"1\" class=\"dataframe\">\n",
       "  <thead>\n",
       "    <tr style=\"text-align: right;\">\n",
       "      <th>source</th>\n",
       "      <th>abendblatt</th>\n",
       "      <th>berliner</th>\n",
       "      <th>dlf</th>\n",
       "      <th>faz</th>\n",
       "      <th>handelsblatt</th>\n",
       "      <th>heise</th>\n",
       "      <th>mm</th>\n",
       "      <th>netzpolitik</th>\n",
       "      <th>ntv</th>\n",
       "      <th>spiegel</th>\n",
       "      <th>stern</th>\n",
       "      <th>sz</th>\n",
       "      <th>t3n</th>\n",
       "      <th>tagesschau</th>\n",
       "      <th>tagesspiegel</th>\n",
       "      <th>taz</th>\n",
       "      <th>welt</th>\n",
       "      <th>wiwo</th>\n",
       "      <th>zeit</th>\n",
       "    </tr>\n",
       "    <tr>\n",
       "      <th>year</th>\n",
       "      <th></th>\n",
       "      <th></th>\n",
       "      <th></th>\n",
       "      <th></th>\n",
       "      <th></th>\n",
       "      <th></th>\n",
       "      <th></th>\n",
       "      <th></th>\n",
       "      <th></th>\n",
       "      <th></th>\n",
       "      <th></th>\n",
       "      <th></th>\n",
       "      <th></th>\n",
       "      <th></th>\n",
       "      <th></th>\n",
       "      <th></th>\n",
       "      <th></th>\n",
       "      <th></th>\n",
       "      <th></th>\n",
       "    </tr>\n",
       "  </thead>\n",
       "  <tbody>\n",
       "    <tr>\n",
       "      <th>2021</th>\n",
       "      <td>0</td>\n",
       "      <td>115</td>\n",
       "      <td>5</td>\n",
       "      <td>1</td>\n",
       "      <td>2</td>\n",
       "      <td>2</td>\n",
       "      <td>0</td>\n",
       "      <td>0</td>\n",
       "      <td>0</td>\n",
       "      <td>0</td>\n",
       "      <td>3</td>\n",
       "      <td>0</td>\n",
       "      <td>0</td>\n",
       "      <td>0</td>\n",
       "      <td>497</td>\n",
       "      <td>7</td>\n",
       "      <td>0</td>\n",
       "      <td>13</td>\n",
       "      <td>1</td>\n",
       "    </tr>\n",
       "    <tr>\n",
       "      <th>2022</th>\n",
       "      <td>0</td>\n",
       "      <td>181</td>\n",
       "      <td>0</td>\n",
       "      <td>3</td>\n",
       "      <td>0</td>\n",
       "      <td>0</td>\n",
       "      <td>0</td>\n",
       "      <td>0</td>\n",
       "      <td>2</td>\n",
       "      <td>5</td>\n",
       "      <td>1</td>\n",
       "      <td>0</td>\n",
       "      <td>0</td>\n",
       "      <td>0</td>\n",
       "      <td>493</td>\n",
       "      <td>14</td>\n",
       "      <td>1</td>\n",
       "      <td>0</td>\n",
       "      <td>1</td>\n",
       "    </tr>\n",
       "    <tr>\n",
       "      <th>2023</th>\n",
       "      <td>2</td>\n",
       "      <td>359</td>\n",
       "      <td>0</td>\n",
       "      <td>0</td>\n",
       "      <td>0</td>\n",
       "      <td>3</td>\n",
       "      <td>9</td>\n",
       "      <td>0</td>\n",
       "      <td>2</td>\n",
       "      <td>0</td>\n",
       "      <td>2</td>\n",
       "      <td>2</td>\n",
       "      <td>6</td>\n",
       "      <td>0</td>\n",
       "      <td>187</td>\n",
       "      <td>31</td>\n",
       "      <td>1</td>\n",
       "      <td>0</td>\n",
       "      <td>5</td>\n",
       "    </tr>\n",
       "    <tr>\n",
       "      <th>2024</th>\n",
       "      <td>0</td>\n",
       "      <td>580</td>\n",
       "      <td>1</td>\n",
       "      <td>1</td>\n",
       "      <td>0</td>\n",
       "      <td>6</td>\n",
       "      <td>1</td>\n",
       "      <td>115</td>\n",
       "      <td>5</td>\n",
       "      <td>2</td>\n",
       "      <td>2</td>\n",
       "      <td>2</td>\n",
       "      <td>0</td>\n",
       "      <td>0</td>\n",
       "      <td>289</td>\n",
       "      <td>43</td>\n",
       "      <td>5</td>\n",
       "      <td>0</td>\n",
       "      <td>4</td>\n",
       "    </tr>\n",
       "    <tr>\n",
       "      <th>2025</th>\n",
       "      <td>0</td>\n",
       "      <td>210</td>\n",
       "      <td>0</td>\n",
       "      <td>0</td>\n",
       "      <td>0</td>\n",
       "      <td>2</td>\n",
       "      <td>0</td>\n",
       "      <td>0</td>\n",
       "      <td>9</td>\n",
       "      <td>1</td>\n",
       "      <td>2</td>\n",
       "      <td>2</td>\n",
       "      <td>0</td>\n",
       "      <td>1</td>\n",
       "      <td>105</td>\n",
       "      <td>16</td>\n",
       "      <td>6</td>\n",
       "      <td>0</td>\n",
       "      <td>3</td>\n",
       "    </tr>\n",
       "  </tbody>\n",
       "</table>\n",
       "</div>"
      ],
      "text/plain": [
       "source  abendblatt  berliner  dlf  faz  handelsblatt  heise  mm  netzpolitik  \\\n",
       "year                                                                           \n",
       "2021             0       115    5    1             2      2   0            0   \n",
       "2022             0       181    0    3             0      0   0            0   \n",
       "2023             2       359    0    0             0      3   9            0   \n",
       "2024             0       580    1    1             0      6   1          115   \n",
       "2025             0       210    0    0             0      2   0            0   \n",
       "\n",
       "source  ntv  spiegel  stern  sz  t3n  tagesschau  tagesspiegel  taz  welt  \\\n",
       "year                                                                        \n",
       "2021      0        0      3   0    0           0           497    7     0   \n",
       "2022      2        5      1   0    0           0           493   14     1   \n",
       "2023      2        0      2   2    6           0           187   31     1   \n",
       "2024      5        2      2   2    0           0           289   43     5   \n",
       "2025      9        1      2   2    0           1           105   16     6   \n",
       "\n",
       "source  wiwo  zeit  \n",
       "year                \n",
       "2021      13     1  \n",
       "2022       0     1  \n",
       "2023       0     5  \n",
       "2024       0     4  \n",
       "2025       0     3  "
      ]
     },
     "execution_count": 16,
     "metadata": {},
     "output_type": "execute_result"
    }
   ],
   "source": [
    "pivot = df_bvg.pivot_table(index=\"year\", columns=\"source\", values=\"count\", aggfunc=\"sum\", fill_value=0)\n",
    "pivot.head()"
   ]
  },
  {
   "cell_type": "code",
   "execution_count": 18,
   "id": "e32f3cfb",
   "metadata": {},
   "outputs": [
    {
     "name": "stdout",
     "output_type": "stream",
     "text": [
      "[INFO] Länge des extrahierten Texts: 0\n",
      "[INFO] Textvorschau:\n",
      " \n",
      "[INFO] Enthält 'bvg'? → False\n"
     ]
    }
   ],
   "source": [
    "# Test für Handelsblatt\n",
    "from bs4 import BeautifulSoup\n",
    "\n",
    "# Beispiel-Dateiname vom Handelsblatt\n",
    "html_datei = \"D:/DBU/ADSC11 ADS-01/Studienarbeit/newspaper-scraping/input/raw/data-lake/2025-02-28-handelsblatt.html\"\n",
    "\n",
    "# 1. HTML-Datei einlesen\n",
    "with open(html_datei, \"r\", encoding=\"utf-8\") as f:\n",
    "    html = f.read()\n",
    "\n",
    "# 2. Soup-Objekt erstellen\n",
    "soup = BeautifulSoup(html, \"html.parser\")\n",
    "\n",
    "# 3. Nur gezielte Tags durchsuchen\n",
    "relevante_tags = soup.find_all([\"p\", \"h2\", \"h3\"])\n",
    "relevanter_text = \" \".join(tag.get_text(separator=\" \").strip() for tag in relevante_tags)\n",
    "\n",
    "# 4. Ergebnis anzeigen\n",
    "print(\"[INFO] Länge des extrahierten Texts:\", len(relevanter_text))\n",
    "print(\"[INFO] Textvorschau:\\n\", relevanter_text[:500])\n",
    "print(\"[INFO] Enthält 'bvg'? →\", \"bvg\" in relevanter_text.lower())"
   ]
  },
  {
   "cell_type": "code",
   "execution_count": 19,
   "id": "97b7137a",
   "metadata": {},
   "outputs": [
    {
     "name": "stdout",
     "output_type": "stream",
     "text": [
      "word\n",
      ":               47721\n",
      "mehr…           44711\n",
      "image           23869\n",
      "handelsblatt    21714\n",
      " mehr…          19880\n",
      "merken          15286\n",
      "play            12846\n",
      "thema           11337\n",
      "unternehmen      8136\n",
      "kommentieren     7682\n",
      "Name: count, dtype: int64\n"
     ]
    }
   ],
   "source": [
    "# 1. CSV laden\n",
    "df_wm = pd.read_csv(\"output/cluster_wirtschaft.csv\")\n",
    "\n",
    "# 2. Nur Handelsblatt-Artikel filtern\n",
    "df_hb = df_wm[df_wm[\"source\"] == \"handelsblatt\"]\n",
    "\n",
    "# 3. Top 10 Wörter nach Gesamtanzahl\n",
    "top10_hb = df_hb.groupby(\"word\")[\"count\"].sum().sort_values(ascending=False).head(10)\n",
    "\n",
    "# 4. Anzeigen\n",
    "print(top10_hb)"
   ]
  },
  {
   "cell_type": "code",
   "execution_count": 20,
   "id": "bb48e19a",
   "metadata": {},
   "outputs": [
    {
     "name": "stdout",
     "output_type": "stream",
     "text": [
      "0\n"
     ]
    }
   ],
   "source": [
    "df_hb_bvg = df_hb[df_hb[\"word\"].str.lower() == \"bvg\"]\n",
    "print(df_hb_bvg[\"count\"].sum())"
   ]
  },
  {
   "cell_type": "code",
   "execution_count": 21,
   "id": "085926d8",
   "metadata": {},
   "outputs": [
    {
     "data": {
      "text/plain": [
       "word\n",
       "(bvg)         1\n",
       "bvg-chefin    1\n",
       "Name: count, dtype: int64"
      ]
     },
     "execution_count": 21,
     "metadata": {},
     "output_type": "execute_result"
    }
   ],
   "source": [
    "df_hb[df_hb[\"word\"].str.contains(\"bvg\", na=False, case=False)].groupby(\"word\")[\"count\"].sum().sort_values(ascending=False)"
   ]
  },
  {
   "cell_type": "code",
   "execution_count": null,
   "id": "aa326066",
   "metadata": {},
   "outputs": [],
   "source": []
  },
  {
   "cell_type": "code",
   "execution_count": null,
   "id": "0ba1f4cc",
   "metadata": {},
   "outputs": [],
   "source": []
  },
  {
   "cell_type": "code",
   "execution_count": null,
   "id": "98068245",
   "metadata": {},
   "outputs": [],
   "source": []
  },
  {
   "cell_type": "code",
   "execution_count": null,
   "id": "39daad8e",
   "metadata": {},
   "outputs": [],
   "source": []
  },
  {
   "cell_type": "code",
   "execution_count": 15,
   "id": "bb1768c7",
   "metadata": {},
   "outputs": [
    {
     "name": "stdout",
     "output_type": "stream",
     "text": [
      "[INFO] Anzahl BVG-Nennungen: 0\n"
     ]
    }
   ],
   "source": [
    "# Grobe Analyse\n",
    "# 1. Medienbeiträge filtern, die über die BVG sprechen\n",
    "# Nur Zeilen mit dem Wort \"bvg\"\n",
    "df_bvg = df_or[df_or[\"word\"] == \"bvg\"]\n",
    "print(f\"[INFO] Anzahl BVG-Nennungen: {len(df_bvg)}\")"
   ]
  },
  {
   "cell_type": "code",
   "execution_count": null,
   "id": "37a04365",
   "metadata": {},
   "outputs": [],
   "source": []
  },
  {
   "cell_type": "code",
   "execution_count": null,
   "id": "296ca8d0",
   "metadata": {},
   "outputs": [],
   "source": []
  },
  {
   "cell_type": "code",
   "execution_count": 19,
   "id": "5a4ce729",
   "metadata": {},
   "outputs": [
    {
     "data": {
      "text/plain": [
       "word\n",
       "bvg-urteil         3\n",
       "bvg-direktor       3\n",
       "bvg-tarifstreit    1\n",
       "Name: count, dtype: int64"
      ]
     },
     "execution_count": 19,
     "metadata": {},
     "output_type": "execute_result"
    }
   ],
   "source": [
    "df_or[df_or[\"word\"].str.startswith(\"bvg\", na=False)][\"word\"].value_counts().head(20)"
   ]
  },
  {
   "cell_type": "code",
   "execution_count": 18,
   "id": "f46c8443",
   "metadata": {},
   "outputs": [
    {
     "data": {
      "text/html": [
       "<div>\n",
       "<style scoped>\n",
       "    .dataframe tbody tr th:only-of-type {\n",
       "        vertical-align: middle;\n",
       "    }\n",
       "\n",
       "    .dataframe tbody tr th {\n",
       "        vertical-align: top;\n",
       "    }\n",
       "\n",
       "    .dataframe thead th {\n",
       "        text-align: right;\n",
       "    }\n",
       "</style>\n",
       "<table border=\"1\" class=\"dataframe\">\n",
       "  <thead>\n",
       "    <tr style=\"text-align: right;\">\n",
       "      <th></th>\n",
       "      <th>count</th>\n",
       "      <th>word</th>\n",
       "      <th>source</th>\n",
       "      <th>date</th>\n",
       "    </tr>\n",
       "  </thead>\n",
       "  <tbody>\n",
       "  </tbody>\n",
       "</table>\n",
       "</div>"
      ],
      "text/plain": [
       "Empty DataFrame\n",
       "Columns: [count, word, source, date]\n",
       "Index: []"
      ]
     },
     "execution_count": 18,
     "metadata": {},
     "output_type": "execute_result"
    }
   ],
   "source": [
    "df_or[df_or[\"word\"].str.lower().isin([\"bvg\", \"bvg.\", \"bvg,\", \"bvg)\"])]"
   ]
  },
  {
   "cell_type": "code",
   "execution_count": 16,
   "id": "08eb8f24",
   "metadata": {},
   "outputs": [
    {
     "data": {
      "text/plain": [
       "word\n",
       "impressum               2856\n",
       "wirtschaft              2856\n",
       "deutschland             2856\n",
       "nachrichten             2856\n",
       "ard                     2856\n",
       "audios                  2856\n",
       "service                 2856\n",
       "kontakt                 2856\n",
       "live                    2855\n",
       "sendungen               2853\n",
       "europa                  2852\n",
       "livestream              2852\n",
       "gesellschaft            2852\n",
       "programm                2816\n",
       "aktuelle                2814\n",
       "podcasts                2812\n",
       "menschen                2724\n",
       "sport                   2633\n",
       "datenschutzerklärung    2627\n",
       "welt                    2482\n",
       "deutsche                2453\n",
       "ukraine                 2373\n",
       "russland                2366\n",
       "jahren                  2361\n",
       "wissen                  2339\n",
       "startseite              2324\n",
       "kultur                  2317\n",
       "hintergrund             2317\n",
       "werden.                 2315\n",
       "deutschen               2278\n",
       "usa                     2270\n",
       "krieg                   2264\n",
       "podcast                 2258\n",
       "100                     2237\n",
       "verbraucher             2203\n",
       "entwicklungen           2187\n",
       "deutschlandradio        2180\n",
       "bilder                  2177\n",
       "korrekturen             2159\n",
       "audiothek               2119\n",
       "unternehmen             2105\n",
       "berlin                  2073\n",
       "faq                     2055\n",
       "präsident               2048\n",
       "wetter                  2034\n",
       "jahr                    2031\n",
       "lage                    2019\n",
       "eu                      2018\n",
       "jahre                   1983\n",
       "weltweit                1980\n",
       "Name: count, dtype: int64"
      ]
     },
     "execution_count": 16,
     "metadata": {},
     "output_type": "execute_result"
    }
   ],
   "source": [
    "df_or[\"word\"].value_counts().head(50)"
   ]
  },
  {
   "cell_type": "code",
   "execution_count": 17,
   "id": "6802edb5",
   "metadata": {},
   "outputs": [
    {
     "data": {
      "text/html": [
       "<div>\n",
       "<style scoped>\n",
       "    .dataframe tbody tr th:only-of-type {\n",
       "        vertical-align: middle;\n",
       "    }\n",
       "\n",
       "    .dataframe tbody tr th {\n",
       "        vertical-align: top;\n",
       "    }\n",
       "\n",
       "    .dataframe thead th {\n",
       "        text-align: right;\n",
       "    }\n",
       "</style>\n",
       "<table border=\"1\" class=\"dataframe\">\n",
       "  <thead>\n",
       "    <tr style=\"text-align: right;\">\n",
       "      <th></th>\n",
       "      <th>count</th>\n",
       "      <th>word</th>\n",
       "      <th>source</th>\n",
       "      <th>date</th>\n",
       "    </tr>\n",
       "  </thead>\n",
       "  <tbody>\n",
       "    <tr>\n",
       "      <th>9935</th>\n",
       "      <td>1</td>\n",
       "      <td>bvg-urteil</td>\n",
       "      <td>dlf</td>\n",
       "      <td>2021-04-08</td>\n",
       "    </tr>\n",
       "    <tr>\n",
       "      <th>187566</th>\n",
       "      <td>1</td>\n",
       "      <td>bvg-urteil</td>\n",
       "      <td>dlf</td>\n",
       "      <td>2021-08-05</td>\n",
       "    </tr>\n",
       "    <tr>\n",
       "      <th>196356</th>\n",
       "      <td>1</td>\n",
       "      <td>bvg-direktor</td>\n",
       "      <td>dlf</td>\n",
       "      <td>2021-08-11</td>\n",
       "    </tr>\n",
       "    <tr>\n",
       "      <th>197899</th>\n",
       "      <td>1</td>\n",
       "      <td>bvg-direktor</td>\n",
       "      <td>dlf</td>\n",
       "      <td>2021-08-12</td>\n",
       "    </tr>\n",
       "    <tr>\n",
       "      <th>199216</th>\n",
       "      <td>1</td>\n",
       "      <td>bvg-direktor</td>\n",
       "      <td>dlf</td>\n",
       "      <td>2021-08-13</td>\n",
       "    </tr>\n",
       "    <tr>\n",
       "      <th>2074833</th>\n",
       "      <td>1</td>\n",
       "      <td>bvg-urteil</td>\n",
       "      <td>dlf</td>\n",
       "      <td>2024-05-05</td>\n",
       "    </tr>\n",
       "    <tr>\n",
       "      <th>2706307</th>\n",
       "      <td>1</td>\n",
       "      <td>bvg-tarifstreit</td>\n",
       "      <td>tagesschau</td>\n",
       "      <td>2025-01-27</td>\n",
       "    </tr>\n",
       "  </tbody>\n",
       "</table>\n",
       "</div>"
      ],
      "text/plain": [
       "         count             word      source        date\n",
       "9935         1       bvg-urteil         dlf  2021-04-08\n",
       "187566       1       bvg-urteil         dlf  2021-08-05\n",
       "196356       1     bvg-direktor         dlf  2021-08-11\n",
       "197899       1     bvg-direktor         dlf  2021-08-12\n",
       "199216       1     bvg-direktor         dlf  2021-08-13\n",
       "2074833      1       bvg-urteil         dlf  2024-05-05\n",
       "2706307      1  bvg-tarifstreit  tagesschau  2025-01-27"
      ]
     },
     "execution_count": 17,
     "metadata": {},
     "output_type": "execute_result"
    }
   ],
   "source": [
    "df_or[df_or[\"word\"].str.contains(\"bvg\", na=False)]"
   ]
  },
  {
   "cell_type": "code",
   "execution_count": 21,
   "id": "68dfd705",
   "metadata": {},
   "outputs": [],
   "source": [
    "import re\n",
    "from bs4 import BeautifulSoup\n",
    "\n",
    "def process_html_test(html, stopwords_list=None):\n",
    "    \"\"\"Bereinigt HTML-Inhalt testweise robuster (für Medienanalyse)\"\"\"\n",
    "    soup = BeautifulSoup(html, \"html.parser\")\n",
    "    text = soup.get_text(separator=\" \").lower()\n",
    "\n",
    "    # Wörter mit mindestens 2 Buchstaben (keine Satzzeichen etc.)\n",
    "    tokens = re.findall(r\"\\b[a-zäöüß]{2,}\\b\", text)\n",
    "\n",
    "    if stopwords_list is not None:\n",
    "        tokens = [t for t in tokens if t not in stopwords_list]\n",
    "\n",
    "    return tokens"
   ]
  },
  {
   "cell_type": "code",
   "execution_count": 22,
   "id": "68e73b33",
   "metadata": {},
   "outputs": [
    {
     "name": "stdout",
     "output_type": "stream",
     "text": [
      "['die', 'bvg', 'so', 'sagt', 'man', 'fährt', 'selten', 'pünktlich']\n"
     ]
    }
   ],
   "source": [
    "html = \"<p>Die BVG, so sagt man, fährt selten pünktlich.</p>\"\n",
    "print(process_html_test(html))"
   ]
  },
  {
   "cell_type": "code",
   "execution_count": 1,
   "id": "8f480a31",
   "metadata": {},
   "outputs": [],
   "source": [
    "def extract_text_by_medium(html, medium):\n",
    "    soup = BeautifulSoup(html, \"html.parser\")\n",
    "\n",
    "    if medium == \"tagesschau\":\n",
    "        text_tags = soup.find_all(\"p\", class_=True)\n",
    "    elif medium == \"deutschlandfunk\":\n",
    "        text_tags = soup.find_all(\"p\", class_=True)\n",
    "    elif medium == \"handelsblatt\":\n",
    "        text_tags = soup.find_all([\"h2\", \"h3\"])\n",
    "    elif medium == \"tagesspiegel\":\n",
    "        text_tags = soup.find_all(\"p\")\n",
    "    else:\n",
    "        # Fallback: alles nehmen\n",
    "        return soup.get_text(separator=\" \", strip=True)\n",
    "\n",
    "    return \" \".join(t.get_text(separator=\" \", strip=True) for t in text_tags)"
   ]
  },
  {
   "cell_type": "code",
   "execution_count": 2,
   "id": "18fdedfc",
   "metadata": {},
   "outputs": [
    {
     "ename": "NameError",
     "evalue": "name 'html' is not defined",
     "output_type": "error",
     "traceback": [
      "\u001b[31m---------------------------------------------------------------------------\u001b[39m",
      "\u001b[31mNameError\u001b[39m                                 Traceback (most recent call last)",
      "\u001b[36mCell\u001b[39m\u001b[36m \u001b[39m\u001b[32mIn[2]\u001b[39m\u001b[32m, line 1\u001b[39m\n\u001b[32m----> \u001b[39m\u001b[32m1\u001b[39m text = extract_text_by_medium(\u001b[43mhtml\u001b[49m, newspaper[\u001b[33m\"\u001b[39m\u001b[33mname\u001b[39m\u001b[33m\"\u001b[39m])\n\u001b[32m      2\u001b[39m tokens = process_html_test(text, stopwords_list)\n",
      "\u001b[31mNameError\u001b[39m: name 'html' is not defined"
     ]
    }
   ],
   "source": [
    "text = extract_text_by_medium(html, newspaper[\"name\"])\n",
    "tokens = process_html_test(text, stopwords_list)"
   ]
  }
 ],
 "metadata": {
  "kernelspec": {
   "display_name": ".venv",
   "language": "python",
   "name": "python3"
  },
  "language_info": {
   "codemirror_mode": {
    "name": "ipython",
    "version": 3
   },
   "file_extension": ".py",
   "mimetype": "text/x-python",
   "name": "python",
   "nbconvert_exporter": "python",
   "pygments_lexer": "ipython3",
   "version": "3.11.0"
  }
 },
 "nbformat": 4,
 "nbformat_minor": 5
}

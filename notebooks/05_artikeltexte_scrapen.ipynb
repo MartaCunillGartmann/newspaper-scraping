{
 "cells": [
  {
   "cell_type": "markdown",
   "id": "716d66f0",
   "metadata": {},
   "source": [
    "### Datenanreicherung – Artikeltexte scrapen\n",
    "\n",
    "Dieses Notebook ruft Artikeltexte über die zuvor extrahierten Links ab. Verarbeitet werden dabei nur Links aus HTML-Dateien ausgewählter Medien, die eines der definierten Keywords BVG, HVV (inkl. VHH, Hochbahn) oder MVG enthalten.\n",
    "\n",
    "Die wichtigsten Schritte:\n",
    "- Bereinigung der Linkliste \n",
    "- Web Scraping der Artikeltexte über die gespeicherten URLs\n",
    "- Speicherung der Ergebnisse als CSV-Datei\n",
    "- Logging erfolgreicher und fehlerhafter Abrufe zur Nachvollziehbarkeit \n",
    "\n",
    "Dieses Skript setzt voraus, dass die HTML-Linkdaten bereits extrahiert und gefiltert wurden (siehe: 04_artiekl_links_suchen.ipynb)"
   ]
  },
  {
   "cell_type": "markdown",
   "id": "9d2e9174",
   "metadata": {},
   "source": [
    "#### 1. Import benötigte Pakete"
   ]
  },
  {
   "cell_type": "code",
   "execution_count": 1,
   "id": "2aff0d6e",
   "metadata": {},
   "outputs": [],
   "source": [
    "# Standard\n",
    "import os # Dateipfaden\n",
    "import pandas as pd # Tabellenverarbeitung (DataFrames)\n",
    "\n",
    "# HTML-Verarbeitung & Scraping\n",
    "from bs4 import BeautifulSoup # HTML analysieren\n",
    "from glob import glob # Dateisuche\n",
    "import requests # HTTP-Anfragen\n",
    "import time # Pausen zwischen HTTP-Anfragen"
   ]
  },
  {
   "cell_type": "code",
   "execution_count": 2,
   "id": "be3c3a39",
   "metadata": {},
   "outputs": [],
   "source": [
    "# Pfade\n",
    "# Projektverzeichnis\n",
    "PROJECT_ROOT = r\"D:/DBU/ADSC11 ADS-01/Studienarbeit/newspaper-scraping\"\n",
    "\n",
    "# Eingabedaten: CSV-Datei mit Artikellinks\n",
    "DATAPATH = os.path.join(PROJECT_ROOT, \"output\", \"artikel_links_headlines.csv\")\n",
    "\n",
    "# Output-Pfad \n",
    "OUTPUT_PATH = os.path.join(PROJECT_ROOT, \"output\") \n",
    "CSV_PATH = os.path.join(OUTPUT_PATH, \"artikel_links_headlines_clean.csv\")\n",
    "CSV_PATH_FINAL = os.path.join(OUTPUT_PATH, \"artikeltexte_final.csv\")\n",
    "FAILED_PATH = os.path.join(OUTPUT_PATH, \"artikeltexte_failed.csv\")"
   ]
  },
  {
   "cell_type": "markdown",
   "id": "ef0fa5c9",
   "metadata": {},
   "source": [
    "#### 2. Datenexploration"
   ]
  },
  {
   "cell_type": "code",
   "execution_count": 3,
   "id": "bc36fcd5",
   "metadata": {},
   "outputs": [],
   "source": [
    "# CSV-Dateien einlesen\n",
    "df_artikel = pd.read_csv(DATAPATH)"
   ]
  },
  {
   "cell_type": "code",
   "execution_count": 4,
   "id": "4d6f1230",
   "metadata": {},
   "outputs": [
    {
     "data": {
      "text/plain": [
       "(5593, 5)"
      ]
     },
     "execution_count": 4,
     "metadata": {},
     "output_type": "execute_result"
    }
   ],
   "source": [
    "# Anzahl Zeilen und Spalten\n",
    "df_artikel.shape"
   ]
  },
  {
   "cell_type": "code",
   "execution_count": 5,
   "id": "97b57040",
   "metadata": {},
   "outputs": [
    {
     "data": {
      "text/plain": [
       "Index(['filename', 'source', 'date', 'url', 'headline'], dtype='object')"
      ]
     },
     "execution_count": 5,
     "metadata": {},
     "output_type": "execute_result"
    }
   ],
   "source": [
    "# Spaltennamen\n",
    "df_artikel.columns"
   ]
  },
  {
   "cell_type": "code",
   "execution_count": 6,
   "id": "8ce55f94",
   "metadata": {},
   "outputs": [
    {
     "data": {
      "text/plain": [
       "filename    0\n",
       "source      0\n",
       "date        0\n",
       "url         0\n",
       "headline    0\n",
       "dtype: int64"
      ]
     },
     "execution_count": 6,
     "metadata": {},
     "output_type": "execute_result"
    }
   ],
   "source": [
    "# Prüfung fehlende Werte\n",
    "df_artikel.isnull().sum()"
   ]
  },
  {
   "cell_type": "code",
   "execution_count": 7,
   "id": "1e561e2d",
   "metadata": {},
   "outputs": [
    {
     "data": {
      "text/html": [
       "<div>\n",
       "<style scoped>\n",
       "    .dataframe tbody tr th:only-of-type {\n",
       "        vertical-align: middle;\n",
       "    }\n",
       "\n",
       "    .dataframe tbody tr th {\n",
       "        vertical-align: top;\n",
       "    }\n",
       "\n",
       "    .dataframe thead th {\n",
       "        text-align: right;\n",
       "    }\n",
       "</style>\n",
       "<table border=\"1\" class=\"dataframe\">\n",
       "  <thead>\n",
       "    <tr style=\"text-align: right;\">\n",
       "      <th></th>\n",
       "      <th>filename</th>\n",
       "      <th>source</th>\n",
       "      <th>date</th>\n",
       "      <th>url</th>\n",
       "      <th>headline</th>\n",
       "    </tr>\n",
       "  </thead>\n",
       "  <tbody>\n",
       "    <tr>\n",
       "      <th>0</th>\n",
       "      <td>2021-04-01-sz.html</td>\n",
       "      <td>sz</td>\n",
       "      <td>2021-04-01</td>\n",
       "      <td>https://www.sueddeutsche.de/muenchen/muenchen-...</td>\n",
       "      <td>Wartungsarbeiten der MVGEinschränkungen im Apr...</td>\n",
       "    </tr>\n",
       "    <tr>\n",
       "      <th>1</th>\n",
       "      <td>2021-04-01-tagesspiegel.html</td>\n",
       "      <td>tagesspiegel</td>\n",
       "      <td>2021-04-01</td>\n",
       "      <td>https://checkpoint.tagesspiegel.de/langmeldung...</td>\n",
       "      <td>Zweifel an britischem Impfstoff:Verwaltung drä...</td>\n",
       "    </tr>\n",
       "    <tr>\n",
       "      <th>2</th>\n",
       "      <td>2021-04-01-tagesspiegel.html</td>\n",
       "      <td>tagesspiegel</td>\n",
       "      <td>2021-04-01</td>\n",
       "      <td>https://www.tagesspiegel.de/themen/bvg/</td>\n",
       "      <td>BVG</td>\n",
       "    </tr>\n",
       "    <tr>\n",
       "      <th>3</th>\n",
       "      <td>2021-04-02-tagesspiegel.html</td>\n",
       "      <td>tagesspiegel</td>\n",
       "      <td>2021-04-02</td>\n",
       "      <td>https://www.tagesspiegel.de/berlin/streit-um-s...</td>\n",
       "      <td>ExklusivStreit um Schutz vor Hackerangriffen:B...</td>\n",
       "    </tr>\n",
       "    <tr>\n",
       "      <th>4</th>\n",
       "      <td>2021-04-02-tagesspiegel.html</td>\n",
       "      <td>tagesspiegel</td>\n",
       "      <td>2021-04-02</td>\n",
       "      <td>https://www.tagesspiegel.de/berlin/streit-um-s...</td>\n",
       "      <td>mehr</td>\n",
       "    </tr>\n",
       "    <tr>\n",
       "      <th>5</th>\n",
       "      <td>2021-04-02-tagesspiegel.html</td>\n",
       "      <td>tagesspiegel</td>\n",
       "      <td>2021-04-02</td>\n",
       "      <td>https://www.tagesspiegel.de/berlin/pruefung-vo...</td>\n",
       "      <td>Prüfung von Cyberabwehr:BVG eskaliert im Konfl...</td>\n",
       "    </tr>\n",
       "    <tr>\n",
       "      <th>6</th>\n",
       "      <td>2021-04-02-tagesspiegel.html</td>\n",
       "      <td>tagesspiegel</td>\n",
       "      <td>2021-04-02</td>\n",
       "      <td>https://www.tagesspiegel.de/berlin/opposition-...</td>\n",
       "      <td>Opposition attackiert Berliner Wirtschaftssena...</td>\n",
       "    </tr>\n",
       "    <tr>\n",
       "      <th>7</th>\n",
       "      <td>2021-04-02-tagesspiegel.html</td>\n",
       "      <td>tagesspiegel</td>\n",
       "      <td>2021-04-02</td>\n",
       "      <td>https://www.tagesspiegel.de/gesellschaft/queer...</td>\n",
       "      <td>BVG-Chefin Kreienkamp über ihr Coming-out:„Vie...</td>\n",
       "    </tr>\n",
       "    <tr>\n",
       "      <th>8</th>\n",
       "      <td>2021-04-02-tagesspiegel.html</td>\n",
       "      <td>tagesspiegel</td>\n",
       "      <td>2021-04-02</td>\n",
       "      <td>https://www.tagesspiegel.de/berlin/streit-um-s...</td>\n",
       "      <td>09:51Streit um Schutz vor HackerangriffenBVG z...</td>\n",
       "    </tr>\n",
       "    <tr>\n",
       "      <th>9</th>\n",
       "      <td>2021-04-02-tagesspiegel.html</td>\n",
       "      <td>tagesspiegel</td>\n",
       "      <td>2021-04-02</td>\n",
       "      <td>https://www.tagesspiegel.de/themen/bvg/</td>\n",
       "      <td>BVG</td>\n",
       "    </tr>\n",
       "  </tbody>\n",
       "</table>\n",
       "</div>"
      ],
      "text/plain": [
       "                       filename        source        date  \\\n",
       "0            2021-04-01-sz.html            sz  2021-04-01   \n",
       "1  2021-04-01-tagesspiegel.html  tagesspiegel  2021-04-01   \n",
       "2  2021-04-01-tagesspiegel.html  tagesspiegel  2021-04-01   \n",
       "3  2021-04-02-tagesspiegel.html  tagesspiegel  2021-04-02   \n",
       "4  2021-04-02-tagesspiegel.html  tagesspiegel  2021-04-02   \n",
       "5  2021-04-02-tagesspiegel.html  tagesspiegel  2021-04-02   \n",
       "6  2021-04-02-tagesspiegel.html  tagesspiegel  2021-04-02   \n",
       "7  2021-04-02-tagesspiegel.html  tagesspiegel  2021-04-02   \n",
       "8  2021-04-02-tagesspiegel.html  tagesspiegel  2021-04-02   \n",
       "9  2021-04-02-tagesspiegel.html  tagesspiegel  2021-04-02   \n",
       "\n",
       "                                                 url  \\\n",
       "0  https://www.sueddeutsche.de/muenchen/muenchen-...   \n",
       "1  https://checkpoint.tagesspiegel.de/langmeldung...   \n",
       "2            https://www.tagesspiegel.de/themen/bvg/   \n",
       "3  https://www.tagesspiegel.de/berlin/streit-um-s...   \n",
       "4  https://www.tagesspiegel.de/berlin/streit-um-s...   \n",
       "5  https://www.tagesspiegel.de/berlin/pruefung-vo...   \n",
       "6  https://www.tagesspiegel.de/berlin/opposition-...   \n",
       "7  https://www.tagesspiegel.de/gesellschaft/queer...   \n",
       "8  https://www.tagesspiegel.de/berlin/streit-um-s...   \n",
       "9            https://www.tagesspiegel.de/themen/bvg/   \n",
       "\n",
       "                                            headline  \n",
       "0  Wartungsarbeiten der MVGEinschränkungen im Apr...  \n",
       "1  Zweifel an britischem Impfstoff:Verwaltung drä...  \n",
       "2                                                BVG  \n",
       "3  ExklusivStreit um Schutz vor Hackerangriffen:B...  \n",
       "4                                               mehr  \n",
       "5  Prüfung von Cyberabwehr:BVG eskaliert im Konfl...  \n",
       "6  Opposition attackiert Berliner Wirtschaftssena...  \n",
       "7  BVG-Chefin Kreienkamp über ihr Coming-out:„Vie...  \n",
       "8  09:51Streit um Schutz vor HackerangriffenBVG z...  \n",
       "9                                                BVG  "
      ]
     },
     "execution_count": 7,
     "metadata": {},
     "output_type": "execute_result"
    }
   ],
   "source": [
    "# Erste 10 Artikelzeilen anzeigen\n",
    "df_artikel.head(10)"
   ]
  },
  {
   "cell_type": "code",
   "execution_count": 8,
   "id": "3e78902d",
   "metadata": {},
   "outputs": [
    {
     "name": "stdout",
     "output_type": "stream",
     "text": [
      "     headline                                                url\n",
      "2         BVG            https://www.tagesspiegel.de/themen/bvg/\n",
      "9         BVG            https://www.tagesspiegel.de/themen/bvg/\n",
      "16        BVG            https://www.tagesspiegel.de/themen/bvg/\n",
      "17        BVG            https://www.tagesspiegel.de/themen/bvg/\n",
      "23        BVG            https://www.tagesspiegel.de/themen/bvg/\n",
      "...       ...                                                ...\n",
      "1800      BVG            https://www.tagesspiegel.de/themen/bvg/\n",
      "1804      BVG            https://www.tagesspiegel.de/themen/bvg/\n",
      "4913      BVG         https://www.berliner-zeitung.de/topics/bvg\n",
      "4915      BVG         https://www.berliner-zeitung.de/topics/bvg\n",
      "5504       52  https://www.zeit.de/arbeit/2025-04/verdi-bvg-b...\n",
      "\n",
      "[527 rows x 2 columns]\n"
     ]
    }
   ],
   "source": [
    "# Kurze Headlines filtern und anzeigen\n",
    "kurze_headlines = df_artikel[df_artikel[\"headline\"].str.len() <= 3]\n",
    "print(kurze_headlines[[\"headline\", \"url\"]])"
   ]
  },
  {
   "cell_type": "code",
   "execution_count": 9,
   "id": "e09da167",
   "metadata": {},
   "outputs": [
    {
     "data": {
      "text/plain": [
       "source\n",
       "tagesspiegel    524\n",
       "berliner          2\n",
       "zeit              1\n",
       "Name: count, dtype: int64"
      ]
     },
     "execution_count": 9,
     "metadata": {},
     "output_type": "execute_result"
    }
   ],
   "source": [
    "# Anzahl kurze Headlines nach Medium\n",
    "kurze_headlines[\"source\"].value_counts()"
   ]
  },
  {
   "cell_type": "code",
   "execution_count": 10,
   "id": "740691ab",
   "metadata": {},
   "outputs": [
    {
     "data": {
      "text/plain": [
       "url\n",
       "https://www.tagesspiegel.de/themen/bvg/                                                                                                                                   528\n",
       "https://www.tagesspiegel.de/berlin/falsch-gehende-uhren-in-berlin-als-die-bvg-nicht-richtig-tickte/28249414.html                                                           15\n",
       "https://www.tagesspiegel.de/berlin/plotzlich-war-ich-die-stimme-der-bvg-synchronsprecherin-philippa-jarke-macht-die-ansagen-in-berlins-bussen-und-bahnen-12977182.html     12\n",
       "https://www.tagesspiegel.de/berlin/kuerzungen-bei-der-bvg-31-berliner-buslinien-fahren-ab-montag-seltener-wegen-corona-und-personalmangel/28600266.html                    11\n",
       "https://www.tagesspiegel.de/berlin/polizei-justiz/19-jaehriger-erleidet-kopfverletzungen-radfahrer-in-berlin-bei-unfall-mit-bvg-bus-schwer-verletzt/27277756.html          11\n",
       "Name: count, dtype: int64"
      ]
     },
     "execution_count": 10,
     "metadata": {},
     "output_type": "execute_result"
    }
   ],
   "source": [
    "# 5 Links mit häufigster Nennung beim Tagesspiegel anzeigen\n",
    "df_artikel[df_artikel[\"source\"] == \"tagesspiegel\"][\"url\"].value_counts().head(5)"
   ]
  },
  {
   "cell_type": "code",
   "execution_count": 11,
   "id": "498ebefc",
   "metadata": {},
   "outputs": [],
   "source": [
    "# Kurze Headlines entfernen\n",
    "df_artikel = df_artikel[df_artikel[\"headline\"].str.len() > 3]"
   ]
  },
  {
   "cell_type": "code",
   "execution_count": 12,
   "id": "45bef95c",
   "metadata": {},
   "outputs": [
    {
     "name": "stdout",
     "output_type": "stream",
     "text": [
      "[INFO] Anzahl verbleibender Links: 5066\n"
     ]
    }
   ],
   "source": [
    "# Ergebnis anzeigen\n",
    "print(\"[INFO] Anzahl verbleibender Links:\", len(df_artikel))"
   ]
  },
  {
   "cell_type": "code",
   "execution_count": 13,
   "id": "ea7e055d",
   "metadata": {},
   "outputs": [
    {
     "data": {
      "text/plain": [
       "np.int64(3195)"
      ]
     },
     "execution_count": 13,
     "metadata": {},
     "output_type": "execute_result"
    }
   ],
   "source": [
    "# Duplikate prüfen\n",
    "df_artikel[\"url\"].duplicated().sum()"
   ]
  },
  {
   "cell_type": "code",
   "execution_count": 14,
   "id": "020ac110",
   "metadata": {},
   "outputs": [
    {
     "data": {
      "text/html": [
       "<div>\n",
       "<style scoped>\n",
       "    .dataframe tbody tr th:only-of-type {\n",
       "        vertical-align: middle;\n",
       "    }\n",
       "\n",
       "    .dataframe tbody tr th {\n",
       "        vertical-align: top;\n",
       "    }\n",
       "\n",
       "    .dataframe thead th {\n",
       "        text-align: right;\n",
       "    }\n",
       "</style>\n",
       "<table border=\"1\" class=\"dataframe\">\n",
       "  <thead>\n",
       "    <tr style=\"text-align: right;\">\n",
       "      <th></th>\n",
       "      <th>filename</th>\n",
       "      <th>source</th>\n",
       "      <th>date</th>\n",
       "      <th>url</th>\n",
       "      <th>headline</th>\n",
       "    </tr>\n",
       "  </thead>\n",
       "  <tbody>\n",
       "    <tr>\n",
       "      <th>3081</th>\n",
       "      <td>2023-11-23-taz.html</td>\n",
       "      <td>taz</td>\n",
       "      <td>2023-11-23</td>\n",
       "      <td>https://blogs.taz.de/zylinderkopf/bvg-urteil-z...</td>\n",
       "      <td>Zylinderkopf-Dichtung: Zur Schuldenbremse„Denn...</td>\n",
       "    </tr>\n",
       "    <tr>\n",
       "      <th>3082</th>\n",
       "      <td>2023-11-24-taz.html</td>\n",
       "      <td>taz</td>\n",
       "      <td>2023-11-24</td>\n",
       "      <td>https://blogs.taz.de/zylinderkopf/bvg-urteil-z...</td>\n",
       "      <td>Zylinderkopf-Dichtung: Zur Schuldenbremse„Denn...</td>\n",
       "    </tr>\n",
       "    <tr>\n",
       "      <th>1092</th>\n",
       "      <td>2022-04-12-tagesspiegel.html</td>\n",
       "      <td>tagesspiegel</td>\n",
       "      <td>2022-04-12</td>\n",
       "      <td>https://checkpoint.tagesspiegel.de/encore/2jf2...</td>\n",
       "      <td>Schwan-Alarm am Lietzensee:Berlin errichtet we...</td>\n",
       "    </tr>\n",
       "    <tr>\n",
       "      <th>1093</th>\n",
       "      <td>2022-04-12-tagesspiegel.html</td>\n",
       "      <td>tagesspiegel</td>\n",
       "      <td>2022-04-12</td>\n",
       "      <td>https://checkpoint.tagesspiegel.de/encore/2jf2...</td>\n",
       "      <td>mehr</td>\n",
       "    </tr>\n",
       "    <tr>\n",
       "      <th>1363</th>\n",
       "      <td>2022-06-02-tagesspiegel.html</td>\n",
       "      <td>tagesspiegel</td>\n",
       "      <td>2022-06-02</td>\n",
       "      <td>https://checkpoint.tagesspiegel.de/langmeldung...</td>\n",
       "      <td>Regulär und weniger regulär:BVG und Bahn kontr...</td>\n",
       "    </tr>\n",
       "    <tr>\n",
       "      <th>...</th>\n",
       "      <td>...</td>\n",
       "      <td>...</td>\n",
       "      <td>...</td>\n",
       "      <td>...</td>\n",
       "      <td>...</td>\n",
       "    </tr>\n",
       "    <tr>\n",
       "      <th>2109</th>\n",
       "      <td>2022-12-13-zeit.html</td>\n",
       "      <td>zeit</td>\n",
       "      <td>2022-12-13</td>\n",
       "      <td>https://www.zeit.de/mobilitaet/2022-12/sunglid...</td>\n",
       "      <td>124 Kommentare</td>\n",
       "    </tr>\n",
       "    <tr>\n",
       "      <th>1504</th>\n",
       "      <td>2022-07-04-handelsblatt.html</td>\n",
       "      <td>handelsblatt</td>\n",
       "      <td>2022-07-04</td>\n",
       "      <td>https://www.zeit.de/news/2022-07/04/gericht-bv...</td>\n",
       "      <td>Berliner Verkehrsbetriebe:Gericht</td>\n",
       "    </tr>\n",
       "    <tr>\n",
       "      <th>1498</th>\n",
       "      <td>2022-07-04-zeit.html</td>\n",
       "      <td>zeit</td>\n",
       "      <td>2022-07-04</td>\n",
       "      <td>https://www.zeit.de/news/2022-07/04/gericht-bv...</td>\n",
       "      <td>09:51Berliner Verkehrsbetriebe:Gericht: BVG da...</td>\n",
       "    </tr>\n",
       "    <tr>\n",
       "      <th>2633</th>\n",
       "      <td>2023-05-03-zeit.html</td>\n",
       "      <td>zeit</td>\n",
       "      <td>2023-05-03</td>\n",
       "      <td>https://www.zeit.de/wirtschaft/2023-05/mobilit...</td>\n",
       "      <td>Podcast: Mobilitätswende: \"Sie wollten einfach...</td>\n",
       "    </tr>\n",
       "    <tr>\n",
       "      <th>2634</th>\n",
       "      <td>2023-05-03-zeit.html</td>\n",
       "      <td>zeit</td>\n",
       "      <td>2023-05-03</td>\n",
       "      <td>https://www.zeit.de/wirtschaft/2023-05/mobilit...</td>\n",
       "      <td>Podcast: Mobilitätswende:\"Sie wollten einfach ...</td>\n",
       "    </tr>\n",
       "  </tbody>\n",
       "</table>\n",
       "<p>4066 rows × 5 columns</p>\n",
       "</div>"
      ],
      "text/plain": [
       "                          filename        source        date  \\\n",
       "3081           2023-11-23-taz.html           taz  2023-11-23   \n",
       "3082           2023-11-24-taz.html           taz  2023-11-24   \n",
       "1092  2022-04-12-tagesspiegel.html  tagesspiegel  2022-04-12   \n",
       "1093  2022-04-12-tagesspiegel.html  tagesspiegel  2022-04-12   \n",
       "1363  2022-06-02-tagesspiegel.html  tagesspiegel  2022-06-02   \n",
       "...                            ...           ...         ...   \n",
       "2109          2022-12-13-zeit.html          zeit  2022-12-13   \n",
       "1504  2022-07-04-handelsblatt.html  handelsblatt  2022-07-04   \n",
       "1498          2022-07-04-zeit.html          zeit  2022-07-04   \n",
       "2633          2023-05-03-zeit.html          zeit  2023-05-03   \n",
       "2634          2023-05-03-zeit.html          zeit  2023-05-03   \n",
       "\n",
       "                                                    url  \\\n",
       "3081  https://blogs.taz.de/zylinderkopf/bvg-urteil-z...   \n",
       "3082  https://blogs.taz.de/zylinderkopf/bvg-urteil-z...   \n",
       "1092  https://checkpoint.tagesspiegel.de/encore/2jf2...   \n",
       "1093  https://checkpoint.tagesspiegel.de/encore/2jf2...   \n",
       "1363  https://checkpoint.tagesspiegel.de/langmeldung...   \n",
       "...                                                 ...   \n",
       "2109  https://www.zeit.de/mobilitaet/2022-12/sunglid...   \n",
       "1504  https://www.zeit.de/news/2022-07/04/gericht-bv...   \n",
       "1498  https://www.zeit.de/news/2022-07/04/gericht-bv...   \n",
       "2633  https://www.zeit.de/wirtschaft/2023-05/mobilit...   \n",
       "2634  https://www.zeit.de/wirtschaft/2023-05/mobilit...   \n",
       "\n",
       "                                               headline  \n",
       "3081  Zylinderkopf-Dichtung: Zur Schuldenbremse„Denn...  \n",
       "3082  Zylinderkopf-Dichtung: Zur Schuldenbremse„Denn...  \n",
       "1092  Schwan-Alarm am Lietzensee:Berlin errichtet we...  \n",
       "1093                                               mehr  \n",
       "1363  Regulär und weniger regulär:BVG und Bahn kontr...  \n",
       "...                                                 ...  \n",
       "2109                                     124 Kommentare  \n",
       "1504                  Berliner Verkehrsbetriebe:Gericht  \n",
       "1498  09:51Berliner Verkehrsbetriebe:Gericht: BVG da...  \n",
       "2633  Podcast: Mobilitätswende: \"Sie wollten einfach...  \n",
       "2634  Podcast: Mobilitätswende:\"Sie wollten einfach ...  \n",
       "\n",
       "[4066 rows x 5 columns]"
      ]
     },
     "execution_count": 14,
     "metadata": {},
     "output_type": "execute_result"
    }
   ],
   "source": [
    "# Duplikate anzeigen \n",
    "df_artikel[df_artikel.duplicated(subset=\"url\", keep=False)].sort_values(\"url\")"
   ]
  },
  {
   "cell_type": "code",
   "execution_count": 15,
   "id": "ccbd3653",
   "metadata": {},
   "outputs": [],
   "source": [
    "# Duplikate entfernen\n",
    "df_artikel = df_artikel.drop_duplicates(subset=\"url\")"
   ]
  },
  {
   "cell_type": "code",
   "execution_count": 16,
   "id": "36c63972",
   "metadata": {},
   "outputs": [
    {
     "name": "stdout",
     "output_type": "stream",
     "text": [
      "[INFO] Anzahl verbleibender Links: 1871\n"
     ]
    }
   ],
   "source": [
    "# Ergebnis anzeigen\n",
    "print(\"[INFO] Anzahl verbleibender Links:\", len(df_artikel))"
   ]
  },
  {
   "cell_type": "code",
   "execution_count": 17,
   "id": "07ebec25",
   "metadata": {},
   "outputs": [
    {
     "name": "stdout",
     "output_type": "stream",
     "text": [
      "[INFO] Links gespeichert unter: D:/DBU/ADSC11 ADS-01/Studienarbeit/newspaper-scraping\\output\\artikel_links_headlines_clean.csv\n"
     ]
    }
   ],
   "source": [
    "# Ergebnis als CSV-Datei exportieren\n",
    "df_artikel.to_csv(CSV_PATH, index=False)\n",
    "print(f\"[INFO] Links gespeichert unter: {CSV_PATH}\")"
   ]
  },
  {
   "cell_type": "markdown",
   "id": "a7c37e3d",
   "metadata": {},
   "source": [
    "#### 2. Funktionen zur Verarbeitung definieren"
   ]
  },
  {
   "cell_type": "code",
   "execution_count": 18,
   "id": "0846a67c",
   "metadata": {},
   "outputs": [],
   "source": [
    "# Funktion: \"BVG\", \"HVV\", \"VHH\", \"Hochbahn\" oder \"MVG\" zurückgeben, wenn das entsprechende Keyword im Text enthalten ist\n",
    "def detect_keyword(text):\n",
    "    text = text.lower()\n",
    "    if \"bvg\" in text:\n",
    "        return \"bvg\"\n",
    "    elif \"mvg\" in text:\n",
    "        return \"mvg\"\n",
    "    elif \"hvv\" in text:\n",
    "        return \"hvv\"\n",
    "    elif \"vhh\" in text:\n",
    "        return \"vhh\"\n",
    "    elif \"hochbahn\" in text:\n",
    "        return \"hochbahn\"\n",
    "    return \"None\""
   ]
  },
  {
   "cell_type": "code",
   "execution_count": 19,
   "id": "3ba37ebf",
   "metadata": {},
   "outputs": [],
   "source": [
    "# Funktion: Artikeltext von einer URL laden und Ergebnis-Dictionary zurückgeben\n",
    "def scrape_article(entry):\n",
    "    # URL zurückgeben oder \"\" wenn nicht vorhanden\n",
    "    url = entry.get(\"url\", \"\")\n",
    "\n",
    "    if not url:\n",
    "        # Kein Abruf möglich\n",
    "        return None  \n",
    "\n",
    "    try:\n",
    "        # HTTP-Anfrage mit User-Agent senden\n",
    "        response = requests.get(url, headers={\"User-Agent\": \"Mozilla/5.0\"})\n",
    "\n",
    "        # Wenn Abruf erfolgreich (HTTP-Status 200)\n",
    "        if response.status_code == 200:\n",
    "            # HTML parsen\n",
    "            soup = BeautifulSoup(response.text, \"html.parser\")\n",
    "            # Textabsätze finden\n",
    "            paragraphs = soup.find_all(\"p\")\n",
    "            # Text zusammensetzen\n",
    "            text = \" \".join(p.get_text(strip=True) for p in paragraphs)\n",
    "\n",
    "            # Rückgabe als Dictionary \n",
    "            if text.strip():\n",
    "                return {\n",
    "                    \"filename\": entry.get(\"filename\", \"\"),\n",
    "                    \"url\": url,\n",
    "                    \"source\": entry.get(\"source\", \"\"),\n",
    "                    \"headline\": entry.get(\"headline\", \"\"),\n",
    "                    \"keyword\": detect_keyword(entry.get(\"headline\", \"\")),\n",
    "                    \"text\": text\n",
    "                }\n",
    "\n",
    "        # Wenn zu viele Anfragen (HTTP-Status 429): warten und erneut versuchen\n",
    "        elif response.status_code == 429:\n",
    "            time.sleep(10)\n",
    "            return scrape_article(entry)\n",
    "\n",
    "    except Exception:\n",
    "        pass  \n",
    "\n",
    "    return None  "
   ]
  },
  {
   "cell_type": "markdown",
   "id": "92fee91e",
   "metadata": {},
   "source": [
    "#### 3. Scraping der Artikeltexte"
   ]
  },
  {
   "cell_type": "code",
   "execution_count": 20,
   "id": "ed484c38",
   "metadata": {},
   "outputs": [
    {
     "name": "stdout",
     "output_type": "stream",
     "text": [
      "[INFO] Erfolgreich extrahierte Artikel: 1851\n",
      "[INFO] Fehlgeschlagene Versuche: 20\n"
     ]
    }
   ],
   "source": [
    "# Ergebnis-Listen vorbereiten\n",
    "successful_articles = []\n",
    "failed_articles = []\n",
    "article_urls = df_artikel.to_dict(orient=\"records\")\n",
    "\n",
    "# Artikeltexte iterativ abrufen\n",
    "for entry in article_urls:\n",
    "    result = scrape_article(entry)\n",
    "\n",
    "    if result:\n",
    "        successful_articles.append(result)\n",
    "    else:\n",
    "        failed_articles.append(entry)\n",
    "\n",
    "    # Kurze Pause zwischen Anfragen\n",
    "    time.sleep(1.5)  \n",
    "\n",
    "# Ergebnis anzeigen\n",
    "print(f\"[INFO] Erfolgreich extrahierte Artikel: {len(successful_articles)}\")\n",
    "print(f\"[INFO] Fehlgeschlagene Versuche: {len(failed_articles)}\")"
   ]
  },
  {
   "cell_type": "markdown",
   "id": "41b91366",
   "metadata": {},
   "source": [
    "#### 4. Speicherung der Ergebnisse"
   ]
  },
  {
   "cell_type": "code",
   "execution_count": 21,
   "id": "0ffb4fe7",
   "metadata": {},
   "outputs": [
    {
     "name": "stdout",
     "output_type": "stream",
     "text": [
      "[INFO] Artikeltexte gespeichert unter: D:/DBU/ADSC11 ADS-01/Studienarbeit/newspaper-scraping\\output\\artikeltexte_final.csv\n"
     ]
    }
   ],
   "source": [
    "# Erfolgreiche Artikel als DataFrame umwandeln und als CSV-Datei exportieren \n",
    "if successful_articles:\n",
    "    df_scraped = pd.DataFrame(successful_articles)\n",
    "    df_scraped.to_csv(CSV_PATH_FINAL, index=False)\n",
    "    print(f\"[INFO] Artikeltexte gespeichert unter: {CSV_PATH_FINAL}\")\n",
    "else:\n",
    "    print(\"[WARNUNG] Keine Artikeltexte erfolgreich geladen\")"
   ]
  },
  {
   "cell_type": "code",
   "execution_count": 22,
   "id": "4b342ead",
   "metadata": {},
   "outputs": [
    {
     "name": "stdout",
     "output_type": "stream",
     "text": [
      "[INFO] Fehlerhafte Artikel gespeichert unter: D:/DBU/ADSC11 ADS-01/Studienarbeit/newspaper-scraping\\output\\artikeltexte_failed.csv\n"
     ]
    }
   ],
   "source": [
    "# Fehlerliste in DataFrame umwandeln und als CSV-Datei exportieren \n",
    "if failed_articles:\n",
    "    df_failed = pd.DataFrame(failed_articles)\n",
    "    df_failed.to_csv(FAILED_PATH, index=False)\n",
    "    print(f\"[INFO] Fehlerhafte Artikel gespeichert unter: {FAILED_PATH}\")"
   ]
  }
 ],
 "metadata": {
  "kernelspec": {
   "display_name": ".venv",
   "language": "python",
   "name": "python3"
  },
  "language_info": {
   "codemirror_mode": {
    "name": "ipython",
    "version": 3
   },
   "file_extension": ".py",
   "mimetype": "text/x-python",
   "name": "python",
   "nbconvert_exporter": "python",
   "pygments_lexer": "ipython3",
   "version": "3.11.0"
  }
 },
 "nbformat": 4,
 "nbformat_minor": 5
}

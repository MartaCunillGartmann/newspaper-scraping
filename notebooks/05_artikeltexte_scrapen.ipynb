{
 "cells": [
  {
   "cell_type": "markdown",
   "id": "716d66f0",
   "metadata": {},
   "source": [
    "### Datenanreicherung – Artikeltexte scrapen\n",
    "\n",
    "Dieses Notebook ruft die Artikeltexte über die zuvor extrahierten Links ab. Verarbeitet werden dabei nur die gefilterten Links aus 04_artikel_links_suchen.ipynb, die bereits einem definierten Keyword (BVG, HVV, MVG etc.) zugeordnet wurden.\n",
    "\n",
    "Die wichtigsten Schritte:\n",
    "- Bereinigung der Linkliste \n",
    "- Herunterladen der verlinkten HTML-Seiten über die gespeicherten URLs  \n",
    "- Lokales Scraping der Artikeltexte aus den gespeicherten HTML-Dateien extrahieren\n",
    "- Speicherung der extrahierten Artikeltexte als CSV-Datei für die spätere Analyse\n",
    "- Protokollierung potenzieller Verarbeitungsfehler zur Nachvollziehbarkeit\n",
    "- Bereinigung und Zerlegung der Texte in Wörter\n",
    "\n",
    "\n",
    "Dieses Skript setzt voraus, dass die HTML-Linkdaten bereits extrahiert und gefiltert wurden (siehe: 04_artikel_links_suchen.ipynb)"
   ]
  },
  {
   "cell_type": "markdown",
   "id": "9d2e9174",
   "metadata": {},
   "source": [
    "#### 1. Import benötigte Pakete"
   ]
  },
  {
   "cell_type": "code",
   "execution_count": 1,
   "id": "2aff0d6e",
   "metadata": {},
   "outputs": [],
   "source": [
    "# Standard\n",
    "import os # Dateipfaden\n",
    "import pandas as pd # Tabellenverarbeitung (DataFrames)\n",
    "\n",
    "# HTML-Verarbeitung & Scraping\n",
    "from bs4 import BeautifulSoup # HTML analysieren\n",
    "import requests # HTTP-Anfragen\n",
    "import time # Pausen zwischen HTTP-Anfragen\n",
    "\n",
    "# Eigene Funktionen (ausgelagert)\n",
    "import sys  # Systemfunktionen \n",
    "sys.path.append(\"..\") # Pfad zu .py Datei\n",
    "from scripts.datenaufbereitung import load_stopwords\n",
    "from scripts.cluster_mapping import medium_to_cluster\n",
    "from scripts.textbereinigung import clean_and_split_text"
   ]
  },
  {
   "cell_type": "code",
   "execution_count": 2,
   "id": "be3c3a39",
   "metadata": {},
   "outputs": [],
   "source": [
    "# Pfade\n",
    "# Projektverzeichnis\n",
    "PROJECT_ROOT = r\"D:/DBU/ADSC11 ADS-01/Studienarbeit/newspaper-scraping\"\n",
    "\n",
    "# Linkliste mit Headlines und Keywords\n",
    "DATAPATH = os.path.join(PROJECT_ROOT, \"output\", \"artikel_links_headlines.csv\")\n",
    "\n",
    "# Output-Pfade\n",
    "OUTPUT_PATH = os.path.join(PROJECT_ROOT, \"output\") \n",
    "\n",
    "# Bereinigte Linkliste mit Headlines und Keywords\n",
    "CSV_PATH = os.path.join(OUTPUT_PATH, \"artikel_links_headlines_clean.csv\")\n",
    "\n",
    "# HTML-Dateien\n",
    "HTML_PATH = os.path.join(OUTPUT_PATH, \"raw_artikel\")\n",
    "CSV_PATH_HTML = os.path.join(HTML_PATH, \"artikel_download_log.csv\")\n",
    "FAILED_PATH_HTML = os.path.join(HTML_PATH, \"artikel_download_failed.csv\")\n",
    "\n",
    "# Lokal gescrapete Texte\n",
    "CSV_PATH_RAW_ARTIKEL = os.path.join(OUTPUT_PATH, \"artikel_scraped.csv\")\n",
    "FAILED_PATH_RAW_ARTIKEL = os.path.join(OUTPUT_PATH, \"artikel_scraped_failed.csv\")\n",
    "\n",
    "# Wortfrequenzen pro Artikel \n",
    "CSV_PATH_COUNTS = os.path.join(OUTPUT_PATH, \"artikel_counts.csv\")"
   ]
  },
  {
   "cell_type": "markdown",
   "id": "ef0fa5c9",
   "metadata": {},
   "source": [
    "#### 2. Datenexploration und Bereinigung der Linkliste"
   ]
  },
  {
   "cell_type": "code",
   "execution_count": 3,
   "id": "bc36fcd5",
   "metadata": {},
   "outputs": [],
   "source": [
    "# CSV-Dateien einlesen\n",
    "df_artikel = pd.read_csv(DATAPATH)"
   ]
  },
  {
   "cell_type": "code",
   "execution_count": 4,
   "id": "4d6f1230",
   "metadata": {},
   "outputs": [
    {
     "data": {
      "text/plain": [
       "(5593, 7)"
      ]
     },
     "execution_count": 4,
     "metadata": {},
     "output_type": "execute_result"
    }
   ],
   "source": [
    "# Anzahl Zeilen und Spalten\n",
    "df_artikel.shape"
   ]
  },
  {
   "cell_type": "code",
   "execution_count": 5,
   "id": "97b57040",
   "metadata": {},
   "outputs": [
    {
     "data": {
      "text/plain": [
       "Index(['filename', 'source', 'date', 'url', 'headline', 'cluster', 'keyword'], dtype='object')"
      ]
     },
     "execution_count": 5,
     "metadata": {},
     "output_type": "execute_result"
    }
   ],
   "source": [
    "# Spaltennamen\n",
    "df_artikel.columns"
   ]
  },
  {
   "cell_type": "code",
   "execution_count": 6,
   "id": "8ce55f94",
   "metadata": {},
   "outputs": [
    {
     "data": {
      "text/plain": [
       "filename    0\n",
       "source      0\n",
       "date        0\n",
       "url         0\n",
       "headline    0\n",
       "cluster     0\n",
       "keyword     0\n",
       "dtype: int64"
      ]
     },
     "execution_count": 6,
     "metadata": {},
     "output_type": "execute_result"
    }
   ],
   "source": [
    "# Prüfung fehlende Werte\n",
    "df_artikel.isnull().sum()"
   ]
  },
  {
   "cell_type": "code",
   "execution_count": 7,
   "id": "1e561e2d",
   "metadata": {},
   "outputs": [
    {
     "data": {
      "text/html": [
       "<div>\n",
       "<style scoped>\n",
       "    .dataframe tbody tr th:only-of-type {\n",
       "        vertical-align: middle;\n",
       "    }\n",
       "\n",
       "    .dataframe tbody tr th {\n",
       "        vertical-align: top;\n",
       "    }\n",
       "\n",
       "    .dataframe thead th {\n",
       "        text-align: right;\n",
       "    }\n",
       "</style>\n",
       "<table border=\"1\" class=\"dataframe\">\n",
       "  <thead>\n",
       "    <tr style=\"text-align: right;\">\n",
       "      <th></th>\n",
       "      <th>filename</th>\n",
       "      <th>source</th>\n",
       "      <th>date</th>\n",
       "      <th>url</th>\n",
       "      <th>headline</th>\n",
       "      <th>cluster</th>\n",
       "      <th>keyword</th>\n",
       "    </tr>\n",
       "  </thead>\n",
       "  <tbody>\n",
       "    <tr>\n",
       "      <th>0</th>\n",
       "      <td>2021-04-01-sz.html</td>\n",
       "      <td>sz</td>\n",
       "      <td>2021-04-01</td>\n",
       "      <td>https://www.sueddeutsche.de/muenchen/muenchen-...</td>\n",
       "      <td>Wartungsarbeiten der MVGEinschränkungen im Apr...</td>\n",
       "      <td>Große Medien</td>\n",
       "      <td>mvg</td>\n",
       "    </tr>\n",
       "    <tr>\n",
       "      <th>1</th>\n",
       "      <td>2021-04-01-tagesspiegel.html</td>\n",
       "      <td>tagesspiegel</td>\n",
       "      <td>2021-04-01</td>\n",
       "      <td>https://checkpoint.tagesspiegel.de/langmeldung...</td>\n",
       "      <td>Zweifel an britischem Impfstoff:Verwaltung drä...</td>\n",
       "      <td>Regional</td>\n",
       "      <td>vhh</td>\n",
       "    </tr>\n",
       "    <tr>\n",
       "      <th>2</th>\n",
       "      <td>2021-04-01-tagesspiegel.html</td>\n",
       "      <td>tagesspiegel</td>\n",
       "      <td>2021-04-01</td>\n",
       "      <td>https://www.tagesspiegel.de/themen/bvg/</td>\n",
       "      <td>BVG</td>\n",
       "      <td>Regional</td>\n",
       "      <td>bvg</td>\n",
       "    </tr>\n",
       "    <tr>\n",
       "      <th>3</th>\n",
       "      <td>2021-04-02-tagesspiegel.html</td>\n",
       "      <td>tagesspiegel</td>\n",
       "      <td>2021-04-02</td>\n",
       "      <td>https://www.tagesspiegel.de/berlin/streit-um-s...</td>\n",
       "      <td>ExklusivStreit um Schutz vor Hackerangriffen:B...</td>\n",
       "      <td>Regional</td>\n",
       "      <td>bvg</td>\n",
       "    </tr>\n",
       "    <tr>\n",
       "      <th>4</th>\n",
       "      <td>2021-04-02-tagesspiegel.html</td>\n",
       "      <td>tagesspiegel</td>\n",
       "      <td>2021-04-02</td>\n",
       "      <td>https://www.tagesspiegel.de/berlin/streit-um-s...</td>\n",
       "      <td>mehr</td>\n",
       "      <td>Regional</td>\n",
       "      <td>bvg</td>\n",
       "    </tr>\n",
       "    <tr>\n",
       "      <th>5</th>\n",
       "      <td>2021-04-02-tagesspiegel.html</td>\n",
       "      <td>tagesspiegel</td>\n",
       "      <td>2021-04-02</td>\n",
       "      <td>https://www.tagesspiegel.de/berlin/pruefung-vo...</td>\n",
       "      <td>Prüfung von Cyberabwehr:BVG eskaliert im Konfl...</td>\n",
       "      <td>Regional</td>\n",
       "      <td>bvg</td>\n",
       "    </tr>\n",
       "    <tr>\n",
       "      <th>6</th>\n",
       "      <td>2021-04-02-tagesspiegel.html</td>\n",
       "      <td>tagesspiegel</td>\n",
       "      <td>2021-04-02</td>\n",
       "      <td>https://www.tagesspiegel.de/berlin/opposition-...</td>\n",
       "      <td>Opposition attackiert Berliner Wirtschaftssena...</td>\n",
       "      <td>Regional</td>\n",
       "      <td>bvg</td>\n",
       "    </tr>\n",
       "    <tr>\n",
       "      <th>7</th>\n",
       "      <td>2021-04-02-tagesspiegel.html</td>\n",
       "      <td>tagesspiegel</td>\n",
       "      <td>2021-04-02</td>\n",
       "      <td>https://www.tagesspiegel.de/gesellschaft/queer...</td>\n",
       "      <td>BVG-Chefin Kreienkamp über ihr Coming-out:„Vie...</td>\n",
       "      <td>Regional</td>\n",
       "      <td>bvg</td>\n",
       "    </tr>\n",
       "    <tr>\n",
       "      <th>8</th>\n",
       "      <td>2021-04-02-tagesspiegel.html</td>\n",
       "      <td>tagesspiegel</td>\n",
       "      <td>2021-04-02</td>\n",
       "      <td>https://www.tagesspiegel.de/berlin/streit-um-s...</td>\n",
       "      <td>09:51Streit um Schutz vor HackerangriffenBVG z...</td>\n",
       "      <td>Regional</td>\n",
       "      <td>bvg</td>\n",
       "    </tr>\n",
       "    <tr>\n",
       "      <th>9</th>\n",
       "      <td>2021-04-02-tagesspiegel.html</td>\n",
       "      <td>tagesspiegel</td>\n",
       "      <td>2021-04-02</td>\n",
       "      <td>https://www.tagesspiegel.de/themen/bvg/</td>\n",
       "      <td>BVG</td>\n",
       "      <td>Regional</td>\n",
       "      <td>bvg</td>\n",
       "    </tr>\n",
       "  </tbody>\n",
       "</table>\n",
       "</div>"
      ],
      "text/plain": [
       "                       filename        source        date  \\\n",
       "0            2021-04-01-sz.html            sz  2021-04-01   \n",
       "1  2021-04-01-tagesspiegel.html  tagesspiegel  2021-04-01   \n",
       "2  2021-04-01-tagesspiegel.html  tagesspiegel  2021-04-01   \n",
       "3  2021-04-02-tagesspiegel.html  tagesspiegel  2021-04-02   \n",
       "4  2021-04-02-tagesspiegel.html  tagesspiegel  2021-04-02   \n",
       "5  2021-04-02-tagesspiegel.html  tagesspiegel  2021-04-02   \n",
       "6  2021-04-02-tagesspiegel.html  tagesspiegel  2021-04-02   \n",
       "7  2021-04-02-tagesspiegel.html  tagesspiegel  2021-04-02   \n",
       "8  2021-04-02-tagesspiegel.html  tagesspiegel  2021-04-02   \n",
       "9  2021-04-02-tagesspiegel.html  tagesspiegel  2021-04-02   \n",
       "\n",
       "                                                 url  \\\n",
       "0  https://www.sueddeutsche.de/muenchen/muenchen-...   \n",
       "1  https://checkpoint.tagesspiegel.de/langmeldung...   \n",
       "2            https://www.tagesspiegel.de/themen/bvg/   \n",
       "3  https://www.tagesspiegel.de/berlin/streit-um-s...   \n",
       "4  https://www.tagesspiegel.de/berlin/streit-um-s...   \n",
       "5  https://www.tagesspiegel.de/berlin/pruefung-vo...   \n",
       "6  https://www.tagesspiegel.de/berlin/opposition-...   \n",
       "7  https://www.tagesspiegel.de/gesellschaft/queer...   \n",
       "8  https://www.tagesspiegel.de/berlin/streit-um-s...   \n",
       "9            https://www.tagesspiegel.de/themen/bvg/   \n",
       "\n",
       "                                            headline       cluster keyword  \n",
       "0  Wartungsarbeiten der MVGEinschränkungen im Apr...  Große Medien     mvg  \n",
       "1  Zweifel an britischem Impfstoff:Verwaltung drä...      Regional     vhh  \n",
       "2                                                BVG      Regional     bvg  \n",
       "3  ExklusivStreit um Schutz vor Hackerangriffen:B...      Regional     bvg  \n",
       "4                                               mehr      Regional     bvg  \n",
       "5  Prüfung von Cyberabwehr:BVG eskaliert im Konfl...      Regional     bvg  \n",
       "6  Opposition attackiert Berliner Wirtschaftssena...      Regional     bvg  \n",
       "7  BVG-Chefin Kreienkamp über ihr Coming-out:„Vie...      Regional     bvg  \n",
       "8  09:51Streit um Schutz vor HackerangriffenBVG z...      Regional     bvg  \n",
       "9                                                BVG      Regional     bvg  "
      ]
     },
     "execution_count": 7,
     "metadata": {},
     "output_type": "execute_result"
    }
   ],
   "source": [
    "# Erste 10 Artikelzeilen anzeigen\n",
    "df_artikel.head(10)"
   ]
  },
  {
   "cell_type": "code",
   "execution_count": 8,
   "id": "3e78902d",
   "metadata": {},
   "outputs": [
    {
     "name": "stdout",
     "output_type": "stream",
     "text": [
      "     headline                                                url\n",
      "2         BVG            https://www.tagesspiegel.de/themen/bvg/\n",
      "9         BVG            https://www.tagesspiegel.de/themen/bvg/\n",
      "16        BVG            https://www.tagesspiegel.de/themen/bvg/\n",
      "17        BVG            https://www.tagesspiegel.de/themen/bvg/\n",
      "23        BVG            https://www.tagesspiegel.de/themen/bvg/\n",
      "...       ...                                                ...\n",
      "1800      BVG            https://www.tagesspiegel.de/themen/bvg/\n",
      "1804      BVG            https://www.tagesspiegel.de/themen/bvg/\n",
      "4913      BVG         https://www.berliner-zeitung.de/topics/bvg\n",
      "4915      BVG         https://www.berliner-zeitung.de/topics/bvg\n",
      "5504       52  https://www.zeit.de/arbeit/2025-04/verdi-bvg-b...\n",
      "\n",
      "[527 rows x 2 columns]\n"
     ]
    }
   ],
   "source": [
    "# Kurze Headlines filtern und anzeigen\n",
    "kurze_headlines = df_artikel[df_artikel[\"headline\"].str.len() <= 3]\n",
    "print(kurze_headlines[[\"headline\", \"url\"]])"
   ]
  },
  {
   "cell_type": "code",
   "execution_count": 9,
   "id": "e09da167",
   "metadata": {},
   "outputs": [
    {
     "data": {
      "text/plain": [
       "source\n",
       "tagesspiegel    524\n",
       "berliner          2\n",
       "zeit              1\n",
       "Name: count, dtype: int64"
      ]
     },
     "execution_count": 9,
     "metadata": {},
     "output_type": "execute_result"
    }
   ],
   "source": [
    "# Anzahl kurze Headlines nach Medium\n",
    "kurze_headlines[\"source\"].value_counts()"
   ]
  },
  {
   "cell_type": "code",
   "execution_count": 10,
   "id": "740691ab",
   "metadata": {},
   "outputs": [
    {
     "data": {
      "text/plain": [
       "url\n",
       "https://www.tagesspiegel.de/themen/bvg/                                                                                                                                   528\n",
       "https://www.tagesspiegel.de/berlin/falsch-gehende-uhren-in-berlin-als-die-bvg-nicht-richtig-tickte/28249414.html                                                           15\n",
       "https://www.tagesspiegel.de/berlin/plotzlich-war-ich-die-stimme-der-bvg-synchronsprecherin-philippa-jarke-macht-die-ansagen-in-berlins-bussen-und-bahnen-12977182.html     12\n",
       "https://www.tagesspiegel.de/berlin/kuerzungen-bei-der-bvg-31-berliner-buslinien-fahren-ab-montag-seltener-wegen-corona-und-personalmangel/28600266.html                    11\n",
       "https://www.tagesspiegel.de/berlin/polizei-justiz/19-jaehriger-erleidet-kopfverletzungen-radfahrer-in-berlin-bei-unfall-mit-bvg-bus-schwer-verletzt/27277756.html          11\n",
       "Name: count, dtype: int64"
      ]
     },
     "execution_count": 10,
     "metadata": {},
     "output_type": "execute_result"
    }
   ],
   "source": [
    "# 5 Links mit häufigster Nennung beim Tagesspiegel \n",
    "df_artikel[df_artikel[\"source\"] == \"tagesspiegel\"][\"url\"].value_counts().head(5)"
   ]
  },
  {
   "cell_type": "code",
   "execution_count": 11,
   "id": "498ebefc",
   "metadata": {},
   "outputs": [],
   "source": [
    "# Kurze Headlines entfernen\n",
    "df_artikel = df_artikel[df_artikel[\"headline\"].str.len() > 3]"
   ]
  },
  {
   "cell_type": "code",
   "execution_count": 12,
   "id": "45bef95c",
   "metadata": {},
   "outputs": [
    {
     "name": "stdout",
     "output_type": "stream",
     "text": [
      "[INFO] Anzahl verbleibender Links: 5066\n"
     ]
    }
   ],
   "source": [
    "# Ergebnis anzeigen\n",
    "print(\"[INFO] Anzahl verbleibender Links:\", len(df_artikel))"
   ]
  },
  {
   "cell_type": "code",
   "execution_count": 13,
   "id": "ea7e055d",
   "metadata": {},
   "outputs": [
    {
     "data": {
      "text/plain": [
       "np.int64(3195)"
      ]
     },
     "execution_count": 13,
     "metadata": {},
     "output_type": "execute_result"
    }
   ],
   "source": [
    "# Duplikate prüfen\n",
    "df_artikel[\"url\"].duplicated().sum()"
   ]
  },
  {
   "cell_type": "code",
   "execution_count": 14,
   "id": "020ac110",
   "metadata": {},
   "outputs": [
    {
     "data": {
      "text/html": [
       "<div>\n",
       "<style scoped>\n",
       "    .dataframe tbody tr th:only-of-type {\n",
       "        vertical-align: middle;\n",
       "    }\n",
       "\n",
       "    .dataframe tbody tr th {\n",
       "        vertical-align: top;\n",
       "    }\n",
       "\n",
       "    .dataframe thead th {\n",
       "        text-align: right;\n",
       "    }\n",
       "</style>\n",
       "<table border=\"1\" class=\"dataframe\">\n",
       "  <thead>\n",
       "    <tr style=\"text-align: right;\">\n",
       "      <th></th>\n",
       "      <th>filename</th>\n",
       "      <th>source</th>\n",
       "      <th>date</th>\n",
       "      <th>url</th>\n",
       "      <th>headline</th>\n",
       "      <th>cluster</th>\n",
       "      <th>keyword</th>\n",
       "    </tr>\n",
       "  </thead>\n",
       "  <tbody>\n",
       "    <tr>\n",
       "      <th>3081</th>\n",
       "      <td>2023-11-23-taz.html</td>\n",
       "      <td>taz</td>\n",
       "      <td>2023-11-23</td>\n",
       "      <td>https://blogs.taz.de/zylinderkopf/bvg-urteil-z...</td>\n",
       "      <td>Zylinderkopf-Dichtung: Zur Schuldenbremse„Denn...</td>\n",
       "      <td>Große Medien</td>\n",
       "      <td>bvg</td>\n",
       "    </tr>\n",
       "    <tr>\n",
       "      <th>3082</th>\n",
       "      <td>2023-11-24-taz.html</td>\n",
       "      <td>taz</td>\n",
       "      <td>2023-11-24</td>\n",
       "      <td>https://blogs.taz.de/zylinderkopf/bvg-urteil-z...</td>\n",
       "      <td>Zylinderkopf-Dichtung: Zur Schuldenbremse„Denn...</td>\n",
       "      <td>Große Medien</td>\n",
       "      <td>bvg</td>\n",
       "    </tr>\n",
       "    <tr>\n",
       "      <th>1092</th>\n",
       "      <td>2022-04-12-tagesspiegel.html</td>\n",
       "      <td>tagesspiegel</td>\n",
       "      <td>2022-04-12</td>\n",
       "      <td>https://checkpoint.tagesspiegel.de/encore/2jf2...</td>\n",
       "      <td>Schwan-Alarm am Lietzensee:Berlin errichtet we...</td>\n",
       "      <td>Regional</td>\n",
       "      <td>bvg</td>\n",
       "    </tr>\n",
       "    <tr>\n",
       "      <th>1093</th>\n",
       "      <td>2022-04-12-tagesspiegel.html</td>\n",
       "      <td>tagesspiegel</td>\n",
       "      <td>2022-04-12</td>\n",
       "      <td>https://checkpoint.tagesspiegel.de/encore/2jf2...</td>\n",
       "      <td>mehr</td>\n",
       "      <td>Regional</td>\n",
       "      <td>bvg</td>\n",
       "    </tr>\n",
       "    <tr>\n",
       "      <th>1363</th>\n",
       "      <td>2022-06-02-tagesspiegel.html</td>\n",
       "      <td>tagesspiegel</td>\n",
       "      <td>2022-06-02</td>\n",
       "      <td>https://checkpoint.tagesspiegel.de/langmeldung...</td>\n",
       "      <td>Regulär und weniger regulär:BVG und Bahn kontr...</td>\n",
       "      <td>Regional</td>\n",
       "      <td>bvg</td>\n",
       "    </tr>\n",
       "    <tr>\n",
       "      <th>...</th>\n",
       "      <td>...</td>\n",
       "      <td>...</td>\n",
       "      <td>...</td>\n",
       "      <td>...</td>\n",
       "      <td>...</td>\n",
       "      <td>...</td>\n",
       "      <td>...</td>\n",
       "    </tr>\n",
       "    <tr>\n",
       "      <th>2109</th>\n",
       "      <td>2022-12-13-zeit.html</td>\n",
       "      <td>zeit</td>\n",
       "      <td>2022-12-13</td>\n",
       "      <td>https://www.zeit.de/mobilitaet/2022-12/sunglid...</td>\n",
       "      <td>124 Kommentare</td>\n",
       "      <td>Große Medien</td>\n",
       "      <td>hochbahn</td>\n",
       "    </tr>\n",
       "    <tr>\n",
       "      <th>1504</th>\n",
       "      <td>2022-07-04-handelsblatt.html</td>\n",
       "      <td>handelsblatt</td>\n",
       "      <td>2022-07-04</td>\n",
       "      <td>https://www.zeit.de/news/2022-07/04/gericht-bv...</td>\n",
       "      <td>Berliner Verkehrsbetriebe:Gericht</td>\n",
       "      <td>Wirtschaft</td>\n",
       "      <td>bvg</td>\n",
       "    </tr>\n",
       "    <tr>\n",
       "      <th>1498</th>\n",
       "      <td>2022-07-04-zeit.html</td>\n",
       "      <td>zeit</td>\n",
       "      <td>2022-07-04</td>\n",
       "      <td>https://www.zeit.de/news/2022-07/04/gericht-bv...</td>\n",
       "      <td>09:51Berliner Verkehrsbetriebe:Gericht: BVG da...</td>\n",
       "      <td>Große Medien</td>\n",
       "      <td>bvg</td>\n",
       "    </tr>\n",
       "    <tr>\n",
       "      <th>2633</th>\n",
       "      <td>2023-05-03-zeit.html</td>\n",
       "      <td>zeit</td>\n",
       "      <td>2023-05-03</td>\n",
       "      <td>https://www.zeit.de/wirtschaft/2023-05/mobilit...</td>\n",
       "      <td>Podcast: Mobilitätswende: \"Sie wollten einfach...</td>\n",
       "      <td>Große Medien</td>\n",
       "      <td>bvg</td>\n",
       "    </tr>\n",
       "    <tr>\n",
       "      <th>2634</th>\n",
       "      <td>2023-05-03-zeit.html</td>\n",
       "      <td>zeit</td>\n",
       "      <td>2023-05-03</td>\n",
       "      <td>https://www.zeit.de/wirtschaft/2023-05/mobilit...</td>\n",
       "      <td>Podcast: Mobilitätswende:\"Sie wollten einfach ...</td>\n",
       "      <td>Große Medien</td>\n",
       "      <td>bvg</td>\n",
       "    </tr>\n",
       "  </tbody>\n",
       "</table>\n",
       "<p>4066 rows × 7 columns</p>\n",
       "</div>"
      ],
      "text/plain": [
       "                          filename        source        date  \\\n",
       "3081           2023-11-23-taz.html           taz  2023-11-23   \n",
       "3082           2023-11-24-taz.html           taz  2023-11-24   \n",
       "1092  2022-04-12-tagesspiegel.html  tagesspiegel  2022-04-12   \n",
       "1093  2022-04-12-tagesspiegel.html  tagesspiegel  2022-04-12   \n",
       "1363  2022-06-02-tagesspiegel.html  tagesspiegel  2022-06-02   \n",
       "...                            ...           ...         ...   \n",
       "2109          2022-12-13-zeit.html          zeit  2022-12-13   \n",
       "1504  2022-07-04-handelsblatt.html  handelsblatt  2022-07-04   \n",
       "1498          2022-07-04-zeit.html          zeit  2022-07-04   \n",
       "2633          2023-05-03-zeit.html          zeit  2023-05-03   \n",
       "2634          2023-05-03-zeit.html          zeit  2023-05-03   \n",
       "\n",
       "                                                    url  \\\n",
       "3081  https://blogs.taz.de/zylinderkopf/bvg-urteil-z...   \n",
       "3082  https://blogs.taz.de/zylinderkopf/bvg-urteil-z...   \n",
       "1092  https://checkpoint.tagesspiegel.de/encore/2jf2...   \n",
       "1093  https://checkpoint.tagesspiegel.de/encore/2jf2...   \n",
       "1363  https://checkpoint.tagesspiegel.de/langmeldung...   \n",
       "...                                                 ...   \n",
       "2109  https://www.zeit.de/mobilitaet/2022-12/sunglid...   \n",
       "1504  https://www.zeit.de/news/2022-07/04/gericht-bv...   \n",
       "1498  https://www.zeit.de/news/2022-07/04/gericht-bv...   \n",
       "2633  https://www.zeit.de/wirtschaft/2023-05/mobilit...   \n",
       "2634  https://www.zeit.de/wirtschaft/2023-05/mobilit...   \n",
       "\n",
       "                                               headline       cluster  \\\n",
       "3081  Zylinderkopf-Dichtung: Zur Schuldenbremse„Denn...  Große Medien   \n",
       "3082  Zylinderkopf-Dichtung: Zur Schuldenbremse„Denn...  Große Medien   \n",
       "1092  Schwan-Alarm am Lietzensee:Berlin errichtet we...      Regional   \n",
       "1093                                               mehr      Regional   \n",
       "1363  Regulär und weniger regulär:BVG und Bahn kontr...      Regional   \n",
       "...                                                 ...           ...   \n",
       "2109                                     124 Kommentare  Große Medien   \n",
       "1504                  Berliner Verkehrsbetriebe:Gericht    Wirtschaft   \n",
       "1498  09:51Berliner Verkehrsbetriebe:Gericht: BVG da...  Große Medien   \n",
       "2633  Podcast: Mobilitätswende: \"Sie wollten einfach...  Große Medien   \n",
       "2634  Podcast: Mobilitätswende:\"Sie wollten einfach ...  Große Medien   \n",
       "\n",
       "       keyword  \n",
       "3081       bvg  \n",
       "3082       bvg  \n",
       "1092       bvg  \n",
       "1093       bvg  \n",
       "1363       bvg  \n",
       "...        ...  \n",
       "2109  hochbahn  \n",
       "1504       bvg  \n",
       "1498       bvg  \n",
       "2633       bvg  \n",
       "2634       bvg  \n",
       "\n",
       "[4066 rows x 7 columns]"
      ]
     },
     "execution_count": 14,
     "metadata": {},
     "output_type": "execute_result"
    }
   ],
   "source": [
    "# Duplikate anzeigen \n",
    "df_artikel[df_artikel.duplicated(subset=\"url\", keep=False)].sort_values(\"url\")"
   ]
  },
  {
   "cell_type": "code",
   "execution_count": 15,
   "id": "ccbd3653",
   "metadata": {},
   "outputs": [],
   "source": [
    "# Duplikate entfernen\n",
    "df_artikel = df_artikel.drop_duplicates(subset=\"url\")"
   ]
  },
  {
   "cell_type": "code",
   "execution_count": 16,
   "id": "36c63972",
   "metadata": {},
   "outputs": [
    {
     "name": "stdout",
     "output_type": "stream",
     "text": [
      "[INFO] Anzahl verbleibender Links: 1871\n"
     ]
    }
   ],
   "source": [
    "# Ergebnis anzeigen\n",
    "print(\"[INFO] Anzahl verbleibender Links:\", len(df_artikel))"
   ]
  },
  {
   "cell_type": "code",
   "execution_count": 17,
   "id": "28c0b2ac",
   "metadata": {},
   "outputs": [
    {
     "data": {
      "text/plain": [
       "source\n",
       "abendblatt      586\n",
       "berliner        560\n",
       "tagesspiegel    408\n",
       "taz              66\n",
       "heise            60\n",
       "sz               38\n",
       "ntv              36\n",
       "zeit             24\n",
       "spiegel          21\n",
       "welt             20\n",
       "stern            14\n",
       "boerse           11\n",
       "dlf               8\n",
       "faz               6\n",
       "tagesschau        4\n",
       "netzpolitik       4\n",
       "t3n               2\n",
       "mm                2\n",
       "wiwo              1\n",
       "Name: count, dtype: int64"
      ]
     },
     "execution_count": 17,
     "metadata": {},
     "output_type": "execute_result"
    }
   ],
   "source": [
    "# Anzahl Links nach Medium\n",
    "df_artikel[\"source\"].value_counts()"
   ]
  },
  {
   "cell_type": "code",
   "execution_count": 18,
   "id": "07ebec25",
   "metadata": {},
   "outputs": [
    {
     "name": "stdout",
     "output_type": "stream",
     "text": [
      "[INFO] Links gespeichert unter: D:/DBU/ADSC11 ADS-01/Studienarbeit/newspaper-scraping\\output\\artikel_links_headlines_clean.csv\n"
     ]
    }
   ],
   "source": [
    "# Ergebnis als CSV-Datei exportieren\n",
    "df_artikel.to_csv(CSV_PATH, index=False)\n",
    "print(f\"[INFO] Links gespeichert unter: {CSV_PATH}\")"
   ]
  },
  {
   "cell_type": "markdown",
   "id": "365559b1",
   "metadata": {},
   "source": [
    "#### 3. HTML-Dateien downloaden"
   ]
  },
  {
   "cell_type": "code",
   "execution_count": 19,
   "id": "ffbcbebb",
   "metadata": {},
   "outputs": [],
   "source": [
    "# Funktion: HTML-Seite von jedem Artikel-URL herunterladen und speichern\n",
    "def download_article_pages(df, html_path, csv_log_path, csv_failed_path, delay=2.5):\n",
    "    \n",
    "    print(\"[INFO] Starte HTML-Download der Artikel...\")\n",
    "\n",
    "    # Fortlaufende Dateinamen\n",
    "    df = df.reset_index(drop=True)\n",
    "    # Ordner anlegen (falls nicht vorhanden)\n",
    "    os.makedirs(html_path, exist_ok=True)\n",
    "\n",
    "    # Ergebnis-Listen vorbereiten\n",
    "    log_list = []\n",
    "    failed_list = []\n",
    "    erfolgreich = 0\n",
    "    fehlerhaft = 0\n",
    "\n",
    "    # Jede Zeile im DataFrame durchlaufen\n",
    "    for index, row in df.iterrows():\n",
    "        url = row[\"url\"]\n",
    "        filename = f\"artikel_{index:04d}.html\"\n",
    "        file_path = os.path.join(html_path, filename)\n",
    "\n",
    "        try:\n",
    "            # HTTP-Anfrage an die URL\n",
    "            response = requests.get(url, headers={\"User-Agent\": \"Mozilla/5.0\"}, timeout=30)\n",
    "\n",
    "            # Wenn erfolgreich (Status 200)\n",
    "            if response.status_code == 200:\n",
    "                # HTML-Seite speichern\n",
    "                # WICHTIG: Als Bytes speichern, damit keine Encoding-Fehler durch falsche Schätzung entstehen\n",
    "                with open(file_path, \"wb\") as f:\n",
    "                    f.write(response.content)\n",
    "\n",
    "                # Erfolgreiches Ergebnis in Log eintragen\n",
    "                log_list.append({\n",
    "                    \"filename\": filename,\n",
    "                    \"url\": url,\n",
    "                    \"status\": \"erfolgreich\",\n",
    "                    \"encoding\": response.encoding,  # vom Server geschätztes/geliefertes Encoding (nur Info)\n",
    "                    \"source\": row.get(\"source\", \"\"),\n",
    "                    \"date\": row.get(\"date\", \"\"),\n",
    "                    \"headline\": row.get(\"headline\", \"\"),\n",
    "                    \"keyword\": row.get(\"keyword\", \"\"),\n",
    "                    \"cluster\": row.get(\"cluster\", \"\")\n",
    "                })\n",
    "\n",
    "                erfolgreich += 1\n",
    "\n",
    "            else:\n",
    "                # Fehlerhafte Anfrage \n",
    "                failed_list.append({\n",
    "                    \"filename\": None,\n",
    "                    \"url\": url,\n",
    "                    \"status\": f\"Fehler: HTTP {response.status_code}\",\n",
    "                    \"encoding\": None,\n",
    "                    \"source\": row.get(\"source\", \"\"),\n",
    "                    \"date\": row.get(\"date\", \"\"),\n",
    "                    \"headline\": row.get(\"headline\", \"\"),\n",
    "                    \"keyword\": row.get(\"keyword\", \"\"),\n",
    "                    \"cluster\": row.get(\"cluster\", \"\")\n",
    "                })\n",
    "                fehlerhaft += 1\n",
    "\n",
    "        except Exception as e:\n",
    "            # Technischer Fehler \n",
    "            failed_list.append({\n",
    "                \"filename\": None,\n",
    "                \"url\": url,\n",
    "                \"status\": f\"Fehler: {e}\",\n",
    "                \"encoding\": None,\n",
    "                \"source\": row.get(\"source\", \"\"),\n",
    "                \"date\": row.get(\"date\", \"\"),\n",
    "                \"headline\": row.get(\"headline\", \"\"),\n",
    "                \"keyword\": row.get(\"keyword\", \"\"),\n",
    "                \"cluster\": row.get(\"cluster\", \"\")\n",
    "            })\n",
    "            fehlerhaft += 1\n",
    "\n",
    "        # Kurze Pause zwischen den Downloads\n",
    "        time.sleep(delay)\n",
    "\n",
    "    # Speichern\n",
    "    pd.DataFrame(log_list).to_csv(csv_log_path, index=False, encoding=\"utf-8\")\n",
    "    pd.DataFrame(failed_list).to_csv(csv_failed_path, index=False, encoding=\"utf-8\")\n",
    "\n",
    "    # Ergebnis anzeigen\n",
    "    print(f\"[INFO] HTML-Download abgeschlossen.\")\n",
    "    print(f\"[INFO] Erfolgreich gespeichert: {erfolgreich}\")\n",
    "    print(f\"[INFO] Fehlerhafte Seiten: {fehlerhaft}\")"
   ]
  },
  {
   "cell_type": "code",
   "execution_count": 20,
   "id": "20b49198",
   "metadata": {},
   "outputs": [],
   "source": [
    "# Herunterladen von HTML-Dateien \n",
    "# CSV mit den Artikel-Links laden\n",
    "df_links = pd.read_csv(CSV_PATH)  "
   ]
  },
  {
   "cell_type": "code",
   "execution_count": 21,
   "id": "93479004",
   "metadata": {},
   "outputs": [
    {
     "name": "stdout",
     "output_type": "stream",
     "text": [
      "[INFO] Starte HTML-Download der Artikel...\n",
      "[INFO] HTML-Download abgeschlossen.\n",
      "[INFO] Erfolgreich gespeichert: 1797\n",
      "[INFO] Fehlerhafte Seiten: 74\n"
     ]
    }
   ],
   "source": [
    "# HTML-Seiten herunterladen\n",
    "download_article_pages(\n",
    "    df=df_links,\n",
    "    html_path=HTML_PATH,\n",
    "    csv_log_path=CSV_PATH_HTML,\n",
    "    csv_failed_path=FAILED_PATH_HTML,\n",
    "    delay=2.5 \n",
    ")"
   ]
  },
  {
   "cell_type": "code",
   "execution_count": 22,
   "id": "590e99cb",
   "metadata": {},
   "outputs": [
    {
     "name": "stdout",
     "output_type": "stream",
     "text": [
      "status\n",
      "Fehler: HTTP 403    50\n",
      "Fehler: HTTP 404    24\n",
      "Name: count, dtype: int64\n"
     ]
    }
   ],
   "source": [
    "# Fehlerhafte Seiten laden\n",
    "df_failed = pd.read_csv(FAILED_PATH_HTML)\n",
    "\n",
    "# Überblick\n",
    "print(df_failed[\"status\"].value_counts())"
   ]
  },
  {
   "cell_type": "markdown",
   "id": "89a426bf",
   "metadata": {},
   "source": [
    "#### 4. Lokales Scraping der Artikeltexte"
   ]
  },
  {
   "cell_type": "code",
   "execution_count": 23,
   "id": "2311d1f3",
   "metadata": {},
   "outputs": [],
   "source": [
    "# Funktion: Lokales Scraping: Zeile aus der CSV-Datei nehmen, die dazugehörige HTML-Datei lokal suchen, sie öffnen, <p>-Text extrahieren und Text oder Fehlermeldung zurückgeben\n",
    "def scrape_article_local(entry, html_path):\n",
    "    # Dateiname holen bzw. Fehlmeldung\n",
    "    fn = entry.get(\"filename\", \"\")\n",
    "    if not fn:\n",
    "        return {**entry, \"error\": \"missing_filename\"}\n",
    "    \n",
    "    # Dateipfad zusammensetzen\n",
    "    fp = os.path.join(html_path, fn)\n",
    "    if not os.path.exists(fp):\n",
    "        return {**entry, \"error\": \"file_not_found\"}\n",
    "    try:\n",
    "        # Datei öffnen und HTML parsen\n",
    "        with open(fp, \"r\", encoding=\"utf-8\") as f:\n",
    "            soup = BeautifulSoup(f.read(), \"html.parser\")\n",
    "        \n",
    "        # Absätze finden und Text extrahieren\n",
    "        paragraphs = soup.find_all(\"p\")\n",
    "        text = \" \".join(p.get_text(\" \", strip=True) for p in paragraphs)\n",
    "        \n",
    "        # Wenn Text gefunden wurde, Dictionary mit allen Infos und Text\n",
    "        if text.strip():\n",
    "            return {\n",
    "                \"filename\": fn,\n",
    "                \"url\": entry.get(\"url\", \"\"),\n",
    "                \"source\": entry.get(\"source\", \"\"),\n",
    "                \"date\": entry.get(\"date\", \"\"),\n",
    "                \"headline\": entry.get(\"headline\", \"\"),\n",
    "                \"keyword\": entry.get(\"keyword\", None),\n",
    "                \"text\": text,\n",
    "                \"cluster\": medium_to_cluster.get(entry.get(\"source\", \"\"), \"Unbekannt\")\n",
    "            }\n",
    "        else:\n",
    "            return {**entry, \"error\": \"empty_text\"}\n",
    "    except Exception as e:\n",
    "        return {**entry, \"error\": f\"exception: {e}\"}"
   ]
  },
  {
   "cell_type": "code",
   "execution_count": 24,
   "id": "f74428b0",
   "metadata": {},
   "outputs": [
    {
     "name": "stdout",
     "output_type": "stream",
     "text": [
      "[INFO] Erfolgreich: 1792 | Fehlgeschlagen: 5\n"
     ]
    }
   ],
   "source": [
    "# Artikeltexte extrahieren: Lokales Scrpaing durchführen \n",
    "# Log der erfolgreichen Artikel laden\n",
    "df_links = pd.read_csv(CSV_PATH_HTML)\n",
    "\n",
    "# Ergebnis-Listen vorbereiten\n",
    "successful_articles = []\n",
    "failed_articles = []\n",
    "\n",
    "# Artikeltexte iterativ abrufen\n",
    "for entry in df_links.to_dict(orient=\"records\"):\n",
    "    result = scrape_article_local(entry, HTML_PATH)\n",
    "    if \"error\" in result:\n",
    "        failed_articles.append(result)\n",
    "    else:\n",
    "        successful_articles.append(result)\n",
    "\n",
    "# Ergebnis anzeigen\n",
    "print(f\"[INFO] Erfolgreich: {len(successful_articles)} | Fehlgeschlagen: {len(failed_articles)}\")\n",
    "\n",
    "# Ergebnisse speichern\n",
    "pd.DataFrame(successful_articles).to_csv(CSV_PATH_RAW_ARTIKEL, index=False)\n",
    "pd.DataFrame(failed_articles).to_csv(FAILED_PATH_RAW_ARTIKEL, index=False)"
   ]
  },
  {
   "cell_type": "code",
   "execution_count": 25,
   "id": "c6084ba1",
   "metadata": {},
   "outputs": [
    {
     "data": {
      "text/html": [
       "<div>\n",
       "<style scoped>\n",
       "    .dataframe tbody tr th:only-of-type {\n",
       "        vertical-align: middle;\n",
       "    }\n",
       "\n",
       "    .dataframe tbody tr th {\n",
       "        vertical-align: top;\n",
       "    }\n",
       "\n",
       "    .dataframe thead th {\n",
       "        text-align: right;\n",
       "    }\n",
       "</style>\n",
       "<table border=\"1\" class=\"dataframe\">\n",
       "  <thead>\n",
       "    <tr style=\"text-align: right;\">\n",
       "      <th></th>\n",
       "      <th>filename</th>\n",
       "      <th>url</th>\n",
       "      <th>source</th>\n",
       "      <th>date</th>\n",
       "      <th>headline</th>\n",
       "      <th>keyword</th>\n",
       "      <th>text</th>\n",
       "      <th>cluster</th>\n",
       "    </tr>\n",
       "  </thead>\n",
       "  <tbody>\n",
       "    <tr>\n",
       "      <th>0</th>\n",
       "      <td>artikel_0000.html</td>\n",
       "      <td>https://www.sueddeutsche.de/muenchen/muenchen-...</td>\n",
       "      <td>sz</td>\n",
       "      <td>2021-04-01</td>\n",
       "      <td>Wartungsarbeiten der MVGEinschränkungen im Apr...</td>\n",
       "      <td>mvg</td>\n",
       "      <td>Auf beiden U-Bahn-Linien kommt es wegen Wartun...</td>\n",
       "      <td>Große Medien</td>\n",
       "    </tr>\n",
       "    <tr>\n",
       "      <th>1</th>\n",
       "      <td>artikel_0001.html</td>\n",
       "      <td>https://checkpoint.tagesspiegel.de/langmeldung...</td>\n",
       "      <td>tagesspiegel</td>\n",
       "      <td>2021-04-01</td>\n",
       "      <td>Zweifel an britischem Impfstoff:Verwaltung drä...</td>\n",
       "      <td>vhh</td>\n",
       "      <td>Sie wollen Berlins schnellsten Überblick? Jede...</td>\n",
       "      <td>Regional</td>\n",
       "    </tr>\n",
       "    <tr>\n",
       "      <th>2</th>\n",
       "      <td>artikel_0002.html</td>\n",
       "      <td>https://www.tagesspiegel.de/berlin/streit-um-s...</td>\n",
       "      <td>tagesspiegel</td>\n",
       "      <td>2021-04-02</td>\n",
       "      <td>ExklusivStreit um Schutz vor Hackerangriffen:B...</td>\n",
       "      <td>bvg</td>\n",
       "      <td>© Kitty Kleist-Heinrich Man sei „falsch abgebo...</td>\n",
       "      <td>Regional</td>\n",
       "    </tr>\n",
       "    <tr>\n",
       "      <th>3</th>\n",
       "      <td>artikel_0003.html</td>\n",
       "      <td>https://www.tagesspiegel.de/berlin/pruefung-vo...</td>\n",
       "      <td>tagesspiegel</td>\n",
       "      <td>2021-04-02</td>\n",
       "      <td>Prüfung von Cyberabwehr:BVG eskaliert im Konfl...</td>\n",
       "      <td>bvg</td>\n",
       "      <td>© Hauke-Christian Dittrich/dpa Trotz hoher Gef...</td>\n",
       "      <td>Regional</td>\n",
       "    </tr>\n",
       "    <tr>\n",
       "      <th>4</th>\n",
       "      <td>artikel_0004.html</td>\n",
       "      <td>https://www.tagesspiegel.de/berlin/opposition-...</td>\n",
       "      <td>tagesspiegel</td>\n",
       "      <td>2021-04-02</td>\n",
       "      <td>Opposition attackiert Berliner Wirtschaftssena...</td>\n",
       "      <td>bvg</td>\n",
       "      <td>© Fabian Sommer/dpa Berlins Wirtschaftssenator...</td>\n",
       "      <td>Regional</td>\n",
       "    </tr>\n",
       "  </tbody>\n",
       "</table>\n",
       "</div>"
      ],
      "text/plain": [
       "            filename                                                url  \\\n",
       "0  artikel_0000.html  https://www.sueddeutsche.de/muenchen/muenchen-...   \n",
       "1  artikel_0001.html  https://checkpoint.tagesspiegel.de/langmeldung...   \n",
       "2  artikel_0002.html  https://www.tagesspiegel.de/berlin/streit-um-s...   \n",
       "3  artikel_0003.html  https://www.tagesspiegel.de/berlin/pruefung-vo...   \n",
       "4  artikel_0004.html  https://www.tagesspiegel.de/berlin/opposition-...   \n",
       "\n",
       "         source        date  \\\n",
       "0            sz  2021-04-01   \n",
       "1  tagesspiegel  2021-04-01   \n",
       "2  tagesspiegel  2021-04-02   \n",
       "3  tagesspiegel  2021-04-02   \n",
       "4  tagesspiegel  2021-04-02   \n",
       "\n",
       "                                            headline keyword  \\\n",
       "0  Wartungsarbeiten der MVGEinschränkungen im Apr...     mvg   \n",
       "1  Zweifel an britischem Impfstoff:Verwaltung drä...     vhh   \n",
       "2  ExklusivStreit um Schutz vor Hackerangriffen:B...     bvg   \n",
       "3  Prüfung von Cyberabwehr:BVG eskaliert im Konfl...     bvg   \n",
       "4  Opposition attackiert Berliner Wirtschaftssena...     bvg   \n",
       "\n",
       "                                                text       cluster  \n",
       "0  Auf beiden U-Bahn-Linien kommt es wegen Wartun...  Große Medien  \n",
       "1  Sie wollen Berlins schnellsten Überblick? Jede...      Regional  \n",
       "2  © Kitty Kleist-Heinrich Man sei „falsch abgebo...      Regional  \n",
       "3  © Hauke-Christian Dittrich/dpa Trotz hoher Gef...      Regional  \n",
       "4  © Fabian Sommer/dpa Berlins Wirtschaftssenator...      Regional  "
      ]
     },
     "execution_count": 25,
     "metadata": {},
     "output_type": "execute_result"
    }
   ],
   "source": [
    "# Qualitätsprüfung: Ergebnis einlesen\n",
    "df_scraped = pd.read_csv(CSV_PATH_RAW_ARTIKEL)\n",
    "df_scraped.head()"
   ]
  },
  {
   "cell_type": "code",
   "execution_count": 41,
   "id": "4e9712b8",
   "metadata": {},
   "outputs": [
    {
     "name": "stdout",
     "output_type": "stream",
     "text": [
      "Auf beiden U-Bahn-Linien kommt es wegen Wartungsarbeiten zu Behinderungen. Worauf sich Fahrgäste einstellen müssen. Wegen Wartungsarbeiten kommt es im U-Bahn-Netz zu Einschränkungen. Zwischen Münchner Freiheit und Alte Heide erneuern die Stadtwerke auf der Linie U 6 von Montag, 5. April, bis Donnerstag, 29. April, die Stromschiene. Von 23 Uhr an gilt: Zwischen Garching Forschungszentrum und Münchner Freiheit fährt die U 6 im 20-Minuten-Takt. Zwischen Implerstraße und Klinikum Großhadern fährt sie alle zehn Minuten. Zwischen Münchner Freiheit und Implerstraße müssen die Fahrgäste auf die U 3 ausweichen. An den Bahnhöfen Münchner Freiheit, Dietlindenstraße, Nordfriedhof und Alte Heide fahren die Züge in beiden Richtungen von Gleis zwei. Ausgenommen von den Arbeiten sind die Nächte von Freitag auf Samstag und von Samstag auf Sonntag. Die U 3 wird wegen Schienenschleifarbeiten von Sonntag, 4. April, bis Donnerstag, 8. April, ab 22.30 Uhr zwischen Fürstenried West und Aidenbachstraße durch \n"
     ]
    }
   ],
   "source": [
    "# Qualitätsprüfung: Text anzeigen artikel_0000.html\n",
    "text_mvg = df_scraped[df_scraped[\"filename\"].isin([\"artikel_0000.html\"])][\"text\"].iloc[0]\n",
    "\n",
    "# Erste 1.000 Zeichen ausgeben\n",
    "print(text_mvg[:1000])"
   ]
  },
  {
   "cell_type": "code",
   "execution_count": 44,
   "id": "c2b72b03",
   "metadata": {},
   "outputs": [
    {
     "name": "stdout",
     "output_type": "stream",
     "text": [
      "Sie wollen Berlins schnellsten Überblick? Jeden Morgen die wichtigsten Nachrichten der Stadt – mit uns verpassen Sie nichts! ...aber jetzt, wo Sie schon da sind: Testen Sie die Checkpoint Kurzstrecke und lesen Sie Berlins beliebtesten Newsletter mit allen wichtigen Nachrichten und Aufregern der Stadt. Gratis. Von Herausgeber Lorenz Maroldt Sie wollen Berlins schnellsten Überblick? Jeden Morgen die wichtigsten Nachrichten der Stadt – mit uns verpassen Sie nichts! ...aber jetzt, wo Sie schon da sind: Testen Sie die Checkpoint Kurzstrecke und lesen Sie Berlins beliebtesten Newsletter mit allen wichtigen Nachrichten und Aufregern der Stadt. Gratis. Von Herausgeber Lorenz Maroldt Ich bin damit einverstanden, dass mir per E-Mail, telefonisch oder postalisch interessante Angebote der Tagesspiegel-Gruppe unterbreitet werden. Meine Einwilligung kann ich jederzeit widerrufen. Hier finden Sie unsere Datenschutzerklärung . Jetzt anmelden Berlin verlangte von weiterführenden Schulen noch am Freitag\n"
     ]
    }
   ],
   "source": [
    "# Qualitätsprüfung: Text anzeigen artikel_0001.html\n",
    "text_vhh = df_scraped[df_scraped[\"filename\"].isin([\"artikel_0001.html\"])][\"text\"].iloc[0]\n",
    "\n",
    "# Erste 1.000 Zeichen ausgeben\n",
    "print(text_vhh[:1000])"
   ]
  },
  {
   "cell_type": "code",
   "execution_count": 45,
   "id": "b333b1c5",
   "metadata": {},
   "outputs": [
    {
     "name": "stdout",
     "output_type": "stream",
     "text": [
      "© Kitty Kleist-Heinrich Man sei „falsch abgebogen“, sagt Chefin Eva Kreienkamp. Die BVG hatte dagegen geklagt, den Cyber-Sicherheitsstand gegenüber dem Bundesamt nachweisen zu müssen. Stand: 02.04.2021, 16:03 Uhr Der Konflikt schwelt seit Jahren, jetzt ist offenbar ein Ende in Sicht. Die Berliner Verkehrsbetriebe (BVG) geben ihren harten Kurs im Streit mit dem Bundesamt für Sicherheit in der Informationstechnik (BSI) um den Nachweis bestmöglicher Sicherheit gegen Cyberattacken auf. Das Risiko einer Schutzlücke in den IT-Systemen zur Steuerung und Überwachung von U-Bahn, Tram und Bussen scheint nun reduziert zu sein. „Wir haben diesen Donnerstag dem BSI eine Liste mit 23 Mängeln geschickt und damit den Anforderungen Genüge getan“, sagte die BVG-Vorstandsvorsitzende Eva Kreienkamp jetzt dem Tagesspiegel. Die BVG engagierte von sich aus im Februar das Berliner Unternehmen HiSolutions, spezialisiert auf Beratung für „Security und IT-Management“, um die IT-Sicherheit der BVG zu untersuchen.\n"
     ]
    }
   ],
   "source": [
    "# Qualitätsprüfung: Text anzeigen artikel_0000.html\n",
    "text_bvg = df_scraped[df_scraped[\"filename\"].isin([\"artikel_0002.html\"])][\"text\"].iloc[0]\n",
    "\n",
    "# Erste 1.000 Zeichen ausgeben\n",
    "print(text_bvg[:1000])"
   ]
  },
  {
   "cell_type": "code",
   "execution_count": 46,
   "id": "fdc8612e",
   "metadata": {},
   "outputs": [
    {
     "name": "stdout",
     "output_type": "stream",
     "text": [
      "\n",
      "=== BVG — 1108 Artikel gesamt, Stichprobe 2 ===\n",
      "\n",
      "Datei: artikel_1067.html\n",
      "Quelle: ntv  |  Datum: 2024-01-19\n",
      "Überschrift: Berlin & BrandenburgNeuer BVG-Chef: Mehr Sauberkeit und stabileren Busverkehr\n",
      "URL: https://www.n-tv.de/regionales/berlin-und-brandenburg/Neuer-BVG-Chef-Mehr-Sauberkeit-und-stabileren-Busverkehr-article24673550.html\n",
      "\n",
      "(Foto: Sebastian Christoph Gollnow/dpa) Als früherer Chef der Hamburger Hochbahn hat sich Henrik Falk an saubere Busse und Bahnen gewöhnt. Nun leitet er die Berliner Verkehrsbetriebe und sieht dort nicht nur bei diesem Thema Nachholbedarf. Berlin (dpa/bb) - Von einem verlässlich fahrenden, sauberen öffentlichen Personennahverkehr (ÖPNV) waren die Berliner Verkehrsbetriebe (BVG) zuletzt ein Stück weit entfernt: Aufgrund von zu wenigen Busfahrerinnen und Busfahrern fahren viele Linien seit Monaten nur im reduzierten Takt. Ein hoher Krankenstand führte im Dezember zudem zu Ausfällen und Verspätungen auch bei U- und Straßenbahnen - und so mancher Fahrgast meidet nachts lieber bestimmte Linien. Für den neuen BVG-Chef Henrik Falk gibt es also viel zu tun. Zum Beginn des Jahres hat er die Leitung\n",
      "--------------------------------------------------------------------------------\n",
      "\n",
      "Datei: artikel_1234.html\n",
      "Quelle: berliner  |  Datum: 2024-04-11\n",
      "Überschrift: Der Platz für Autos wird halbiert, Radfahrer und BVG-Fahrgäste profitieren. Weitere Umgestaltungen von Magistralen wird es unter der CDU kaum noch geben.\n",
      "URL: https://www.berliner-zeitung.de/mensch-metropole/berlin-schoeneberg-hauptstrasse-wird-umgebaut-aergernis-fuer-autofahrer-li.2204594\n",
      "\n",
      "Der Platz für Autos wird halbiert, Radfahrer und BVG-Fahrgäste profitieren. Weitere Umgestaltungen von Magistralen wird es unter der CDU kaum noch geben. Noch ist es eine Horrorstrecke, sagt Ursula Epe. „Auf dieser Straße Rad zu fahren, ist lebensgefährlich“, klagt die Berlinerin. Auf der Hauptstraße in Schöneberg treiben Kraftfahrer Radfahrer in die Enge und die Stimmung ist aggressiv. Am Mittwoch wurde nun damit begonnen, einen 1200 Meter langen Abschnitt umzugestalten. Radfahrer und Bus-Fahrgäste werden profitieren, doch für Autofahrer halbiert sich der Platz. Es ist ein Vorhaben der Mobilitätswende, das auf Berlins Hauptverkehrsstraßen inzwischen Seltenheitswert hat, seitdem eine CDU -Politikerin Verkehrssenatorin geworden ist. Nachfolgeprojekte auf diesen Teilen des Straßennetzes sind\n",
      "--------------------------------------------------------------------------------\n",
      "\n",
      "=== HVV — 479 Artikel gesamt, Stichprobe 2 ===\n",
      "\n",
      "Datei: artikel_0420.html\n",
      "Quelle: ntv  |  Datum: 2022-07-15\n",
      "Überschrift: Hamburg & Schleswig-HolsteinHVV-Zwischenbilanz: 1,5 Millionen 9-Euro-Tickets verkauft\n",
      "URL: https://www.n-tv.de/regionales/hamburg-und-schleswig-holstein/HVV-Zwischenbilanz-1-5-Millionen-9-Euro-Tickets-verkauft-article23465890.html\n",
      "\n",
      "(Foto: Christian Charisius/dpa/Symbolbi) Hamburg (dpa/lno) - Im Hamburger Verkehrsverbund (HVV) sind bislang 1,5 Millionen 9-Euro-Tickets verkauft worden. Im Monat Juli seien es bisher 570.000 gewesen, teilte der HVV am Freitag mit. Im Vorverkauf für August wollten bereits 130.000 Kunden eine solche Fahrkarte haben. \"Was für ein Halbzeitzeitergebnis\", sagte hvv-Geschäftsführerin Anna-Theresa Korbutt. \"Das 9-Euro-Ticket hat den Aufwärtstrend im hvv nochmals beschleunigt. Nach mehr als zwei Jahren Pandemie haben wir mehr Fahrgäste denn je.\" Vor dem Beginn der Ferienzeit waren den Angaben zufolge im Vergleich zum Juni 2019 fünf Prozent mehr Fahrgäste mit den Bussen, Bahnen und Fähren unterwegs. Das Ticket ist neben App und Onlineshop an fast allen Servicestellen, den Fahrkarten-Automaten und \n",
      "--------------------------------------------------------------------------------\n",
      "\n",
      "Datei: artikel_1130.html\n",
      "Quelle: abendblatt  |  Datum: 2024-02-07\n",
      "Überschrift: AhrensburgHVV hop: Shuttleservice wird wieder eingestellt\n",
      "URL: https://www.abendblatt.de/region/stormarn/article241597752/HVV-hop-Shuttleservice-wird-wieder-eingestellt.html\n",
      "\n",
      "Ahrensburg. Zahl der Fahrgäste steigt auf 6000 im Monat. Doch 800.000 Euro pro Jahr will Ahrensburg nicht allein bezahlen. Was machen andere Orte?   Nachrichten aus Hamburg - Aktuelle Nachrichten und Hintergründe aus Politik, Wirtschaft, Kultur und Sport - aus Hamburg, Deutschland und der Welt. Kennen Sie schon unsere PLUS-Inhalte ? Jetzt Abendblatt testen\n",
      "--------------------------------------------------------------------------------\n",
      "\n",
      "=== MVG — 43 Artikel gesamt, Stichprobe 2 ===\n",
      "\n",
      "Datei: artikel_0961.html\n",
      "Quelle: sz  |  Datum: 2023-11-20\n",
      "Überschrift: Was heute wichtig war\n",
      "URL: https://www.sueddeutsche.de/politik/israel-gaza-krankenhaus-hamas-angriff-argentinien-javier-milei-rosalynn-carter-usa-palmoel-energiewende-mvg-1.6306048\n",
      "\n",
      "Lesezeit: 1 Min. Was heute wichtig ist und wird. Von Katja Guttmann Rechter \"Anarcho-Kapitalist\" Javier Milei gewinnt Präsidentschaftswahl in Argentinien. Der rechts-libertäre Populist der Partei La Libertad Avanza (Die Freiheit schreitet voran) siegt bei den Stichwahlen in Argentinien mit überraschend großem Vorsprung. Der Oppositionspolitiker liegt mit 55,69 Prozent deutlich vor Wirtschaftsminister Sergio Massa von der linken Unión por la Patria mit 44,30 Prozent. Milei will die zweitgrößte Wirtschaft Südamerikas radikal verändern: Er plant die Einführung des US-Dollars. Zum Artikel (SZ Plus) Frühere US-First-Lady Rosalynn Carter ist tot. Die 96 Jahre alte Ehefrau des früheren Präsidenten Jimmy Carter ist in ihrem Heimatort Plains im Bundesstaat Georgia gestorben. Während dessen Amtszeit\n",
      "--------------------------------------------------------------------------------\n",
      "\n",
      "Datei: artikel_0608.html\n",
      "Quelle: sz  |  Datum: 2022-12-30\n",
      "Überschrift: Verkehr in MünchenIm Nahverkehr fehlen Geld und PersonalNur dank einer städtischen Finanzspritze kann die MVG das Angebot bei Bussen und Bahnen aufrechterhalten. Im kommenden Jahr sollen Einstellungen in der Werkstatt und neue Fahrzeuge Entlastung bringen.Von Andreas Schubert\n",
      "URL: https://www.sueddeutsche.de/muenchen/muenchen-mvg-nahverkehr-bilanz-1.5723702\n",
      "\n",
      "Lesezeit: 4 Min. Nur dank einer städtischen Finanzspritze kann die MVG das Angebot bei Bussen und Bahnen aufrechterhalten. Im kommenden Jahr sollen Einstellungen in der Werkstatt und neue Fahrzeuge Entlastung bringen. Von Andreas Schubert Nur mit einer saftigen Geldspritze hat der Münchner Stadtrat Ende November eine Kürzung des Angebots im öffentlichen Nahverkehr verhindert. Denn die Münchner Verkehrsgesellschaft ( MVG ) hatte erklärt, ihr fehlten 24,6 Millionen Euro, weshalb unter anderem Takte ausgedünnt und Strecken verkürzt werden sollten. Die Fehlsumme wird nun aus dem städtischen Haushalt finanziert. Der Nahverkehr in München ist ein Zuschussgeschäft, die rückläufigen Passagierzahlen während der Corona-Pandemie haben die Situation noch einmal verschärft, weil Fahrgeldeinnahmen fehle\n",
      "--------------------------------------------------------------------------------\n",
      "\n",
      "=== VHH — 50 Artikel gesamt, Stichprobe 2 ===\n",
      "\n",
      "Datei: artikel_0579.html\n",
      "Quelle: abendblatt  |  Datum: 2022-12-03\n",
      "Überschrift: Kreis PinnebergSchenefeld: Gericht entscheidet Streit um Busbetriebshof\n",
      "URL: https://www.abendblatt.de/region/pinneberg/article237058415/schenefeld-vhh-busse-buslinien-gericht-urteil-baugenehmigung.html\n",
      "\n",
      "Schenefeld. Stadt hat Projekt lange bekämpft, fühlt sich übergangen. Politiker sprechen von Trickserei. Die VHH kündigen schnelle Bebauung an.   Nachrichten aus Hamburg - Aktuelle Nachrichten und Hintergründe aus Politik, Wirtschaft, Kultur und Sport - aus Hamburg, Deutschland und der Welt. Kennen Sie schon unsere PLUS-Inhalte ? Jetzt Abendblatt testen\n",
      "--------------------------------------------------------------------------------\n",
      "\n",
      "Datei: artikel_1661.html\n",
      "Quelle: welt  |  Datum: 2025-01-31\n",
      "Überschrift: Warnstreik beim Busunternehmen VHH begonnen\n",
      "URL: https://www.welt.de/regionales/hamburg/article255296112/Warnstreik-beim-Busunternehmen-VHH-begonnen.html\n",
      "\n",
      "Hauptnavigation: Nutzen Sie die Tabulatortaste, um durch die Menüpunkte zu navigieren. Öffnen Sie Untermenüs mit der Leertaste. Schließen Sie Untermenüs mit der Escape-Taste. Hauptnavigation: Nutzen Sie die Tabulatortaste, um durch die Menüpunkte zu navigieren. Öffnen Sie Untermenüs mit der Leertaste. In Hamburg und dem schleswig-holsteinischen Umland bleiben viele Busse wegen eines Warnstreiks in den Depots. Doch nicht überall stehen die Räder still. Beschäftigte der Verkehrsbetriebe Hamburg-Holstein (VHH) haben am frühen Morgen ihren 24-stündigen Warnstreik begonnen. Bislang stehen alle betroffenen Buslinien still, wie ein Sprecher der Gewerkschaft Verdi sagte. Vhh.mobility geht davon aus, mit dem Streikbeginn nur auf wenigen vereinzelten Linien den Betrieb aufnehmen zu können. Die VHH b\n",
      "--------------------------------------------------------------------------------\n",
      "\n",
      "=== HOCHBAHN — 112 Artikel gesamt, Stichprobe 2 ===\n",
      "\n",
      "Datei: artikel_0649.html\n",
      "Quelle: welt  |  Datum: 2023-02-01\n",
      "Überschrift: WarnstreikHamburger U-Bahnen und Hochbahn-Busse fahren heute nicht\n",
      "URL: https://www.welt.de/regionales/hamburg/article243536355/Warnstreik-Hamburger-U-Bahnen-und-Hochbahn-Busse-fahren-heute-nicht.html\n",
      "\n",
      "Hauptnavigation: Nutzen Sie die Tabulatortaste, um durch die Menüpunkte zu navigieren. Öffnen Sie Untermenüs mit der Leertaste. Schließen Sie Untermenüs mit der Escape-Taste. Hauptnavigation: Nutzen Sie die Tabulatortaste, um durch die Menüpunkte zu navigieren. Öffnen Sie Untermenüs mit der Leertaste. An den U-Bahnhöfen und Hochbahn-Bushaltestellen der Hansestadt bleibt es still. Wie angekündigt sind Beschäftigte der Hochbahn in einen 24-stündigen Warnstreik getreten. Auch die Schulbehörde reagiert auf die Sitution. Beschäftigte der Hochbahn sind am frühen Mittwochmorgen in einen 24-stündigen Warnstreik getreten. Seit 3.00 Uhr fahren in Hamburg U-Bahnen und Hochbahn-Busse nicht mehr, wie Verdi-Gewerkschaftssekretärin Magdalene Waldeck am frühen Morgen sagte. „Wir gehen davon aus, dass gar \n",
      "--------------------------------------------------------------------------------\n",
      "\n",
      "Datei: artikel_1264.html\n",
      "Quelle: abendblatt  |  Datum: 2024-04-29\n",
      "Überschrift: Zugunglück am HauptbahnhofHochbahn zu spät informiert? S-Bahn Hamburg in der KritikHamburg.Der Zugunfall am Freitag sorgte für überfüllte Busse und Chaos im Nahverkehr. Abendblatt-Recherche wirft Frage zum Krisenmanagement auf.\n",
      "URL: https://www.abendblatt.de/hamburg/article242202396/Hochbahn-zu-spaet-informiert-S-Bahn-Hamburg-in-der-Kritik.html\n",
      "\n",
      "Redakteur Hamburg. Der Zugunfall am Freitag sorgte für überfüllte Busse und Chaos im Nahverkehr. Abendblatt-Recherche wirft Frage zum Krisenmanagement auf.   Nachrichten aus Hamburg - Aktuelle Nachrichten und Hintergründe aus Politik, Wirtschaft, Kultur und Sport - aus Hamburg, Deutschland und der Welt. Kennen Sie schon unsere PLUS-Inhalte ? Jetzt Abendblatt testen\n",
      "--------------------------------------------------------------------------------\n"
     ]
    }
   ],
   "source": [
    "# Einfacher Qualitätscheck: 2 Artikel je Keyword, Auszug drucken\n",
    "keywords = [\"bvg\", \"hvv\", \"mvg\", \"vhh\", \"hochbahn\"]\n",
    "max_chars = 800  # Länge des Auszugs\n",
    "\n",
    "for kw in keywords:\n",
    "    df_kw = df_scraped[(df_scraped[\"keyword\"].str.lower() == kw) & df_scraped[\"text\"].notna()]\n",
    "    if df_kw.empty:\n",
    "        print(f\"\\n=== {kw.upper()} ===\\nKeine Artikel gefunden.\")\n",
    "        continue\n",
    "\n",
    "    sample = df_kw.sample(n=min(2, len(df_kw)), random_state=42)\n",
    "\n",
    "    print(f\"\\n=== {kw.upper()} — {len(df_kw)} Artikel gesamt, Stichprobe {len(sample)} ===\")\n",
    "    for _, row in sample.iterrows():\n",
    "        print(f\"\\nDatei: {row.get('filename','?')}\")\n",
    "        print(f\"Quelle: {row.get('source','?')}  |  Datum: {row.get('date','?')}\")\n",
    "        print(f\"Überschrift: {row.get('headline','?')}\")\n",
    "        print(f\"URL: {row.get('url','?')}\\n\")\n",
    "        txt = str(row[\"text\"]).replace(\"\\n\", \" \").strip()\n",
    "        print(txt[:max_chars])\n",
    "        print(\"-\" * 80)"
   ]
  },
  {
   "cell_type": "code",
   "execution_count": 26,
   "id": "35b0adf8",
   "metadata": {},
   "outputs": [
    {
     "name": "stdout",
     "output_type": "stream",
     "text": [
      "error\n",
      "exception: 'utf-8' codec can't decode byte 0xff in position 21: invalid start byte    3\n",
      "empty_text                                                                            2\n",
      "Name: count, dtype: int64\n"
     ]
    }
   ],
   "source": [
    "# Fehlerhafte Seiten laden\n",
    "df_scraped_failed = pd.read_csv(FAILED_PATH_RAW_ARTIKEL)\n",
    "\n",
    "# Überblick\n",
    "print(df_scraped_failed[\"error\"].value_counts())"
   ]
  },
  {
   "cell_type": "code",
   "execution_count": 27,
   "id": "4805ecd5",
   "metadata": {},
   "outputs": [
    {
     "name": "stdout",
     "output_type": "stream",
     "text": [
      "count     1792.000000\n",
      "mean      2603.439732\n",
      "std       3989.846207\n",
      "min         92.000000\n",
      "25%        375.000000\n",
      "50%       1169.000000\n",
      "75%       3453.500000\n",
      "max      72345.000000\n",
      "Name: text_length, dtype: float64\n"
     ]
    }
   ],
   "source": [
    "# Textlängen prüfen: Neue Spalte hinzufügen\n",
    "df_scraped[\"text_length\"] = df_scraped[\"text\"].astype(str).str.len()\n",
    "print(df_scraped[\"text_length\"].describe())"
   ]
  },
  {
   "cell_type": "code",
   "execution_count": 28,
   "id": "8bbd106a",
   "metadata": {},
   "outputs": [
    {
     "data": {
      "text/html": [
       "<div>\n",
       "<style scoped>\n",
       "    .dataframe tbody tr th:only-of-type {\n",
       "        vertical-align: middle;\n",
       "    }\n",
       "\n",
       "    .dataframe tbody tr th {\n",
       "        vertical-align: top;\n",
       "    }\n",
       "\n",
       "    .dataframe thead th {\n",
       "        text-align: right;\n",
       "    }\n",
       "</style>\n",
       "<table border=\"1\" class=\"dataframe\">\n",
       "  <thead>\n",
       "    <tr style=\"text-align: right;\">\n",
       "      <th></th>\n",
       "      <th>filename</th>\n",
       "      <th>text_length</th>\n",
       "    </tr>\n",
       "  </thead>\n",
       "  <tbody>\n",
       "    <tr>\n",
       "      <th>750</th>\n",
       "      <td>artikel_0761.html</td>\n",
       "      <td>72345</td>\n",
       "    </tr>\n",
       "    <tr>\n",
       "      <th>1267</th>\n",
       "      <td>artikel_1301.html</td>\n",
       "      <td>68010</td>\n",
       "    </tr>\n",
       "  </tbody>\n",
       "</table>\n",
       "</div>"
      ],
      "text/plain": [
       "               filename  text_length\n",
       "750   artikel_0761.html        72345\n",
       "1267  artikel_1301.html        68010"
      ]
     },
     "execution_count": 28,
     "metadata": {},
     "output_type": "execute_result"
    }
   ],
   "source": [
    "# Auffälligkeiten prüfen: Verteilung lange Texte\n",
    "df_scraped[df_scraped[\"text_length\"] > 50000][[\"filename\", \"text_length\"]]"
   ]
  },
  {
   "cell_type": "code",
   "execution_count": 29,
   "id": "37ba5691",
   "metadata": {},
   "outputs": [
    {
     "name": "stdout",
     "output_type": "stream",
     "text": [
      "+++ Aktivisten kleben am Sonntag auf Straße am Hauptbahnhof +++ Klimaaktivisten färben Brunnen schwarz +++ Alle Infos im Newsblog Letzte Generation: Erste Klima-Kleberin in Berlin zu Haft ohne Bewährung verurteilt 26.04.2023 Berlin: Letzte Generation bezichtigt andere der Lüge – und was tut sie selbst? 25.04.2023 Berlins Polizeipräsidentin Barbara Slowik hat körperlichen Zwang von Polizisten gegen Klimaaktivisten bei Straßenblockaden verteidigt. Zu Vorwürfen der Polizeigewalt sagte Slowik der Berliner Morgenpost: „Kommt eine Person unseren Aufforderungen, eine Straße zu verlassen, nicht nach, wenden wir gegen sie Maßnahmen des unmittelbaren Zwangs an. Dafür gibt es eine gesetzliche Grundlage, auf der die Polizei, die in diesem Staat das Gewaltmonopol hat, Gewalt anwenden darf.“ Hintergrund sind Videoaufnahmen , in denen ein Polizist einem auf der Straße sitzenden Mann ankündigt, er werde Schmerzen erleiden, falls er die Fahrbahn nicht räume. Anschließend packt der Polizist den Demonstr\n"
     ]
    }
   ],
   "source": [
    "# Auffälligkeiten prüfen: Text anzeigen artikel_0761.html\n",
    "text = df_scraped[df_scraped[\"filename\"].isin([\"artikel_0761.html\"])][\"text\"].iloc[0]\n",
    "\n",
    "# Erste 1.000 Zeichen ausgeben\n",
    "print(text[:1000])"
   ]
  },
  {
   "cell_type": "markdown",
   "id": "9abee423",
   "metadata": {},
   "source": [
    "#### 5. Bereinigung und Zerlegung der Artikeltexte in Wörter"
   ]
  },
  {
   "cell_type": "code",
   "execution_count": 30,
   "id": "af1a31f0",
   "metadata": {},
   "outputs": [],
   "source": [
    "# Vorbereitung\n",
    "# Stoppwörter laden\n",
    "stopwords_list = load_stopwords()\n",
    "\n",
    "# Funktion: Einen Artikel verarbeiten und Wortfrequenzen zählen\n",
    "def process_article(row):\n",
    "    try:\n",
    "        text = row[\"text\"]\n",
    "        \n",
    "        # Sicherstellen, dass ein Text da ist, sonst überspringen\n",
    "        if pd.isnull(text) or not isinstance(text, str):\n",
    "            return pd.DataFrame()\n",
    "\n",
    "        words = clean_and_split_text(text, stopwords_list)\n",
    "\n",
    "        # Wortfrequenzen zählen\n",
    "        count = pd.Series(words).value_counts()\n",
    "        count_df = count.reset_index()\n",
    "        count_df.columns = [\"word\", \"count\"]\n",
    "        count_df[\"source\"] = row[\"source\"]\n",
    "        count_df[\"cluster\"] = medium_to_cluster.get(row[\"source\"], \"Unbekannt\")\n",
    "        count_df[\"date\"] = row[\"date\"]\n",
    "        count_df[\"url\"] = row[\"url\"]\n",
    "        count_df[\"keyword\"] = row.get(\"keyword\", None)\n",
    "        count_df[\"year\"] = pd.to_datetime(row[\"date\"], errors=\"coerce\").year\n",
    "\n",
    "        return count_df\n",
    "\n",
    "    except Exception as e:\n",
    "        print(f\"[WARNING] Fehler bei Artikel {row.get('url', 'unbekannt')}: {e}\")\n",
    "        return pd.DataFrame()"
   ]
  },
  {
   "cell_type": "code",
   "execution_count": 31,
   "id": "c96918a6",
   "metadata": {},
   "outputs": [
    {
     "name": "stdout",
     "output_type": "stream",
     "text": [
      "[INFO] Wortfrequenzen mit Keywords gespeichert unter: D:/DBU/ADSC11 ADS-01/Studienarbeit/newspaper-scraping\\output\\artikel_counts.csv\n",
      "Anzahl verarbeiteter Artikel: 1792\n"
     ]
    }
   ],
   "source": [
    "# Verarbeitungsfunktion anwenden\n",
    "# Artikel laden\n",
    "df_scraped_final = pd.read_csv(CSV_PATH_RAW_ARTIKEL) \n",
    "\n",
    "# Wortfrequenzen sammeln\n",
    "collection = []\n",
    "for _, row in df_scraped_final.iterrows():\n",
    "    count_df = process_article(row)\n",
    "    if not count_df.empty:\n",
    "        collection.append(count_df)\n",
    "\n",
    "# Alle Ergebnisse zusammenführen\n",
    "if collection:\n",
    "    df_counts = pd.concat(collection, ignore_index=True)\n",
    "    df_counts.to_csv(CSV_PATH_COUNTS, index=False)\n",
    "    print(f\"[INFO] Wortfrequenzen mit Keywords gespeichert unter: {CSV_PATH_COUNTS}\")\n",
    "    print(\"Anzahl verarbeiteter Artikel:\", df_scraped_final.shape[0])\n",
    "else:\n",
    "    print(\"[WARNING] Keine Wortfrequenzen berechnet.\")"
   ]
  }
 ],
 "metadata": {
  "kernelspec": {
   "display_name": ".venv",
   "language": "python",
   "name": "python3"
  },
  "language_info": {
   "codemirror_mode": {
    "name": "ipython",
    "version": 3
   },
   "file_extension": ".py",
   "mimetype": "text/x-python",
   "name": "python",
   "nbconvert_exporter": "python",
   "pygments_lexer": "ipython3",
   "version": "3.11.0"
  }
 },
 "nbformat": 4,
 "nbformat_minor": 5
}

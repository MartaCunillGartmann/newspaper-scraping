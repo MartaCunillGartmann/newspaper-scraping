{
 "cells": [
  {
   "cell_type": "markdown",
   "id": "c63b0cd8-f07a-4d08-917e-e19168fe12d7",
   "metadata": {},
   "source": [
    "### Ziel: Die benötigten Dateien aus \"downloaded_zip\" entpacken"
   ]
  },
  {
   "cell_type": "code",
   "execution_count": 14,
   "id": "f96df4ba-a813-4e82-a36e-4149963bd16d",
   "metadata": {},
   "outputs": [],
   "source": [
    "# Benötigte Pakete importieren\n",
    "import os\n",
    "from glob import glob\n",
    "import tarfile"
   ]
  },
  {
   "cell_type": "code",
   "execution_count": 15,
   "id": "a9966097-f518-4e15-a890-ce37773747dd",
   "metadata": {},
   "outputs": [],
   "source": [
    "# 1. Pfade definieren\n",
    "# Ordner mit .tar.gz-Dateien\n",
    "ZIP_PATH = \"input/raw/downloaded_zips\"\n",
    "\n",
    "# Zielordner HTML-Dateien\n",
    "HTML_OUTPUT_PATH = \"input/raw/data-lake\""
   ]
  },
  {
   "cell_type": "code",
   "execution_count": null,
   "id": "6f7a4d13-fadf-49c1-8e49-e315bd3b314c",
   "metadata": {},
   "outputs": [],
   "source": [
    "def extract_tar_file(filepath, target_folder):\n",
    "    with tarfile.open(filepath, \"r:gz\") as tar:\n",
    "        tar.extractall(path=target_folder)\n",
    "    print(f\"Entpackt: {filepath} → {target_folder}\")\n",
    "\n",
    "def extract_all_tars(base_path, output_path):\n",
    "    tar_pattern = os.path.join(base_path, \"*.tar.gz\")\n",
    "    tar_files = glob(tar_pattern)\n",
    "\n",
    "    for filepath in tar_files:\n",
    "        # Monatsordner wie \"2025-02\" erzeugen\n",
    "        filename = os.path.basename(filepath)\n",
    "        name_without_ext = filename.replace(\".tar.gz\", \"\")\n",
    "        month_folder = \"-\".join(name_without_ext.split(\"-\")[:2])\n",
    "        target_folder = os.path.join(output_path, month_folder)\n",
    "\n",
    "        # Zielordner anlegen (falls nicht vorhanden)\n",
    "        os.makedirs(target_folder, exist_ok=True)\n",
    "\n",
    "        # Datei entpacken\n",
    "        extract_tar_file(filepath, target_folder)\n",
    "\n",
    "# Beispielverwendung\n",
    "ZIP_PATH = \"input/raw/downloaded_zips\"\n",
    "HTML_OUTPUT_PATH = \"input/raw/data-lake\"\n",
    "\n",
    "extract_all_tars(ZIP_PATH, HTML_OUTPUT_PATH)"
   ]
  },
  {
   "cell_type": "code",
   "execution_count": null,
   "id": "c517cf6b-8ac3-4333-bce7-8d70fd6c7cf2",
   "metadata": {},
   "outputs": [],
   "source": [
    "# 2. Alle .tar.gz-Dateien durchgehen\n",
    "zip_files = ZIP_PATH.glob(\"*.tar.gz\")\n",
    "\n",
    "for zip_file in zip_files:\n",
    "    # Namen extrahieren, z. B. 2025-02-01.tar.gz → 2025-02\n",
    "    name = zip_file.stem  # ergibt z. B. \"2025-02-01\"\n",
    "    month = \"-\".join(name.split(\"-\")[:2])  # → \"2025-02\"\n",
    "    \n",
    "    # Zielordner für diesen Monat erstellen\n",
    "    target_folder = Path(HTML_OUTPUT_PATH) / month\n",
    "    target_folder.mkdir(parents=True, exist_ok=True)\n",
    "\n",
    "    # Archiv entpacken\n",
    "    with tarfile.open(zip_file, \"r:gz\") as tar:\n",
    "        tar.extractall(path=target_folder)\n",
    "\n",
    "    print(f\"✅ Entpackt: {zip_file.name} → {target_folder}\")"
   ]
  }
 ],
 "metadata": {
  "kernelspec": {
   "display_name": "Python 3 (ipykernel)",
   "language": "python",
   "name": "python3"
  },
  "language_info": {
   "codemirror_mode": {
    "name": "ipython",
    "version": 3
   },
   "file_extension": ".py",
   "mimetype": "text/x-python",
   "name": "python",
   "nbconvert_exporter": "python",
   "pygments_lexer": "ipython3",
   "version": "3.12.1"
  }
 },
 "nbformat": 4,
 "nbformat_minor": 5
}
